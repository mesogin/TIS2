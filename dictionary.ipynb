{
  "nbformat": 4,
  "nbformat_minor": 0,
  "metadata": {
    "colab": {
      "provenance": [],
      "authorship_tag": "ABX9TyNitSipoOm3tmY/C5gfpRYY",
      "include_colab_link": true
    },
    "kernelspec": {
      "name": "python3",
      "display_name": "Python 3"
    },
    "language_info": {
      "name": "python"
    }
  },
  "cells": [
    {
      "cell_type": "markdown",
      "metadata": {
        "id": "view-in-github",
        "colab_type": "text"
      },
      "source": [
        "<a href=\"https://colab.research.google.com/github/mesogin/TIS2/blob/main/dictionary.ipynb\" target=\"_parent\"><img src=\"https://colab.research.google.com/assets/colab-badge.svg\" alt=\"Open In Colab\"/></a>"
      ]
    },
    {
      "cell_type": "code",
      "source": [
        "#딕셔너리 추가\n",
        "x = {'A': 1, 'B': 2, 'C': 3}\n",
        "x[\"D\"] = 4\n",
        "print(x)"
      ],
      "metadata": {
        "id": "8UnJEy77eKG3"
      },
      "execution_count": null,
      "outputs": []
    },
    {
      "cell_type": "markdown",
      "source": [],
      "metadata": {
        "id": "aDGEkZS_jZC2"
      }
    },
    {
      "cell_type": "code",
      "source": [
        "my_profile = {'name' : \"김주교\", 'dong' : \"청라3동\", 'color' : \"skyblue\"}\n",
        "print(my_profile)\n",
        "#기존 프로필에 좋아하는 숫자를 입력해주세요\n",
        "my_profile['number'] = 2\n",
        "print(my_profile)\n",
        "#잘못 기입한 이름을 고쳐주세요\n",
        "my_profile['name'] = \"김중교\"\n",
        "print(my_profile)\n",
        "#이름은 개인정보에 해당하니 * 처리 해주세요\n",
        "add = \"\"\n",
        "for i in range(0, len(my_profile['name'])):\n",
        "    add= add+\"*\"\n",
        "    my_profile['name'] = add\n",
        "print(my_profile)\n",
        "#좋아하는 운동 추가 (2가지이상)\n",
        "my_profile['favorite_sports'] = {1: \"축구\", 2: \"야구\"}\n",
        "print(my_profile)\n",
        "print(my_profile['favorite_sports'][1])"
      ],
      "metadata": {
        "id": "zDwcvNjheM5t"
      },
      "execution_count": null,
      "outputs": []
    },
    {
      "cell_type": "code",
      "source": [],
      "metadata": {
        "id": "UYQ7F7dyfqDP"
      },
      "execution_count": null,
      "outputs": []
    }
  ]
}