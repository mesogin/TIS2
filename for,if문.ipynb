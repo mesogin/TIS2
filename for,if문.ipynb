{
  "nbformat": 4,
  "nbformat_minor": 0,
  "metadata": {
    "colab": {
      "provenance": [],
      "authorship_tag": "ABX9TyM0oufRWSdMm62keku6LikN",
      "include_colab_link": true
    },
    "kernelspec": {
      "name": "python3",
      "display_name": "Python 3"
    },
    "language_info": {
      "name": "python"
    }
  },
  "cells": [
    {
      "cell_type": "markdown",
      "metadata": {
        "id": "view-in-github",
        "colab_type": "text"
      },
      "source": [
        "<a href=\"https://colab.research.google.com/github/mesogin/TIS2/blob/main/for%2Cif%EB%AC%B8.ipynb\" target=\"_parent\"><img src=\"https://colab.research.google.com/assets/colab-badge.svg\" alt=\"Open In Colab\"/></a>"
      ]
    },
    {
      "cell_type": "code",
      "source": [
        "#1~100 까지 짝수합 구하기\n",
        "result = 0\n",
        "for i in range (2, 101, 2):\n",
        "  #result = result + i\n",
        "  result += i\n",
        "  print(result)"
      ],
      "metadata": {
        "id": "mpgrH3A8Luxb"
      },
      "execution_count": null,
      "outputs": []
    },
    {
      "cell_type": "code",
      "source": [
        "#if 문을 사용하여 짝수합 구하기\n",
        "result = 0\n",
        "for i in range (1, 101):\n",
        "  if i % 2 == 0 :\n",
        "    result += i\n",
        "    print(result)\n",
        "  "
      ],
      "metadata": {
        "id": "ZPwAFIhgMW4C"
      },
      "execution_count": null,
      "outputs": []
    }
  ]
}