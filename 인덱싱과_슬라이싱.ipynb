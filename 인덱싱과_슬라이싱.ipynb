{
  "nbformat": 4,
  "nbformat_minor": 0,
  "metadata": {
    "colab": {
      "provenance": [],
      "authorship_tag": "ABX9TyMJ9Ini8xB2dOSqOQm9+g5E",
      "include_colab_link": true
    },
    "kernelspec": {
      "name": "python3",
      "display_name": "Python 3"
    },
    "language_info": {
      "name": "python"
    }
  },
  "cells": [
    {
      "cell_type": "markdown",
      "metadata": {
        "id": "view-in-github",
        "colab_type": "text"
      },
      "source": [
        "<a href=\"https://colab.research.google.com/github/mesogin/TIS2/blob/main/%EC%9D%B8%EB%8D%B1%EC%8B%B1%EA%B3%BC_%EC%8A%AC%EB%9D%BC%EC%9D%B4%EC%8B%B1.ipynb\" target=\"_parent\"><img src=\"https://colab.research.google.com/assets/colab-badge.svg\" alt=\"Open In Colab\"/></a>"
      ]
    },
    {
      "cell_type": "markdown",
      "source": [
        "#인덱싱과 슬라이싱\n",
        "1차원의 경우 앞에서부터는 **0, 1, 2** 뒤에서 부터는 **-1 -2 -3** 순서대로 셉니다.  \n",
        "2차원의 경우 각 차원의 위치에서 요소를 튜플로 접근합니다. 예를들어 **(n,m) n번째 행, m번째 열** 로 접근합니다."
      ],
      "metadata": {
        "id": "IDkp1ktkobv6"
      }
    },
    {
      "cell_type": "code",
      "source": [
        "import numpy as np\n",
        "x = [[1, 2], [3, 4]]\n",
        "print('리스트 자료형')\n",
        "print(x)\n",
        "print(x[1][0])\n",
        "\n",
        "#ndarray 로 행 변환\n",
        "arr = np.array(x)\n",
        "print('넘파이 배열')\n",
        "print(arr)\n",
        "print(arr[1,0])\n"
      ],
      "metadata": {
        "colab": {
          "base_uri": "https://localhost:8080/"
        },
        "id": "fgiH3WZ-ohlo",
        "outputId": "5ceed7f7-9b89-47e6-8b42-5e95792e8b1c"
      },
      "execution_count": 3,
      "outputs": [
        {
          "output_type": "stream",
          "name": "stdout",
          "text": [
            "리스트 자료형\n",
            "[[1, 2], [3, 4]]\n",
            "3\n",
            "넘파이 배열\n",
            "[[1 2]\n",
            " [3 4]]\n",
            "3\n"
          ]
        }
      ]
    },
    {
      "cell_type": "markdown",
      "source": [
        "###리스트를 이용한 인덱싱과 슬라이싱\n",
        "ndarray 는 인덱스 리스트를 바탕으로 동시에 둘이상의 요소에 접근 가능하다.  \n",
        "주의할 점은 X[인덱스] 형태로 인덱싱하므로 괄호를 2개 사용된다는 점이다."
      ],
      "metadata": {
        "id": "IbtlxlT0t9aO"
      }
    },
    {
      "cell_type": "code",
      "source": [
        "arr = np.arange(1,10)\n",
        "print(arr[[0,3]])"
      ],
      "metadata": {
        "colab": {
          "base_uri": "https://localhost:8080/"
        },
        "id": "4Szzbz7buGO3",
        "outputId": "1b5b5949-ddb1-4699-9d05-3b0424ac3ca6"
      },
      "execution_count": 4,
      "outputs": [
        {
          "output_type": "stream",
          "name": "stdout",
          "text": [
            "[1 4]\n"
          ]
        }
      ]
    },
    {
      "cell_type": "code",
      "source": [
        "X = np.array([[1, 2, 3], [4, 5, 6], [7, 8, 9]])\n",
        "# print('X배열: \\n', X)\n",
        "display('X배열: ', X)\n",
        "print('='*20)\n",
        "\n",
        "print(X[0, 1])  # 0행 1열에 있는 값 출력\n",
        "print(X[[0,1]]) # 0번째 요소, 1번째 요소 출력\n",
        "\n",
        "#연습문제\n",
        "#모든행, 2번째열 출력\n",
        "print(X[:,2])"
      ],
      "metadata": {
        "colab": {
          "base_uri": "https://localhost:8080/",
          "height": 181
        },
        "id": "FUKIdqGduijH",
        "outputId": "670e2e05-086b-4fd2-df58-4f174ebb40a9"
      },
      "execution_count": 8,
      "outputs": [
        {
          "output_type": "display_data",
          "data": {
            "text/plain": [
              "'X배열: '"
            ],
            "application/vnd.google.colaboratory.intrinsic+json": {
              "type": "string"
            }
          },
          "metadata": {}
        },
        {
          "output_type": "display_data",
          "data": {
            "text/plain": [
              "array([[1, 2, 3],\n",
              "       [4, 5, 6],\n",
              "       [7, 8, 9]])"
            ]
          },
          "metadata": {}
        },
        {
          "output_type": "stream",
          "name": "stdout",
          "text": [
            "====================\n",
            "2\n",
            "[[1 2 3]\n",
            " [4 5 6]]\n",
            "[3 6 9]\n"
          ]
        }
      ]
    },
    {
      "cell_type": "code",
      "source": [
        "#다음 넘파이 배열 대상으로 요구하는 행과 열을 추출하시오\n",
        "arr = np.arange(30).reshape(5,6)\n",
        "display(arr)\n",
        "print(\"=\"*30)\n",
        "#1. 1번째 행 추출\n",
        "print(f\"1번째 행 : {arr[1, :]}\")\n",
        "\n",
        "#2. 0번째 열 추출\n",
        "print(f\"0번째 열 : {arr[:, 0]}\")\n",
        "#3. 1~3번째 행, 0~2번째 열 추출\n",
        "print(f\"1~3번째행, 0~2번째 열 : {arr[1:4, 0:3]}\")\n",
        "\n",
        "#4. 2번째 행, 3~5번째열 추출\n",
        "print(f\"2번째 행, 3~5번째 열 : {arr[2, 3:6]}\")\n",
        "\n",
        "#5. 2~4번째 행, 3번째 열 추출\n",
        "print(f\"2~4번쨰행, 3번째 열 : {arr[2:5, 3]}\")"
      ],
      "metadata": {
        "colab": {
          "base_uri": "https://localhost:8080/",
          "height": 253
        },
        "id": "PI5iJvWvvJ-I",
        "outputId": "e976ce9f-87fc-49c1-e154-fb8a0ff78a95"
      },
      "execution_count": 17,
      "outputs": [
        {
          "output_type": "display_data",
          "data": {
            "text/plain": [
              "array([[ 0,  1,  2,  3,  4,  5],\n",
              "       [ 6,  7,  8,  9, 10, 11],\n",
              "       [12, 13, 14, 15, 16, 17],\n",
              "       [18, 19, 20, 21, 22, 23],\n",
              "       [24, 25, 26, 27, 28, 29]])"
            ]
          },
          "metadata": {}
        },
        {
          "output_type": "stream",
          "name": "stdout",
          "text": [
            "==============================\n",
            "1번째 행 : [ 6  7  8  9 10 11]\n",
            "0번째 열 : [ 0  6 12 18 24]\n",
            "1~3번째행, 0~2번째 열 : [[ 6  7  8]\n",
            " [12 13 14]\n",
            " [18 19 20]]\n",
            "2번째 행, 3~5번째 열 : [15 16 17]\n",
            "2~4번쨰행, 3번째 열 : [15 21 27]\n"
          ]
        }
      ]
    },
    {
      "cell_type": "code",
      "source": [
        "#연습문제\n",
        "#오늘의 메뉴를 넘파이 인덱싱 및 슬라이싱 활용하여 추출하기\n",
        "weekly_lunch = [['백미밥/잡곡밥', '육개장', '두부양념조림', '할라마요함박스테이크', '시금치고추장무침', '콩나물볶음 / 포기김치'], \n",
        "                ['백미밥/잡곡밥', '김치수제비', '부대햄야채볶음', '야채계란찜', '수제양념깻잎지', '건파래볶음 / 포기김치'], \n",
        "                ['백미밥/잡곡밥','배추된장국','닭볶음탕(김치)','사각어묵야채볶음','브로콜리,물미역&초장','상추겉절이 / 포기김치'], \n",
        "                ['백미밥/잡곡밥', '돈육김치찌개', '김치스파게티', '청파래생선까스 & 어니언소스', '느타리유부무침', '미역줄기볶음 / 포기김치'],\n",
        "                ['백미밥/잡곡밥', '콩나물김치국', '간장불고기', '야채비빔만두', '도토리묵&달래장', '부추겉절이 / 포기김치']]\n",
        "\n",
        "#넘파이 배열로 변환\n",
        "weekly_lunch_arr = np.array(weekly_lunch)\n",
        "# print(weekly_lunch_arr)\n",
        "\n",
        "# 1. 인덱싱이나 슬라이싱을 활용하여 오늘(수요일)의 메뉴를 출력하시오.\n",
        "print(f\"수요일 메뉴 : {weekly_lunch_arr[2,:]}\")\n",
        "\n",
        "# 2. 인텍싱이나 슬라이싱을 활용하여 오늘(수요일)의 국을 출력하시오.\n",
        "print(f\"수요일 국 : {weekly_lunch_arr[2,1]}\")\n",
        "\n",
        "# 3. 인덱싱이나 슬라이싱을 활용하여 이번 주의 국을 모두 출력하시오.\n",
        "print(f\"이번 주의 국 : {weekly_lunch_arr[:,1]}\")"
      ],
      "metadata": {
        "colab": {
          "base_uri": "https://localhost:8080/"
        },
        "id": "BtySQS1o0Hs9",
        "outputId": "53fda2f2-65de-4f57-fb5b-766bd4932f3f"
      },
      "execution_count": 25,
      "outputs": [
        {
          "output_type": "stream",
          "name": "stdout",
          "text": [
            "수요일 메뉴 : ['백미밥/잡곡밥' '배추된장국' '닭볶음탕(김치)' '사각어묵야채볶음' '브로콜리,물미역&초장' '상추겉절이 / 포기김치']\n",
            "수요일 국 : 배추된장국\n",
            "이번 주의 국 : ['육개장' '김치수제비' '배추된장국' '돈육김치찌개' '콩나물김치국']\n"
          ]
        }
      ]
    },
    {
      "cell_type": "code",
      "source": [
        "#연습문제\n",
        "#오늘의 메뉴를 넘파이 인덱싱 및 슬라이싱 활용하여 추출하기\n",
        "weekly_lunch = [['백미밥/잡곡밥', '육개장', '두부양념조림', '할라마요함박스테이크', '시금치고추장무침', '콩나물볶음 / 포기김치'], \n",
        "                ['백미밥/잡곡밥', '김치수제비', '부대햄야채볶음', '야채계란찜', '수제양념깻잎지', '건파래볶음 / 포기김치'], \n",
        "                ['백미밥/잡곡밥','배추된장국','닭볶음탕(김치)','사각어묵야채볶음','브로콜리,물미역&초장','상추겉절이 / 포기김치'], \n",
        "                ['백미밥/잡곡밥', '돈육김치찌개', '김치스파게티', '청파래생선까스 & 어니언소스', '느타리유부무침', '미역줄기볶음 / 포기김치'],\n",
        "                ['백미밥/잡곡밥', '콩나물김치국', '간장불고기', '야채비빔만두', '도토리묵&달래장', '부추겉절이 / 포기김치']]\n",
        "\n",
        "#넘파이 배열로 변환\n",
        "weekly_lunch_arr = np.array(weekly_lunch)\n",
        "# print(weekly_lunch_arr)\n",
        "\n",
        "# 1. 인덱싱이나 슬라이싱을 활용하여 오늘(수요일)의 메뉴를 출력하시오.\n",
        "print(f\"수요일 메뉴 : {weekly_lunch_arr[2,:]}\")\n",
        "\n",
        "# 2. 인텍싱이나 슬라이싱을 활용하여 오늘(수요일)의 국을 출력하시오.\n",
        "print(f\"수요일 국 : {weekly_lunch_arr[2,1]}\")\n",
        "\n",
        "# 3. 인덱싱이나 슬라이싱을 활용하여 이번 주의 국을 모두 출력하시오.\n",
        "print(f\"이번 주의 국 : {weekly_lunch_arr[:,1]}\")"
      ],
      "metadata": {
        "colab": {
          "base_uri": "https://localhost:8080/"
        },
        "id": "k1R67WHJ5cBg",
        "outputId": "397ecfc7-85ed-4e58-8965-fa320956ad5b"
      },
      "execution_count": 27,
      "outputs": [
        {
          "output_type": "stream",
          "name": "stdout",
          "text": [
            "수요일 메뉴 : ['백미밥/잡곡밥' '배추된장국' '닭볶음탕(김치)' '사각어묵야채볶음' '브로콜리,물미역&초장' '상추겉절이 / 포기김치']\n",
            "수요일 국 : 배추된장국\n",
            "이번 주의 국 : ['육개장' '김치수제비' '배추된장국' '돈육김치찌개' '콩나물김치국']\n"
          ]
        }
      ]
    },
    {
      "cell_type": "code",
      "source": [
        "#행과 열 서로 바꿔주는 방법\n",
        "weekly_lunch_arr_transposed = weekly_lunch_arr.T\n",
        "print(weekly_lunch_arr_transposed)"
      ],
      "metadata": {
        "colab": {
          "base_uri": "https://localhost:8080/"
        },
        "id": "4nuMHnmo54i7",
        "outputId": "0b5f9282-9885-4bca-ee8f-d9cf0db5d8fe"
      },
      "execution_count": 28,
      "outputs": [
        {
          "output_type": "stream",
          "name": "stdout",
          "text": [
            "[['백미밥/잡곡밥' '백미밥/잡곡밥' '백미밥/잡곡밥' '백미밥/잡곡밥' '백미밥/잡곡밥']\n",
            " ['육개장' '김치수제비' '배추된장국' '돈육김치찌개' '콩나물김치국']\n",
            " ['두부양념조림' '부대햄야채볶음' '닭볶음탕(김치)' '김치스파게티' '간장불고기']\n",
            " ['할라마요함박스테이크' '야채계란찜' '사각어묵야채볶음' '청파래생선까스 & 어니언소스' '야채비빔만두']\n",
            " ['시금치고추장무침' '수제양념깻잎지' '브로콜리,물미역&초장' '느타리유부무침' '도토리묵&달래장']\n",
            " ['콩나물볶음 / 포기김치' '건파래볶음 / 포기김치' '상추겉절이 / 포기김치' '미역줄기볶음 / 포기김치'\n",
            "  '부추겉절이 / 포기김치']]\n"
          ]
        }
      ]
    },
    {
      "cell_type": "markdown",
      "source": [
        "###부울 배열을 활용한 인덱싱과 슬라이싱\n",
        "부울 배열을 인덱스로 사용이 가능하다. 각요소에 대응하는 인덱스 요소가 True이면 해당요소를 가져올 수 있다."
      ],
      "metadata": {
        "id": "OslhEwde6lWU"
      }
    },
    {
      "cell_type": "code",
      "source": [
        "#부울배열을 활용한 예시\n",
        "x = np.array([1,2,3,4,5])\n",
        "b = [True, False, True, True, False]\n",
        "print(x[b])"
      ],
      "metadata": {
        "colab": {
          "base_uri": "https://localhost:8080/"
        },
        "id": "qPuXWqG367Gf",
        "outputId": "1d130add-6ffc-4f66-a9b9-89add60f2dfc"
      },
      "execution_count": 30,
      "outputs": [
        {
          "output_type": "stream",
          "name": "stdout",
          "text": [
            "[1 3 4]\n"
          ]
        }
      ]
    },
    {
      "cell_type": "code",
      "source": [
        "#필터링을 활용한 예시\n",
        "x = np.array([1, 2, 3, 4, 5])\n",
        "cond = x>=3\n",
        "print(cond)\n",
        "print(x[cond])"
      ],
      "metadata": {
        "colab": {
          "base_uri": "https://localhost:8080/"
        },
        "id": "sRfYHrqQ7K8A",
        "outputId": "f532aae0-35e0-4cdd-ed33-70afaba0b7dc"
      },
      "execution_count": 32,
      "outputs": [
        {
          "output_type": "stream",
          "name": "stdout",
          "text": [
            "[False False  True  True  True]\n",
            "[3 4 5]\n"
          ]
        }
      ]
    },
    {
      "cell_type": "code",
      "source": [
        "#연습문제\n",
        "#1. 다음 배열에서 5보다 작은 요소만 추출하시오.\n",
        "a = np.arange(10)\n",
        "cond = a < 5\n",
        "print(a[cond])\n",
        "\n",
        "#간단하게\n",
        "print(f\"간단한 버전 : {a[a<5]}\")\n",
        "\n",
        "#2. 위 배열에서 짝수인 요소들만 추출하시오.\n",
        "#힌트: % 연산자 활용\n",
        "a = np.arange(10)\n",
        "cond = a % 2 ==0\n",
        "print(a[cond])\n",
        "\n",
        "#간단하게\n",
        "print(f\"간단한 버전 : {a[a % 2 == 0]}\")\n",
        "\n"
      ],
      "metadata": {
        "colab": {
          "base_uri": "https://localhost:8080/"
        },
        "id": "5KPaEC5w7XwR",
        "outputId": "5578c2f2-1d2b-448d-cf63-68114a4b4dd1"
      },
      "execution_count": 38,
      "outputs": [
        {
          "output_type": "stream",
          "name": "stdout",
          "text": [
            "[0 1 2 3 4]\n",
            "간단한 버전 : [0 1 2 3 4]\n",
            "[0 2 4 6 8]\n",
            "간단한 버전 : [0 2 4 6 8]\n"
          ]
        }
      ]
    },
    {
      "cell_type": "code",
      "source": [
        "#연습문제\n",
        "x = np.array([1, 2, 3, 4, 5, 6, 7, 8, 9, 10,\n",
        "             11, 12, 13, 14, 15, 16, 17, 18, 19, 20])\n",
        "print(f\"3의 배수 : {x[x%3==0]}\")\n",
        "print(f\"4의배수 + 1 : {x[x % 4 == 1]}\")\n",
        "print(f\"3의배수, 4의배수+1 의 수 : {x[(x%3==0) & (x%4==1)]}\")"
      ],
      "metadata": {
        "colab": {
          "base_uri": "https://localhost:8080/"
        },
        "id": "kxbPdnAqEQhD",
        "outputId": "f9c86c11-9d56-4ec7-ff96-0cebc79a93bf"
      },
      "execution_count": 69,
      "outputs": [
        {
          "output_type": "stream",
          "name": "stdout",
          "text": [
            "3의 배수 : [ 3  6  9 12 15 18]\n",
            "4의배수 + 1 : [ 1  5  9 13 17]\n",
            "3의배수, 4의배수+1 의 수 : [9]\n"
          ]
        }
      ]
    }
  ]
}