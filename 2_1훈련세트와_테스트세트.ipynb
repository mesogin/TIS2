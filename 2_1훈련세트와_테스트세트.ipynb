{
  "nbformat": 4,
  "nbformat_minor": 0,
  "metadata": {
    "colab": {
      "provenance": [],
      "authorship_tag": "ABX9TyMIWq7wD2saC7mieEdVLYDv",
      "include_colab_link": true
    },
    "kernelspec": {
      "name": "python3",
      "display_name": "Python 3"
    },
    "language_info": {
      "name": "python"
    }
  },
  "cells": [
    {
      "cell_type": "markdown",
      "metadata": {
        "id": "view-in-github",
        "colab_type": "text"
      },
      "source": [
        "<a href=\"https://colab.research.google.com/github/mesogin/TIS2/blob/main/2_1%ED%9B%88%EB%A0%A8%EC%84%B8%ED%8A%B8%EC%99%80_%ED%85%8C%EC%8A%A4%ED%8A%B8%EC%84%B8%ED%8A%B8.ipynb\" target=\"_parent\"><img src=\"https://colab.research.google.com/assets/colab-badge.svg\" alt=\"Open In Colab\"/></a>"
      ]
    },
    {
      "cell_type": "markdown",
      "source": [
        "#훈련세트와 테스트 세트\n",
        "## 특성, 입력과 타깃, 훈련 데이터\n",
        "\n",
        "지도학습에서 **데이터**와 **정답**을 **입력(input)**과 **타깃(target)**이라고 하고, 이 둘을 합쳐 **훈련데이터(training data)**라고 부름\n",
        "\n",
        "이 때, 입력으로 사용된 길이와 무게를 **특성(feature)**이라고 함\n",
        "\n",
        "[특성과 입력, 타깃, 훈련 데이터의 관계](https://docs.google.com/presentation/d/1jJO-MORkwEIzvDoYtextuIMa0_Ple9Oig3qAmzNo-E8/edit?usp=sharing)"
      ],
      "metadata": {
        "id": "Lb3_jEE98vOI"
      }
    },
    {
      "cell_type": "markdown",
      "source": [
        "##훈련 세트와 테스트 세트\n",
        "연습문제와 시험문제가 다르듯이 훈련 데이터와 테스트 데이터가 달라야 알고리즘 성능을 제대로 평가가 가능합니다.  \n",
        "- 평가를 위한 또다른 데이터를 준비한다\n",
        "- 훈련데이터를 일부를 떼어서 테스트 데이터로 사용한다.\n",
        "\n",
        "이중 후자를 많이 사용함"
      ],
      "metadata": {
        "id": "FdOXF9eV88kd"
      }
    },
    {
      "cell_type": "code",
      "source": [
        "# 생선의 길이와 무게 리스트\n",
        "\n",
        "fish_length = [25.4, 26.3, 26.5, 29.0, 29.0, 29.7, 29.7, 30.0, 30.0, 30.7, 31.0, 31.0, \n",
        "                31.5, 32.0, 32.0, 32.0, 33.0, 33.0, 33.5, 33.5, 34.0, 34.0, 34.5, 35.0, \n",
        "                35.0, 35.0, 35.0, 36.0, 36.0, 37.0, 38.5, 38.5, 39.5, 41.0, 41.0, 9.8, \n",
        "                10.5, 10.6, 11.0, 11.2, 11.3, 11.8, 11.8, 12.0, 12.2, 12.4, 13.0, 14.3, 15.0]\n",
        "fish_weight = [242.0, 290.0, 340.0, 363.0, 430.0, 450.0, 500.0, 390.0, 450.0, 500.0, 475.0, 500.0, \n",
        "                500.0, 340.0, 600.0, 600.0, 700.0, 700.0, 610.0, 650.0, 575.0, 685.0, 620.0, 680.0, \n",
        "                700.0, 725.0, 720.0, 714.0, 850.0, 1000.0, 920.0, 955.0, 925.0, 975.0, 950.0, 6.7, \n",
        "                7.5, 7.0, 9.7, 9.8, 8.7, 10.0, 9.9, 9.8, 12.2, 13.4, 12.2, 19.7, 19.9]"
      ],
      "metadata": {
        "id": "Ed_ma7eV88jI"
      },
      "execution_count": null,
      "outputs": []
    },
    {
      "cell_type": "code",
      "source": [
        "# 입력과 타겟(정답) 데이터 준비\n",
        "\n",
        "# 입력 데이터의 경우 2차원 리스트로 변환\n",
        "fish_data = [[l, w] for l, w in zip(fish_length, fish_weight)]\n",
        "# 타겟 데이터(1차원)\n",
        "fish_target = [1]*35 + [0]*14"
      ],
      "metadata": {
        "id": "ZZ1uq1io-FOu"
      },
      "execution_count": null,
      "outputs": []
    },
    {
      "cell_type": "code",
      "source": [
        "# 사이킷런의 KNeighborsClassifier 클래스를 임포트하고 모델 객체를 만듦\n",
        "\n",
        "from sklearn.neighbors import KNeighborsClassifier\n",
        "\n",
        "kn = KNeighborsClassifier()"
      ],
      "metadata": {
        "id": "Ya7aFzsM-GEt"
      },
      "execution_count": null,
      "outputs": []
    },
    {
      "cell_type": "code",
      "source": [
        "# 인덱싱 방법 복습\n",
        "# 다섯 번째 샘플\n",
        "\n",
        "print(fish_data[4])"
      ],
      "metadata": {
        "colab": {
          "base_uri": "https://localhost:8080/"
        },
        "id": "5XQ1jVvM-HLn",
        "outputId": "b8201643-ab78-4952-fda5-ec967ba41539"
      },
      "execution_count": null,
      "outputs": [
        {
          "output_type": "stream",
          "name": "stdout",
          "text": [
            "[29.0, 430.0]\n"
          ]
        }
      ]
    },
    {
      "cell_type": "code",
      "source": [
        "# 슬라이싱 방법 복습\n",
        "# 첫 번째에서 다섯 번째까지의 샘플\n",
        "\n",
        "print(fish_data[0:5])\n",
        "print(fish_data[:5])"
      ],
      "metadata": {
        "colab": {
          "base_uri": "https://localhost:8080/"
        },
        "id": "l4HmnQYf-Jwd",
        "outputId": "94ca14f0-32bd-46e0-b9d6-4bec3f2d6675"
      },
      "execution_count": null,
      "outputs": [
        {
          "output_type": "stream",
          "name": "stdout",
          "text": [
            "[[25.4, 242.0], [26.3, 290.0], [26.5, 340.0], [29.0, 363.0], [29.0, 430.0]]\n",
            "[[25.4, 242.0], [26.3, 290.0], [26.5, 340.0], [29.0, 363.0], [29.0, 430.0]]\n"
          ]
        }
      ]
    },
    {
      "cell_type": "code",
      "source": [
        "# 슬라이싱 방법 복습\n",
        "# 마지막 5개의 샘플\n",
        "\n",
        "print(fish_data[44:])"
      ],
      "metadata": {
        "colab": {
          "base_uri": "https://localhost:8080/"
        },
        "id": "bUac7hES-M2o",
        "outputId": "f000f288-80a6-4db1-cabb-59f18ad4a239"
      },
      "execution_count": null,
      "outputs": [
        {
          "output_type": "stream",
          "name": "stdout",
          "text": [
            "[[12.2, 12.2], [12.4, 13.4], [13.0, 12.2], [14.3, 19.7], [15.0, 19.9]]\n"
          ]
        }
      ]
    },
    {
      "cell_type": "code",
      "source": [
        "# 훈련 세트와 테스트 세트에서 각각 처음 35개와 나머지 14개를 선택하여 처리\n",
        "\n",
        "# 훈련 세트로 입력값 중 0부터 34번째 인덱스까지 사용\n",
        "train_input = fish_data[:35]\n",
        "# 훈련 세트로 타깃값 중 0부터 34번째 인덱스까지 사용\n",
        "train_target = fish_target[:35]\n",
        "# 테스트 세트로 입력값 중 35번째부터 마지막 인덱스까지 사용\n",
        "test_input = fish_data[35:]\n",
        "# 테스트 세트로 입력값 중 35번째부터 마지막 인덱스까지 사용\n",
        "test_target = fish_target[35:]"
      ],
      "metadata": {
        "id": "cVGIYWoj-LKp"
      },
      "execution_count": null,
      "outputs": []
    },
    {
      "cell_type": "code",
      "source": [
        "# 연습문제\n",
        "# 훈련 세트와 테스트 세트에서 각각 처음 30개와 나머지 19개를 선택한 뒤\n",
        "# 각각을 입력값과 타깃값으로 구분하시오.\n",
        "# 변수명은 train_input30, train_target30, test_input19, test_target19로 설정\n",
        "\n",
        "train_input30 = fish_data[:30]\n",
        "train_target30 = fish_target[:30]\n",
        "test_input19 = fish_data[30:]\n",
        "test_target19 = fish_target[30:]\n"
      ],
      "metadata": {
        "id": "QwUYOm_J-TCq"
      },
      "execution_count": null,
      "outputs": []
    },
    {
      "cell_type": "code",
      "source": [
        "#알고리즘에 학습시키기\n",
        "from sklearn.neighbors import KNeighborsClassifier\n",
        "kn1 = KNeighborsClassifier()  #알고리즘 생성\n",
        "\n",
        "kn1.fit(train_input30, train_target30)"
      ],
      "metadata": {
        "colab": {
          "base_uri": "https://localhost:8080/"
        },
        "id": "psMsM9gJ_LjD",
        "outputId": "b6046ed5-c451-4da1-890c-203ff2b0b130"
      },
      "execution_count": null,
      "outputs": [
        {
          "output_type": "execute_result",
          "data": {
            "text/plain": [
              "KNeighborsClassifier()"
            ]
          },
          "metadata": {},
          "execution_count": 57
        }
      ]
    },
    {
      "cell_type": "code",
      "source": [
        "#훈련된 데이터 성능 확인\n",
        "kn1.score(test_input19, test_target19)"
      ],
      "metadata": {
        "colab": {
          "base_uri": "https://localhost:8080/"
        },
        "id": "AZI7PqHM_nVO",
        "outputId": "c2ebd158-c1a6-4887-c873-a72d981c74d3"
      },
      "execution_count": null,
      "outputs": [
        {
          "output_type": "execute_result",
          "data": {
            "text/plain": [
              "0.2631578947368421"
            ]
          },
          "metadata": {},
          "execution_count": 58
        }
      ]
    },
    {
      "cell_type": "markdown",
      "source": [
        "##넘파이"
      ],
      "metadata": {
        "id": "ScrDQ69qThE3"
      }
    },
    {
      "cell_type": "code",
      "source": [
        "import numpy as np"
      ],
      "metadata": {
        "id": "LzOzT74KTiwo"
      },
      "execution_count": null,
      "outputs": []
    },
    {
      "cell_type": "code",
      "source": [
        "# 2차원 리스트(중첩 리스트)를 넘파이 바열로 변환\n",
        "# np.array() 함수 사용\n",
        "input_arr = np.array(fish_data)\n",
        "target_arr = np.array(fish_target)"
      ],
      "metadata": {
        "id": "iWTl2OmwTmIp"
      },
      "execution_count": null,
      "outputs": []
    },
    {
      "cell_type": "code",
      "source": [
        "#input_arr 배열 출력\n",
        "print(input_arr)"
      ],
      "metadata": {
        "colab": {
          "base_uri": "https://localhost:8080/"
        },
        "id": "mEjgyz7dTzdC",
        "outputId": "d38e0d91-e450-4797-ef3d-5b23fe42dca6"
      },
      "execution_count": null,
      "outputs": [
        {
          "output_type": "stream",
          "name": "stdout",
          "text": [
            "[[  25.4  242. ]\n",
            " [  26.3  290. ]\n",
            " [  26.5  340. ]\n",
            " [  29.   363. ]\n",
            " [  29.   430. ]\n",
            " [  29.7  450. ]\n",
            " [  29.7  500. ]\n",
            " [  30.   390. ]\n",
            " [  30.   450. ]\n",
            " [  30.7  500. ]\n",
            " [  31.   475. ]\n",
            " [  31.   500. ]\n",
            " [  31.5  500. ]\n",
            " [  32.   340. ]\n",
            " [  32.   600. ]\n",
            " [  32.   600. ]\n",
            " [  33.   700. ]\n",
            " [  33.   700. ]\n",
            " [  33.5  610. ]\n",
            " [  33.5  650. ]\n",
            " [  34.   575. ]\n",
            " [  34.   685. ]\n",
            " [  34.5  620. ]\n",
            " [  35.   680. ]\n",
            " [  35.   700. ]\n",
            " [  35.   725. ]\n",
            " [  35.   720. ]\n",
            " [  36.   714. ]\n",
            " [  36.   850. ]\n",
            " [  37.  1000. ]\n",
            " [  38.5  920. ]\n",
            " [  38.5  955. ]\n",
            " [  39.5  925. ]\n",
            " [  41.   975. ]\n",
            " [  41.   950. ]\n",
            " [   9.8    6.7]\n",
            " [  10.5    7.5]\n",
            " [  10.6    7. ]\n",
            " [  11.     9.7]\n",
            " [  11.2    9.8]\n",
            " [  11.3    8.7]\n",
            " [  11.8   10. ]\n",
            " [  11.8    9.9]\n",
            " [  12.     9.8]\n",
            " [  12.2   12.2]\n",
            " [  12.4   13.4]\n",
            " [  13.    12.2]\n",
            " [  14.3   19.7]\n",
            " [  15.    19.9]]\n"
          ]
        }
      ]
    },
    {
      "cell_type": "code",
      "source": [
        "#넘파이 배열의 크기 확인\n",
        "#shape 속성 사용\n",
        "print(input_arr.shape)"
      ],
      "metadata": {
        "colab": {
          "base_uri": "https://localhost:8080/"
        },
        "id": "9RpsPYtOUDLk",
        "outputId": "19569ed8-9ac3-4ccd-e5fa-3161253f220d"
      },
      "execution_count": null,
      "outputs": [
        {
          "output_type": "stream",
          "name": "stdout",
          "text": [
            "(49, 2)\n"
          ]
        }
      ]
    },
    {
      "cell_type": "code",
      "source": [
        "#넘파이 배열의 차원 확인\n",
        "print(input_arr.ndim)"
      ],
      "metadata": {
        "colab": {
          "base_uri": "https://localhost:8080/"
        },
        "id": "VUooUepxUMxE",
        "outputId": "c35368f5-d8a5-464f-a8c8-3e7695e88348"
      },
      "execution_count": null,
      "outputs": [
        {
          "output_type": "stream",
          "name": "stdout",
          "text": [
            "2\n"
          ]
        }
      ]
    },
    {
      "cell_type": "code",
      "source": [
        "# 배열 인덱싱 복습\n",
        "# 두 번째와 네 번째 샘플 출력\n",
        "\n",
        "print(input_arr[[1,3]])"
      ],
      "metadata": {
        "colab": {
          "base_uri": "https://localhost:8080/"
        },
        "id": "wETIl-xsV2A7",
        "outputId": "cbfeb3c7-8d0d-4fa1-f040-5526cc0019ae"
      },
      "execution_count": null,
      "outputs": [
        {
          "output_type": "stream",
          "name": "stdout",
          "text": [
            "[[ 26.3 290. ]\n",
            " [ 29.  363. ]]\n"
          ]
        }
      ]
    },
    {
      "cell_type": "code",
      "source": [
        "#일정한 결과를 얻기위해 랜덤시드 지정\n",
        "np.random.seed(42)\n",
        "\n",
        "#0부터 48까지 인덱스 배열 생성\n",
        "index = np.arange(49)\n",
        "\n",
        "#넘파이 random 패키지 아래있는 shuffle() 함수로 주어진 배열(index 배열)을 무작위로 섞음\n",
        "np.random.shuffle(index)"
      ],
      "metadata": {
        "id": "ihHJx8WxUSe5"
      },
      "execution_count": null,
      "outputs": []
    },
    {
      "cell_type": "code",
      "source": [
        "print(index)"
      ],
      "metadata": {
        "colab": {
          "base_uri": "https://localhost:8080/"
        },
        "id": "fEQrwpZaVEah",
        "outputId": "c0c70979-62f9-4ff0-8f17-d6446d7be431"
      },
      "execution_count": null,
      "outputs": [
        {
          "output_type": "stream",
          "name": "stdout",
          "text": [
            "[13 45 47 44 17 27 26 25 31 19 12  4 34  8  3  6 40 41 46 15  9 16 24 33\n",
            " 30  0 43 32  5 29 11 36  1 21  2 37 35 23 39 10 22 18 48 20  7 42 14 28\n",
            " 38]\n"
          ]
        }
      ]
    },
    {
      "cell_type": "code",
      "source": [
        "# index 배열의 처음 35개를 input_arr와 target_arr에 전달하여 랜덤하게 35개의 샘플을 훈련 세트로 구성\n",
        "\n",
        "train_input = input_arr[index[:35]]\n",
        "train_target = target_arr[index[:35]]"
      ],
      "metadata": {
        "id": "4gWvgu4VVaEC"
      },
      "execution_count": null,
      "outputs": []
    },
    {
      "cell_type": "code",
      "source": [
        "#round(39*0.8)\n",
        "#연습문제 index배열의 80%를 훈련세트로, 나머지20%를 테스트세트\n",
        "index80 = round(len(index)*0.8)\n",
        "\n",
        "train_input39 = input_arr[:index80]\n",
        "train_target39 = target_arr[index[:index80]]\n",
        "\n",
        "test_input10 = input_arr[index80:]\n",
        "test_target10 = target_arr[index80:]"
      ],
      "metadata": {
        "id": "_ps7Zb5bY5Vc"
      },
      "execution_count": null,
      "outputs": []
    },
    {
      "cell_type": "code",
      "source": [
        "test_input10"
      ],
      "metadata": {
        "colab": {
          "base_uri": "https://localhost:8080/"
        },
        "id": "S3i8pUY3hqIY",
        "outputId": "4ec708fd-823d-43f2-c45d-8358c336a135"
      },
      "execution_count": null,
      "outputs": [
        {
          "output_type": "execute_result",
          "data": {
            "text/plain": [
              "array([[11.2,  9.8],\n",
              "       [11.3,  8.7],\n",
              "       [11.8, 10. ],\n",
              "       [11.8,  9.9],\n",
              "       [12. ,  9.8],\n",
              "       [12.2, 12.2],\n",
              "       [12.4, 13.4],\n",
              "       [13. , 12.2],\n",
              "       [14.3, 19.7],\n",
              "       [15. , 19.9]])"
            ]
          },
          "metadata": {},
          "execution_count": 99
        }
      ]
    },
    {
      "cell_type": "code",
      "source": [
        "# 훈련 세트와 테스트 세트에 도미와 빙어가 잘 섞여 있는 지 산점도로 확인\n",
        "\n",
        "import matplotlib.pyplot as plt\n",
        "\n",
        "plt.scatter(train_input39[:, 0], train_input39[:, 1])\n",
        "plt.scatter(test_input10[:, 0], test_input10[:, 1])\n",
        "plt.xlabel('length')\n",
        "plt.ylabel('weight')\n",
        "plt.show()"
      ],
      "metadata": {
        "colab": {
          "base_uri": "https://localhost:8080/",
          "height": 279
        },
        "id": "9or0hmitdEAM",
        "outputId": "f9f30e22-49ff-49af-d9c4-b02b5bb6c51c"
      },
      "execution_count": null,
      "outputs": [
        {
          "output_type": "display_data",
          "data": {
            "text/plain": [
              "<Figure size 432x288 with 1 Axes>"
            ],
            "image/png": "[encoded data removed]"
          },
          "metadata": {
            "needs_background": "light"
          }
        }
      ]
    },
    {
      "cell_type": "code",
      "source": [
        "# 새로 만들어진 훈련 세트로 모델 훈련\n",
        "\n",
        "kn.fit(train_input39, train_target39)"
      ],
      "metadata": {
        "colab": {
          "base_uri": "https://localhost:8080/"
        },
        "id": "YWffWAGleQfX",
        "outputId": "fee49411-0f36-4833-d5fa-8f5adffc4811"
      },
      "execution_count": null,
      "outputs": [
        {
          "output_type": "execute_result",
          "data": {
            "text/plain": [
              "KNeighborsClassifier()"
            ]
          },
          "metadata": {},
          "execution_count": 101
        }
      ]
    },
    {
      "cell_type": "code",
      "source": [
        "kn.score(test_input10, test_target10)"
      ],
      "metadata": {
        "colab": {
          "base_uri": "https://localhost:8080/"
        },
        "id": "7WAiCQ6Qhi7G",
        "outputId": "fb06c3c7-7670-4b2e-d798-488e89cd188f"
      },
      "execution_count": null,
      "outputs": [
        {
          "output_type": "execute_result",
          "data": {
            "text/plain": [
              "1.0"
            ]
          },
          "metadata": {},
          "execution_count": 102
        }
      ]
    },
    {
      "cell_type": "markdown",
      "source": [],
      "metadata": {
        "id": "slxDTtLlhgZL"
      }
    }
  ]
}