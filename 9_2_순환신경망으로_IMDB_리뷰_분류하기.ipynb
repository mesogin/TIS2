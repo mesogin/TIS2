{
  "cells": [
    {
      "cell_type": "markdown",
      "metadata": {
        "id": "view-in-github",
        "colab_type": "text"
      },
      "source": [
        "<a href=\"https://colab.research.google.com/github/mesogin/TIS2/blob/main/9_2_%EC%88%9C%ED%99%98%EC%8B%A0%EA%B2%BD%EB%A7%9D%EC%9C%BC%EB%A1%9C_IMDB_%EB%A6%AC%EB%B7%B0_%EB%B6%84%EB%A5%98%ED%95%98%EA%B8%B0.ipynb\" target=\"_parent\"><img src=\"https://colab.research.google.com/assets/colab-badge.svg\" alt=\"Open In Colab\"/></a>"
      ]
    },
    {
      "cell_type": "markdown",
      "source": [
        "## 순환 신경망으로 IMDB 리뷰 분류하기"
      ],
      "metadata": {
        "id": "OtpRWLujst_d"
      }
    },
    {
      "cell_type": "code",
      "source": [
        "# 실행마다 동일한 결과를 얻기 위해 케라스에 랜덤 시드를 사용하고 텐서플로 연산을 결정적으로 만듭니다. \n",
        "import tensorflow as tf\n",
        "\n",
        "tf.keras.utils.set_random_seed(42)\n",
        "tf.config.experimental.enable_op_determinism()"
      ],
      "metadata": {
        "id": "2d0QDYVTIZjn"
      },
      "execution_count": 1,
      "outputs": []
    },
    {
      "cell_type": "code",
      "source": [
        "from tensorflow.keras.datasets import imdb\n",
        "\n",
        "# 전체 데이터셋에서 가장 자주 등장하는 500개의 단어만 사용(num_words=500)\n",
        "(train_input, train_target), (test_input, test_target) = imdb.load_data(\n",
        "    num_words=500)"
      ],
      "metadata": {
        "id": "8Fs-qLnOr0I7"
      },
      "execution_count": 2,
      "outputs": []
    },
    {
      "cell_type": "code",
      "source": [
        "from sklearn.model_selection import train_test_split\n",
        "\n",
        "train_input, val_input, train_target, val_target = train_test_split(\n",
        "    train_input, train_target, test_size=0.2, random_state=42)"
      ],
      "metadata": {
        "id": "OFUpP1TYr1gY"
      },
      "execution_count": 3,
      "outputs": []
    },
    {
      "cell_type": "code",
      "source": [
        "# 각 리뷰의 길이를 조사해 넘파이 배열에 담음\n",
        "# 리스트 내포를 사용\n",
        "\n",
        "import numpy as np\n",
        "\n",
        "lengths = np.array([len(x) for x in train_input])"
      ],
      "metadata": {
        "id": "s4Dv4zVhr7Xq"
      },
      "execution_count": 4,
      "outputs": []
    },
    {
      "cell_type": "code",
      "source": [
        "# 리뷰 길이의 평균과 중간값\n",
        "print(np.mean(lengths), np.median(lengths))"
      ],
      "metadata": {
        "colab": {
          "base_uri": "https://localhost:8080/"
        },
        "id": "UwolRUlcr8_N",
        "outputId": "524ec221-c1f5-487e-ae1d-165846b3dd04"
      },
      "execution_count": 5,
      "outputs": [
        {
          "output_type": "stream",
          "name": "stdout",
          "text": [
            "239.00925 178.0\n"
          ]
        }
      ]
    },
    {
      "cell_type": "code",
      "source": [
        "# 히스토그램으로 리뷰 길이의 분포 확인\n",
        "# 대부분의 길이는 300 미만\n",
        "\n",
        "import matplotlib.pyplot as plt\n",
        "\n",
        "plt.hist(lengths)\n",
        "plt.xlabel('length')\n",
        "plt.ylabel('frequency')\n",
        "plt.show()"
      ],
      "metadata": {
        "colab": {
          "base_uri": "https://localhost:8080/",
          "height": 279
        },
        "id": "z-8IPNi9r-TL",
        "outputId": "918aa390-fdf2-463e-c474-e33aec387f1c"
      },
      "execution_count": 6,
      "outputs": [
        {
          "output_type": "display_data",
          "data": {
            "text/plain": [
              "<Figure size 432x288 with 1 Axes>"
            ],
            "image/png": "[encoded data removed]"
          },
          "metadata": {
            "needs_background": "light"
          }
        }
      ]
    },
    {
      "cell_type": "code",
      "source": [
        "# pad_sequences() 함수를 사용해 train_input의 길이를 100으로 맞춤\n",
        "# 100이 넘어가는경우 뒤에서 100개로 맞춰 앞에를 자름\n",
        "from tensorflow.keras.preprocessing.sequence import pad_sequences\n",
        "\n",
        "train_seq = pad_sequences(train_input, maxlen=100)"
      ],
      "metadata": {
        "id": "q9wjZnFUr_5F"
      },
      "execution_count": 7,
      "outputs": []
    },
    {
      "cell_type": "code",
      "source": [
        "# 여섯 번째 샘플 출력\n",
        "\n",
        "print(train_seq[5])\n",
        "#앞부분에 0이 있는 것으로 보아 샘플의 길이는 100이 안됨."
      ],
      "metadata": {
        "colab": {
          "base_uri": "https://localhost:8080/"
        },
        "id": "IFbmBRYWsfvG",
        "outputId": "e6743f00-8344-484f-ae48-163e9211fd44"
      },
      "execution_count": 8,
      "outputs": [
        {
          "output_type": "stream",
          "name": "stdout",
          "text": [
            "[  0   0   0   0   1   2 195  19  49   2   2 190   4   2 352   2 183  10\n",
            "  10  13  82  79   4   2  36  71 269   8   2  25  19  49   7   4   2   2\n",
            "   2   2   2  10  10  48  25  40   2  11   2   2  40   2   2   5   4   2\n",
            "   2  95  14 238  56 129   2  10  10  21   2  94 364 352   2   2  11 190\n",
            "  24 484   2   7  94 205 405  10  10  87   2  34  49   2   7   2   2   2\n",
            "   2   2 290   2  46  48  64  18   4   2]\n"
          ]
        }
      ]
    },
    {
      "cell_type": "code",
      "source": [
        "# 검증세트의 길이도 100으로 맞추어 줌\n",
        "val_seq = pad_sequences(val_input, maxlen=100)"
      ],
      "metadata": {
        "id": "mcp3dZP-sm2u"
      },
      "execution_count": 9,
      "outputs": []
    },
    {
      "cell_type": "markdown",
      "source": [
        "##순환 신경망 만들기"
      ],
      "metadata": {
        "id": "vfii5idlsot_"
      }
    },
    {
      "cell_type": "code",
      "source": [
        "from tensorflow import keras\n",
        "\n",
        "model = keras.Sequential()\n",
        "\n",
        "model.add(keras.layers.SimpleRNN(8, input_shape=(100, 500))) #input길이 100, 각각의 단어들은 500의 다른 숫자로 설명함\n",
        "model.add(keras.layers.Dense(1, activation='sigmoid'))"
      ],
      "metadata": {
        "id": "r0EcJN8kssHm"
      },
      "execution_count": 10,
      "outputs": []
    },
    {
      "cell_type": "code",
      "source": [
        "# train_seq를 원핫 인코딩으로 변환하여 train_oh 배열을 만듦\n",
        "\n",
        "train_oh = keras.utils.to_categorical(train_seq)"
      ],
      "metadata": {
        "id": "StouAN1yyYXs"
      },
      "execution_count": 11,
      "outputs": []
    },
    {
      "cell_type": "code",
      "source": [
        "# 배열의 크기 출력\n",
        "\n",
        "print(train_oh.shape)\n",
        "#정수 하나마다 모두 500차원의 배열로 변경해서 (20000, 100) -> (20000, 100, 500)으로 변경"
      ],
      "metadata": {
        "colab": {
          "base_uri": "https://localhost:8080/"
        },
        "id": "dk468xRYyY8U",
        "outputId": "a98de7c5-9b81-4fff-a64d-7de2fe51ee45"
      },
      "execution_count": 12,
      "outputs": [
        {
          "output_type": "stream",
          "name": "stdout",
          "text": [
            "(20000, 100, 500)\n"
          ]
        }
      ]
    },
    {
      "cell_type": "code",
      "source": [
        "#val_seq도 원-핫 인코딩으로 변환\n",
        "val_oh = keras.utils.to_categorical(val_seq)"
      ],
      "metadata": {
        "id": "orQxoH8FyuCU"
      },
      "execution_count": 13,
      "outputs": []
    },
    {
      "cell_type": "code",
      "source": [
        "\n",
        "model.summary()"
      ],
      "metadata": {
        "colab": {
          "base_uri": "https://localhost:8080/"
        },
        "id": "Otbn0cIvyxDx",
        "outputId": "4357106f-a6c2-4b7d-afae-3db90948e1f3"
      },
      "execution_count": 14,
      "outputs": [
        {
          "output_type": "stream",
          "name": "stdout",
          "text": [
            "Model: \"sequential\"\n",
            "_________________________________________________________________\n",
            " Layer (type)                Output Shape              Param #   \n",
            "=================================================================\n",
            " simple_rnn (SimpleRNN)      (None, 8)                 4072      \n",
            "                                                                 \n",
            " dense (Dense)               (None, 1)                 9         \n",
            "                                                                 \n",
            "=================================================================\n",
            "Total params: 4,081\n",
            "Trainable params: 4,081\n",
            "Non-trainable params: 0\n",
            "_________________________________________________________________\n"
          ]
        }
      ]
    },
    {
      "cell_type": "code",
      "source": [
        "#램 초과함\n",
        "# rmsprop = keras.optimizers.RMSprop(learning_rate=1e-4)\n",
        "# model.compile(optimizer=rmsprop, loss='binary_crossentropy', \n",
        "#               metrics=['accuracy'])\n",
        "\n",
        "# checkpoint_cb = keras.callbacks.ModelCheckpoint('best-simplernn-model.h5', \n",
        "#                                                 save_best_only=True)\n",
        "# early_stopping_cb = keras.callbacks.EarlyStopping(patience=3,\n",
        "#                                                   restore_best_weights=True)\n",
        "\n",
        "# history = model.fit(train_oh, train_target, epochs=100, batch_size=64,\n",
        "#                     validation_data=(val_oh, val_target),\n",
        "#                     callbacks=[checkpoint_cb, early_stopping_cb])\n"
      ],
      "metadata": {
        "id": "AjdO7QeMy9Sd"
      },
      "execution_count": 15,
      "outputs": []
    },
    {
      "cell_type": "code",
      "source": [
        "# plt.plot(history.history['loss'])\n",
        "# plt.plot(history.history['val_loss'])\n",
        "# plt.xlabel('epoch')\n",
        "# plt.ylabel('loss')\n",
        "# plt.legend(['train', 'val'])\n",
        "# plt.show()"
      ],
      "metadata": {
        "id": "0-JZf9UaC2Ne"
      },
      "execution_count": null,
      "outputs": []
    },
    {
      "cell_type": "code",
      "source": [
        "model2 = keras.Sequential()\n",
        "\n",
        "model2.add(keras.layers.Embedding(500, 16, input_length=100))\n",
        "model2.add(keras.layers.SimpleRNN(8))\n",
        "model2.add(keras.layers.Dense(1, activation='sigmoid'))"
      ],
      "metadata": {
        "id": "nOjrofTGC29A"
      },
      "execution_count": 16,
      "outputs": []
    },
    {
      "cell_type": "code",
      "source": [
        "model2.summary()"
      ],
      "metadata": {
        "colab": {
          "base_uri": "https://localhost:8080/"
        },
        "id": "LYVYeHXpC6lv",
        "outputId": "5b2ca411-2fd7-4d34-c3cd-4ce0078f23a8"
      },
      "execution_count": 17,
      "outputs": [
        {
          "output_type": "stream",
          "name": "stdout",
          "text": [
            "Model: \"sequential_1\"\n",
            "_________________________________________________________________\n",
            " Layer (type)                Output Shape              Param #   \n",
            "=================================================================\n",
            " embedding (Embedding)       (None, 100, 16)           8000      \n",
            "                                                                 \n",
            " simple_rnn_1 (SimpleRNN)    (None, 8)                 200       \n",
            "                                                                 \n",
            " dense_1 (Dense)             (None, 1)                 9         \n",
            "                                                                 \n",
            "=================================================================\n",
            "Total params: 8,209\n",
            "Trainable params: 8,209\n",
            "Non-trainable params: 0\n",
            "_________________________________________________________________\n"
          ]
        }
      ]
    },
    {
      "cell_type": "code",
      "source": [
        "rmsprop = keras.optimizers.RMSprop(learning_rate=1e-4)\n",
        "model2.compile(optimizer=rmsprop, loss='binary_crossentropy', \n",
        "               metrics=['accuracy'])\n",
        "\n",
        "checkpoint_cb = keras.callbacks.ModelCheckpoint('best-embedding-model.h5', \n",
        "                                                save_best_only=True)\n",
        "early_stopping_cb = keras.callbacks.EarlyStopping(patience=3,\n",
        "                                                  restore_best_weights=True)\n",
        "\n",
        "history = model2.fit(train_seq, train_target, epochs=100, batch_size=64,\n",
        "                     validation_data=(val_seq, val_target),\n",
        "                     callbacks=[checkpoint_cb, early_stopping_cb])"
      ],
      "metadata": {
        "colab": {
          "base_uri": "https://localhost:8080/"
        },
        "id": "sr3vKVWkC8C1",
        "outputId": "6313fb64-7298-4b60-c3f8-28131708e1e0"
      },
      "execution_count": 18,
      "outputs": [
        {
          "output_type": "stream",
          "name": "stdout",
          "text": [
            "Epoch 1/100\n",
            "313/313 [==============================] - 14s 37ms/step - loss: 0.6850 - accuracy: 0.5497 - val_loss: 0.6598 - val_accuracy: 0.6104\n",
            "Epoch 2/100\n",
            "313/313 [==============================] - 8s 25ms/step - loss: 0.6230 - accuracy: 0.6680 - val_loss: 0.6020 - val_accuracy: 0.6938\n",
            "Epoch 3/100\n",
            "313/313 [==============================] - 10s 32ms/step - loss: 0.5715 - accuracy: 0.7286 - val_loss: 0.5643 - val_accuracy: 0.7354\n",
            "Epoch 4/100\n",
            "313/313 [==============================] - 10s 32ms/step - loss: 0.5380 - accuracy: 0.7539 - val_loss: 0.5428 - val_accuracy: 0.7378\n",
            "Epoch 5/100\n",
            "313/313 [==============================] - 8s 25ms/step - loss: 0.5176 - accuracy: 0.7654 - val_loss: 0.5224 - val_accuracy: 0.7544\n",
            "Epoch 6/100\n",
            "313/313 [==============================] - 10s 32ms/step - loss: 0.5046 - accuracy: 0.7713 - val_loss: 0.5167 - val_accuracy: 0.7534\n",
            "Epoch 7/100\n",
            "313/313 [==============================] - 9s 27ms/step - loss: 0.4937 - accuracy: 0.7770 - val_loss: 0.5055 - val_accuracy: 0.7666\n",
            "Epoch 8/100\n",
            "313/313 [==============================] - 9s 29ms/step - loss: 0.4841 - accuracy: 0.7837 - val_loss: 0.5104 - val_accuracy: 0.7546\n",
            "Epoch 9/100\n",
            "313/313 [==============================] - 10s 34ms/step - loss: 0.4765 - accuracy: 0.7872 - val_loss: 0.4947 - val_accuracy: 0.7702\n",
            "Epoch 10/100\n",
            "313/313 [==============================] - 8s 25ms/step - loss: 0.4708 - accuracy: 0.7892 - val_loss: 0.5021 - val_accuracy: 0.7606\n",
            "Epoch 11/100\n",
            "313/313 [==============================] - 10s 33ms/step - loss: 0.4648 - accuracy: 0.7932 - val_loss: 0.4879 - val_accuracy: 0.7716\n",
            "Epoch 12/100\n",
            "313/313 [==============================] - 12s 38ms/step - loss: 0.4600 - accuracy: 0.7955 - val_loss: 0.5009 - val_accuracy: 0.7608\n",
            "Epoch 13/100\n",
            "313/313 [==============================] - 16s 51ms/step - loss: 0.4565 - accuracy: 0.7986 - val_loss: 0.4815 - val_accuracy: 0.7764\n",
            "Epoch 14/100\n",
            "313/313 [==============================] - 9s 28ms/step - loss: 0.4514 - accuracy: 0.8005 - val_loss: 0.4794 - val_accuracy: 0.7744\n",
            "Epoch 15/100\n",
            "313/313 [==============================] - 10s 31ms/step - loss: 0.4475 - accuracy: 0.8042 - val_loss: 0.4966 - val_accuracy: 0.7624\n",
            "Epoch 16/100\n",
            "313/313 [==============================] - 10s 32ms/step - loss: 0.4442 - accuracy: 0.8058 - val_loss: 0.4769 - val_accuracy: 0.7784\n",
            "Epoch 17/100\n",
            "313/313 [==============================] - 8s 25ms/step - loss: 0.4408 - accuracy: 0.8077 - val_loss: 0.4773 - val_accuracy: 0.7760\n",
            "Epoch 18/100\n",
            "313/313 [==============================] - 10s 33ms/step - loss: 0.4371 - accuracy: 0.8116 - val_loss: 0.4783 - val_accuracy: 0.7792\n",
            "Epoch 19/100\n",
            "313/313 [==============================] - 10s 32ms/step - loss: 0.4350 - accuracy: 0.8116 - val_loss: 0.4936 - val_accuracy: 0.7710\n"
          ]
        }
      ]
    },
    {
      "cell_type": "code",
      "source": [
        "plt.plot(history.history['loss'])\n",
        "plt.plot(history.history['val_loss'])\n",
        "plt.xlabel('epoch')\n",
        "plt.ylabel('loss')\n",
        "plt.legend(['train', 'val'])\n",
        "plt.show()"
      ],
      "metadata": {
        "colab": {
          "base_uri": "https://localhost:8080/",
          "height": 279
        },
        "id": "nspseqzzD8l4",
        "outputId": "6c896a21-23e4-423d-98cb-2679c9c36dd4"
      },
      "execution_count": 19,
      "outputs": [
        {
          "output_type": "display_data",
          "data": {
            "text/plain": [
              "<Figure size 432x288 with 1 Axes>"
            ],
            "image/png": "[encoded data removed]"
          },
          "metadata": {
            "needs_background": "light"
          }
        }
      ]
    }
  ],
  "metadata": {
    "accelerator": "TPU",
    "colab": {
      "provenance": [],
      "authorship_tag": "ABX9TyNHYhiQPtVz86ZqFJNcT4JW",
      "include_colab_link": true
    },
    "gpuClass": "standard",
    "kernelspec": {
      "display_name": "Python 3",
      "name": "python3"
    },
    "language_info": {
      "name": "python"
    }
  },
  "nbformat": 4,
  "nbformat_minor": 0
}