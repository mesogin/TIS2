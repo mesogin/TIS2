{
  "nbformat": 4,
  "nbformat_minor": 0,
  "metadata": {
    "colab": {
      "provenance": [],
      "authorship_tag": "ABX9TyMlChCc6arjJ+mMpGnyb7fv",
      "include_colab_link": true
    },
    "kernelspec": {
      "name": "python3",
      "display_name": "Python 3"
    },
    "language_info": {
      "name": "python"
    }
  },
  "cells": [
    {
      "cell_type": "markdown",
      "metadata": {
        "id": "view-in-github",
        "colab_type": "text"
      },
      "source": [
        "<a href=\"https://colab.research.google.com/github/mesogin/TIS2/blob/main/%EC%A7%91%EA%B3%84%ED%95%A8%EC%88%98.ipynb\" target=\"_parent\"><img src=\"https://colab.research.google.com/assets/colab-badge.svg\" alt=\"Open In Colab\"/></a>"
      ]
    },
    {
      "cell_type": "markdown",
      "source": [
        "#집계 함수(aggregate function)\n",
        "배열의 통계량을 구하는데 사용한다."
      ],
      "metadata": {
        "id": "asMYFmdnZKc4"
      }
    },
    {
      "cell_type": "code",
      "source": [
        "import numpy as np\n",
        "\n",
        "x = np.arange(15).reshape(5, 3)\n",
        "\n",
        "display(x)"
      ],
      "metadata": {
        "colab": {
          "base_uri": "https://localhost:8080/",
          "height": 108
        },
        "id": "IDPcJxKYZYaw",
        "outputId": "9e346e1d-cb36-4631-b904-0f97f1059938"
      },
      "execution_count": 1,
      "outputs": [
        {
          "output_type": "display_data",
          "data": {
            "text/plain": [
              "array([[ 0,  1,  2],\n",
              "       [ 3,  4,  5],\n",
              "       [ 6,  7,  8],\n",
              "       [ 9, 10, 11],\n",
              "       [12, 13, 14]])"
            ]
          },
          "metadata": {}
        }
      ]
    },
    {
      "cell_type": "markdown",
      "source": [
        "###합계 함수와 axis 인자\n",
        "행별 합계나 열별 합계를 구하고 싶을 때 axis 인자를 설정합니다. axis는 방향 설정하는 인자로,  \n",
        "axis=0 행방향(위에서 아래로) axis = 1 열방향 (왼쪽에서 오른쪽) 으로 계산합니다.  \n",
        "  \n",
        "axis : 축  \n",
        "axes : 축 (복수형)  \n",
        "\n",
        "> [참고그림](https://docs.google.com/presentation/d/1Y7TfqRi7DtSrb4ktR2TeWy8rvTPZD5ECqy7Z_xES_Ys/edit?usp=sharing)"
      ],
      "metadata": {
        "id": "_5MROffnazDt"
      }
    },
    {
      "cell_type": "code",
      "source": [
        "arr = np.arange(15).reshape(5,3)\n",
        "print(arr)\n",
        "\n",
        "#행 방향 계산\n",
        "print(\"\")\n",
        "print(np.sum(arr, axis=0))\n",
        "print(arr.sum(axis=0))\n",
        "\n",
        "#열 방향 계산\n",
        "print(\"\")\n",
        "print(np.sum(arr, axis=1))\n",
        "print(arr.sum(axis=1))"
      ],
      "metadata": {
        "colab": {
          "base_uri": "https://localhost:8080/"
        },
        "id": "8Q080kbmcFeO",
        "outputId": "e0313123-0ec4-496b-f5e3-175bf7792b51"
      },
      "execution_count": 7,
      "outputs": [
        {
          "output_type": "stream",
          "name": "stdout",
          "text": [
            "[[ 0  1  2]\n",
            " [ 3  4  5]\n",
            " [ 6  7  8]\n",
            " [ 9 10 11]\n",
            " [12 13 14]]\n",
            "\n",
            "[30 35 40]\n",
            "[30 35 40]\n",
            "\n",
            "[ 3 12 21 30 39]\n",
            "[ 3 12 21 30 39]\n"
          ]
        }
      ]
    },
    {
      "cell_type": "markdown",
      "source": [
        "# 자주 사용하는 집계 함수\n",
        "\n",
        "자용 사용하는 집계함수를 다음 표에 정리하였습니다.\n",
        "\n",
        "함수 | 설명 | 메서드 지원 여부\n",
        "--|:--:|:--:\n",
        "sum(x) | x의 합계 | O\n",
        "min(x) | x의 최솟값 | O\n",
        "max(x) | x의 최댓값 | O\n",
        "mean(x) | x의 평균값 | O\n",
        "std(x) | x의 표준편차 | O\n",
        "median(x) | x의 중위수(중앙값) | X\n",
        "quantile(x, q) | x의 상위 q * 100% 값 | X\n",
        "unique(x) | x에서 중복을 제거한 요소 | X\n"
      ],
      "metadata": {
        "id": "eLoKiWd9dkf0"
      }
    },
    {
      "cell_type": "code",
      "source": [
        "#다음 리스트를 넘파이 배열로 전환하고, 평균값과 중앙값을 구하시오.\n",
        "import numpy as np\n",
        "a_list = [1, 3 ,5, 7, 100]\n",
        "arr = np.array(a_list)\n",
        "print(\"합계\",np.sum(arr))\n",
        "print(\"최솟값\",np.min(arr))\n",
        "print(\"최댓값\",np.max(arr))\n",
        "print(\"평균값\",np.mean(arr))\n",
        "print(\"표준편차\",np.std(arr))\n",
        "print(\"중위수 (중앙값)\",np.median(arr))\n",
        "print(\"상위 q*100%값\",np.quantile(arr, 0.2))\n",
        "print(\"중복 요소를 제거한 요소\",np.unique(arr))\n"
      ],
      "metadata": {
        "colab": {
          "base_uri": "https://localhost:8080/"
        },
        "id": "Un0PFPuDddtF",
        "outputId": "b5248edc-e8da-4309-fce9-34581824ad5b"
      },
      "execution_count": 17,
      "outputs": [
        {
          "output_type": "stream",
          "name": "stdout",
          "text": [
            "합계 116\n",
            "최솟값 1\n",
            "최대값 100\n",
            "평균값 23.2\n",
            "표준편차 38.452048059888824\n",
            "중위수 (중앙값) 5.0\n",
            "상위 q*100%값 2.6\n",
            "중복 요소를 제거한 요소 [  1   3   5   7 100]\n"
          ]
        }
      ]
    },
    {
      "cell_type": "code",
      "source": [
        "#연습문제\n",
        "#다음 배열의 unique() 함수를 적용해 보세요\n",
        "arr = np.array([1, 3, 5, 7, 9, 3, 5, 100])\n",
        "print(np.unique(arr))\n",
        "\n",
        "arr1 = np.unique(arr)\n",
        "print(arr1)"
      ],
      "metadata": {
        "colab": {
          "base_uri": "https://localhost:8080/"
        },
        "id": "9P35UEzWfiWs",
        "outputId": "b6b67b02-3eb2-44de-c1a6-fb6e6dd0bbff"
      },
      "execution_count": 24,
      "outputs": [
        {
          "output_type": "stream",
          "name": "stdout",
          "text": [
            "[  1   3   5   7   9 100]\n",
            "[  1   3   5   7   9 100]\n"
          ]
        }
      ]
    },
    {
      "cell_type": "code",
      "source": [
        "#연습문제1\n",
        "#다음과 같은 리스트 자료가 있다. 넘파이 배열로 전환하고, 다음 통계량 들을 구하시오\n",
        "#평균, 표준편차, 중앙값, 최대값, 최소값\n",
        "#리스트\n",
        "\n",
        "a_list = list(range(30))\n",
        "arr1 = np.array(a_list)\n",
        "print(\"배열 : \", arr1)\n",
        "print(\"평균 : \",np.mean(arr1))\n",
        "print(\"표준편차 : \",np.std(arr1))\n",
        "print(\"중앙값 : \",np.median(arr1))\n",
        "print(\"최댓값 : \",np.max(arr1))\n",
        "print(\"최솟값 : \",np.min(arr1))\n",
        "print(\"\")\n",
        "#연습문제2\n",
        "#위 리스트를 (5, 6) 크기의 넘파이 배열로 전환하고, 열별, 행별 통계량을 구하시오.\n",
        "\n",
        "arr2 = arr1.reshape(5,6)\n",
        "print(\"열별 합\", arr2.sum(axis= 0))  #열별 이므로 x1, y1, z1 이런식으로 더해야함(행방향)\n",
        "print(\"열별 평균 : \",np.mean(arr2, axis = 0))\n",
        "print(\"열별 표준편차 : \",np.std(arr2, axis = 0))\n",
        "print(\"열별 중앙값 : \",np.median(arr2, axis = 0))\n",
        "print(\"열별 최댓값 : \",np.max(arr2, axis = 0))\n",
        "print(\"열별 최솟값 : \",np.min(arr2, axis = 0))\n",
        "print(\"\")\n",
        "\n",
        "print(\"행별 합\", arr2.sum(axis= 1))  #행별 이므로 x1, x2, x3 이런식으로 더해야함(열방향)\n",
        "print(\"행별 열별\", arr2.sum(axis= 1))  #열별 이므로 x1, y1, z1 이런식으로 더해야함(행방향)\n",
        "print(\"행별 평균 : \",np.mean(arr2, axis = 1))\n",
        "print(\"행별 표준편차 : \",np.std(arr2, axis = 1))\n",
        "print(\"행별 중앙값 : \",np.median(arr2, axis = 1))\n",
        "print(\"행별 최댓값 : \",np.max(arr2, axis = 1))\n",
        "print(\"행별 최솟값 : \",np.min(arr2, axis = 1))"
      ],
      "metadata": {
        "colab": {
          "base_uri": "https://localhost:8080/"
        },
        "id": "DFy_JfSugjB4",
        "outputId": "cc6f6187-af0b-4c45-f60a-b601f9e211cc"
      },
      "execution_count": 38,
      "outputs": [
        {
          "output_type": "stream",
          "name": "stdout",
          "text": [
            "배열 :  [ 0  1  2  3  4  5  6  7  8  9 10 11 12 13 14 15 16 17 18 19 20 21 22 23\n",
            " 24 25 26 27 28 29]\n",
            "평균 :  14.5\n",
            "표준편차 :  8.65544144839919\n",
            "중앙값 :  14.5\n",
            "최댓값 :  29\n",
            "최솟값 :  0\n",
            "\n",
            "열별 합 [60 65 70 75 80 85]\n",
            "열별 평균 :  [12. 13. 14. 15. 16. 17.]\n",
            "열별 표준편차 :  [8.48528137 8.48528137 8.48528137 8.48528137 8.48528137 8.48528137]\n",
            "열별 중앙값 :  [12. 13. 14. 15. 16. 17.]\n",
            "열별 최댓값 :  [24 25 26 27 28 29]\n",
            "열별 최솟값 :  [0 1 2 3 4 5]\n",
            "\n",
            "행별 합 [ 15  51  87 123 159]\n",
            "행별 열별 [ 15  51  87 123 159]\n",
            "행별 평균 :  [ 2.5  8.5 14.5 20.5 26.5]\n",
            "행별 표준편차 :  [1.70782513 1.70782513 1.70782513 1.70782513 1.70782513]\n",
            "행별 중앙값 :  [ 2.5  8.5 14.5 20.5 26.5]\n",
            "행별 최댓값 :  [ 5 11 17 23 29]\n",
            "행별 최솟값 :  [ 0  6 12 18 24]\n"
          ]
        }
      ]
    },
    {
      "cell_type": "code",
      "source": [],
      "metadata": {
        "id": "SvJ8KIM1iWiB"
      },
      "execution_count": null,
      "outputs": []
    }
  ]
}