{
  "nbformat": 4,
  "nbformat_minor": 0,
  "metadata": {
    "colab": {
      "provenance": [],
      "authorship_tag": "ABX9TyNuz/3jQkksDagAaW9mAy1I",
      "include_colab_link": true
    },
    "kernelspec": {
      "name": "python3",
      "display_name": "Python 3"
    },
    "language_info": {
      "name": "python"
    }
  },
  "cells": [
    {
      "cell_type": "markdown",
      "metadata": {
        "id": "view-in-github",
        "colab_type": "text"
      },
      "source": [
        "<a href=\"https://colab.research.google.com/github/mesogin/TIS2/blob/main/7_1_%EC%9D%B8%EA%B3%B5_%EC%8B%A0%EA%B2%BD%EB%A7%9D.ipynb\" target=\"_parent\"><img src=\"https://colab.research.google.com/assets/colab-badge.svg\" alt=\"Open In Colab\"/></a>"
      ]
    },
    {
      "cell_type": "markdown",
      "source": [
        "##인공 신경망"
      ],
      "metadata": {
        "id": "I-OZ6-IpDr_Q"
      }
    },
    {
      "cell_type": "code",
      "source": [
        "# 텐서플로우 임포트\n",
        "\n",
        "import tensorflow as tf\n",
        "tf.__version__"
      ],
      "metadata": {
        "colab": {
          "base_uri": "https://localhost:8080/",
          "height": 35
        },
        "id": "S2gardnsFVIQ",
        "outputId": "f6ad6bd4-80bb-4ae3-fa29-522f9e04677b"
      },
      "execution_count": null,
      "outputs": [
        {
          "output_type": "execute_result",
          "data": {
            "text/plain": [
              "'2.11.0'"
            ],
            "application/vnd.google.colaboratory.intrinsic+json": {
              "type": "string"
            }
          },
          "metadata": {},
          "execution_count": 48
        }
      ]
    },
    {
      "cell_type": "code",
      "source": [
        "# 텐서플로우의 keras 패키지 임포트\n",
        "\n",
        "from tensorflow import keras\n",
        "keras.__version__"
      ],
      "metadata": {
        "colab": {
          "base_uri": "https://localhost:8080/",
          "height": 35
        },
        "id": "KKgUAgMEFaY8",
        "outputId": "06c792fc-5946-4d28-ca9a-0c9d053b155e"
      },
      "execution_count": null,
      "outputs": [
        {
          "output_type": "execute_result",
          "data": {
            "text/plain": [
              "'2.11.0'"
            ],
            "application/vnd.google.colaboratory.intrinsic+json": {
              "type": "string"
            }
          },
          "metadata": {},
          "execution_count": 49
        }
      ]
    },
    {
      "cell_type": "code",
      "source": [
        "# 실행마다 동일한 결과를 얻기 위해 케라스에 랜덤 시드를 사용하고 텐서플로 연산을 결정적으로 만듭니다. \n",
        "\n",
        "import tensorflow as tf\n",
        "\n",
        "tf.keras.utils.set_random_seed(42)\n",
        "tf.config.experimental.enable_op_determinism()"
      ],
      "metadata": {
        "id": "80aPYljvFc09"
      },
      "execution_count": null,
      "outputs": []
    },
    {
      "cell_type": "markdown",
      "source": [
        "###패션 MNIST\n",
        "패션 MNIST데이터는 디ㅣㅂ러닝 라이브러리에서 이데이터를 가져올 수 있는 도구를 제공하고 있음."
      ],
      "metadata": {
        "id": "zG7-R-SOFn1n"
      }
    },
    {
      "cell_type": "code",
      "source": [
        "# 패션 MNIST 데이터 다운로드\n",
        "\n",
        "from tensorflow import keras\n",
        "\n",
        "(train_input, train_target), (test_input, test_target) = keras.datasets.fashion_mnist.load_data()"
      ],
      "metadata": {
        "id": "TS1e8zCwFg90"
      },
      "execution_count": null,
      "outputs": []
    },
    {
      "cell_type": "code",
      "source": [
        "print(train_input.shape, train_target.shape)"
      ],
      "metadata": {
        "colab": {
          "base_uri": "https://localhost:8080/"
        },
        "id": "2ySePskUFj2n",
        "outputId": "80f08fc9-1fd3-4ecc-cf2a-268631b80f94"
      },
      "execution_count": null,
      "outputs": [
        {
          "output_type": "stream",
          "name": "stdout",
          "text": [
            "(60000, 28, 28) (60000,)\n"
          ]
        }
      ]
    },
    {
      "cell_type": "code",
      "source": [
        "#input 과 target배열의  차원 알아보기\n",
        "print(train_input.ndim)\n",
        "print(train_target.ndim)"
      ],
      "metadata": {
        "colab": {
          "base_uri": "https://localhost:8080/"
        },
        "id": "5E_VUaZAF1q_",
        "outputId": "45478ef5-df82-414e-a28c-9ef6c7ea1013"
      },
      "execution_count": null,
      "outputs": [
        {
          "output_type": "stream",
          "name": "stdout",
          "text": [
            "3\n",
            "1\n"
          ]
        }
      ]
    },
    {
      "cell_type": "code",
      "source": [
        "#0번째 이미지에서 0번째 행에 포함된 데이터 뽑아오기\n",
        "print(train_input[0,0,:])"
      ],
      "metadata": {
        "colab": {
          "base_uri": "https://localhost:8080/"
        },
        "id": "BibW0DuRHYWf",
        "outputId": "32f82a49-3800-48d1-8065-026b1f92b3ed"
      },
      "execution_count": null,
      "outputs": [
        {
          "output_type": "stream",
          "name": "stdout",
          "text": [
            "[0 0 0 0 0 0 0 0 0 0 0 0 0 0 0 0 0 0 0 0 0 0 0 0 0 0 0 0]\n"
          ]
        }
      ]
    },
    {
      "cell_type": "code",
      "source": [
        "#연습문제\n",
        "#train_input의 3번째 ~ 4번쨰 행을 추출하시오\n",
        "print(train_input[0, 3:5, :])"
      ],
      "metadata": {
        "colab": {
          "base_uri": "https://localhost:8080/"
        },
        "id": "-mwVrodsHTwg",
        "outputId": "4039e02f-efc6-4b82-895d-6928de841867"
      },
      "execution_count": null,
      "outputs": [
        {
          "output_type": "stream",
          "name": "stdout",
          "text": [
            "[[  0   0   0   0   0   0   0   0   0   0   0   0   1   0   0  13  73   0\n",
            "    0   1   4   0   0   0   0   1   1   0]\n",
            " [  0   0   0   0   0   0   0   0   0   0   0   0   3   0  36 136 127  62\n",
            "   54   0   0   0   1   3   4   0   0   3]]\n"
          ]
        }
      ]
    },
    {
      "cell_type": "code",
      "source": [
        "#연습문제 \n",
        "# 0부터 100까지의 타겟값을 출력해보세요\n",
        "print(train_target[:101])"
      ],
      "metadata": {
        "colab": {
          "base_uri": "https://localhost:8080/"
        },
        "id": "aXvQSaAEIaUS",
        "outputId": "aa5c4061-0723-4483-821d-f70085cf64c6"
      },
      "execution_count": null,
      "outputs": [
        {
          "output_type": "stream",
          "name": "stdout",
          "text": [
            "[9 0 0 3 0 2 7 2 5 5 0 9 5 5 7 9 1 0 6 4 3 1 4 8 4 3 0 2 4 4 5 3 6 6 0 8 5\n",
            " 2 1 6 6 7 9 5 9 2 7 3 0 3 3 3 7 2 2 6 6 8 3 3 5 0 5 5 0 2 0 0 4 1 3 1 6 3\n",
            " 1 4 4 6 1 9 1 3 5 7 9 7 1 7 9 9 9 3 2 9 3 6 4 1 1 8 8]\n"
          ]
        }
      ]
    },
    {
      "cell_type": "code",
      "source": [
        "# 훈련 데이터에서 몇 개의 샘플을 그림으로 출력\n",
        "\n",
        "import matplotlib.pyplot as plt\n",
        "#1부터 10까지 size는 500,500으로\n",
        "fig, axs = plt.subplots(1, 10, figsize=(50,50))\n",
        "for i in range(10):\n",
        "    axs[i].imshow(train_input[i], cmap='gray_r')\n",
        "    axs[i].axis('off')\n",
        "plt.show()"
      ],
      "metadata": {
        "colab": {
          "base_uri": "https://localhost:8080/",
          "height": 75
        },
        "id": "u9S8UrfiKTdS",
        "outputId": "3ced8090-6aa2-4210-f672-cec743e98bc9"
      },
      "execution_count": null,
      "outputs": [
        {
          "output_type": "display_data",
          "data": {
            "text/plain": [
              "<Figure size 3600x3600 with 10 Axes>"
            ],
            "image/png": "[encoded data removed]"
          },
          "metadata": {
            "needs_background": "light"
          }
        }
      ]
    },
    {
      "cell_type": "code",
      "source": [
        "#연습문제\n",
        "#처음 input 데이터에서 처음 20개의 이미지 데이터를 선택하여 (2행 10열) 형태의 이미지로 그려보세요\n",
        "# 훈련 데이터에서 몇 개의 샘플을 그림으로 출력\n",
        "\n",
        "import matplotlib.pyplot as plt\n",
        "#1부터 10까지 size는 500,500으로\n",
        "fig, axs = plt.subplots(2, 10, figsize=(10,2))\n",
        "for i in range(2):\n",
        "  for j in range(10):\n",
        "    axs[i][j].imshow(train_input[i*10+j],cmap='gray_r')\n",
        "    axs[i][j].axis('off')\n",
        "\n",
        "plt.show()"
      ],
      "metadata": {
        "colab": {
          "base_uri": "https://localhost:8080/",
          "height": 137
        },
        "id": "UDP5Pz7fOUfI",
        "outputId": "0f5a7cbb-084d-4ce9-a8f9-1ea687f302f3"
      },
      "execution_count": null,
      "outputs": [
        {
          "output_type": "display_data",
          "data": {
            "text/plain": [
              "<Figure size 720x144 with 20 Axes>"
            ],
            "image/png": "[encoded data removed]"
          },
          "metadata": {
            "needs_background": "light"
          }
        }
      ]
    },
    {
      "cell_type": "markdown",
      "source": [
        "##데이터 정규화"
      ],
      "metadata": {
        "id": "gg9q6dM4qe-m"
      }
    },
    {
      "cell_type": "code",
      "source": [
        "# 0~1 사이의 값으로 정규화한 후\n",
        "# reshape() 메서드로 2차원 배열인 각 샘플을 1차원 배열로 펼침\n",
        "\n",
        "train_scaled = train_input / 255.0\n",
        "train_scaled = train_scaled.reshape(-1, 28*28)"
      ],
      "metadata": {
        "id": "-8f3kJKxqj0F"
      },
      "execution_count": null,
      "outputs": []
    },
    {
      "cell_type": "code",
      "source": [
        "# 변환된 train_scaled의 크기 확인\n",
        "\n",
        "print(train_scaled.shape)"
      ],
      "metadata": {
        "colab": {
          "base_uri": "https://localhost:8080/"
        },
        "id": "4xfBRkyQqnPs",
        "outputId": "73957891-ff2a-48b1-d4e7-73e20ea9be23"
      },
      "execution_count": null,
      "outputs": [
        {
          "output_type": "stream",
          "name": "stdout",
          "text": [
            "(60000, 784)\n"
          ]
        }
      ]
    },
    {
      "cell_type": "code",
      "source": [
        "from sklearn.model_selection import cross_validate\n",
        "from sklearn.linear_model import SGDClassifier\n",
        "import numpy as np\n",
        "\n",
        "# 사이킷런 1.1 버전에서는 SGDClassifier의 loss 매개변수 중 \n",
        "# 로지스틱 손실을 의미하는 'log'가 'log_loss'로 바뀐다는 경고가 발생합니다.\n",
        "# 사이킷런 1.1 이상을 사용하는 경우 loss='log'를 loss='log_loss'로 변경하세요.\n",
        "sc = SGDClassifier(loss='log', max_iter=9, random_state=42) # 반복횟수는 5번으로 지정\n",
        "\n",
        "scores = cross_validate(sc, train_scaled, train_target, n_jobs=-1)\n",
        "print(np.mean(scores['test_score']))"
      ],
      "metadata": {
        "colab": {
          "base_uri": "https://localhost:8080/"
        },
        "id": "nL3yESP1qoYX",
        "outputId": "4b9f63b7-a407-4a8f-8bc7-0177f6f5f76d"
      },
      "execution_count": null,
      "outputs": [
        {
          "output_type": "stream",
          "name": "stdout",
          "text": [
            "0.8303666666666667\n"
          ]
        }
      ]
    },
    {
      "cell_type": "markdown",
      "source": [
        "##텐서플로, 케라스"
      ],
      "metadata": {
        "id": "_v95uCBv-T1R"
      }
    },
    {
      "cell_type": "code",
      "source": [
        "import tensorflow as tf"
      ],
      "metadata": {
        "id": "jy331ljL-YPp"
      },
      "execution_count": 63,
      "outputs": []
    },
    {
      "cell_type": "code",
      "source": [
        "from tensorflow import keras"
      ],
      "metadata": {
        "id": "1xsNf_86-Y4D"
      },
      "execution_count": 64,
      "outputs": []
    },
    {
      "cell_type": "code",
      "source": [
        "# 모델 평가(검증)을 위해 훈련세트에서 검증 세트(validation set)를 분리\n",
        "#훈련세트에서도 8ㄷ2로 나눠 최적의 훈련상태로 만듦\n",
        "from sklearn.model_selection import train_test_split\n",
        "\n",
        "train_scaled, val_scaled, train_target, val_target = train_test_split(\n",
        "    train_scaled, train_target, test_size=0.2, random_state=42)"
      ],
      "metadata": {
        "id": "v7zAUeMk-bQe"
      },
      "execution_count": 66,
      "outputs": []
    },
    {
      "cell_type": "code",
      "source": [
        "# 훈련세트의 크기 확인\n",
        "\n",
        "print(train_scaled.shape, train_target.shape)"
      ],
      "metadata": {
        "colab": {
          "base_uri": "https://localhost:8080/"
        },
        "id": "x4xM7i4A-f-k",
        "outputId": "7b6c020e-029f-4eb4-8c3e-d0ec0314c988"
      },
      "execution_count": 67,
      "outputs": [
        {
          "output_type": "stream",
          "name": "stdout",
          "text": [
            "(38400, 784) (38400,)\n"
          ]
        }
      ]
    },
    {
      "cell_type": "code",
      "source": [
        "# 검증세트의 크기 확인\n",
        "\n",
        "print(val_scaled.shape, val_target.shape)"
      ],
      "metadata": {
        "colab": {
          "base_uri": "https://localhost:8080/"
        },
        "id": "HG0qjHo9-hh1",
        "outputId": "0c254ece-b4f5-4420-e7fe-cf3449a8cec3"
      },
      "execution_count": 68,
      "outputs": [
        {
          "output_type": "stream",
          "name": "stdout",
          "text": [
            "(9600, 784) (9600,)\n"
          ]
        }
      ]
    },
    {
      "cell_type": "code",
      "source": [
        "# 첫 번째 신경망 구성\n",
        "# 케라스의 Dense 클래스를 이용한 완전연결층(fully connected layer) 구성\n",
        "\n",
        "# 10: 뉴런(유닛) 개수\n",
        "# activation='softmax': 뉴런의 출력에 적용할 함수\n",
        "# input_shape=(784,) : 입력의 크기dct_d_b\n",
        "\n",
        "dense = keras.layers.Dense(10, activation='softmax', input_shape=(784,))"
      ],
      "metadata": {
        "id": "oJyW9ieV-jdG"
      },
      "execution_count": 69,
      "outputs": []
    },
    {
      "cell_type": "code",
      "source": [
        "# 모델 구성\n",
        "# 케라스의 Sequential 클래스 사용\n",
        "\n",
        "model = keras.Sequential(dense)"
      ],
      "metadata": {
        "id": "9su2eVhXCbud"
      },
      "execution_count": 70,
      "outputs": []
    },
    {
      "cell_type": "code",
      "source": [
        "#모델 훈련 전 설정 단계\n",
        "model.compile(loss='sparse_categorical_crossentropy', metrics='accuracy')"
      ],
      "metadata": {
        "id": "vf08qXZDCdkA"
      },
      "execution_count": 71,
      "outputs": []
    },
    {
      "cell_type": "code",
      "source": [
        "# 확인\n",
        "\n",
        "print(train_target[:10])"
      ],
      "metadata": {
        "colab": {
          "base_uri": "https://localhost:8080/"
        },
        "id": "O8Av_87pCit2",
        "outputId": "45b73de3-749e-4331-a614-d24f93e20874"
      },
      "execution_count": 72,
      "outputs": [
        {
          "output_type": "stream",
          "name": "stdout",
          "text": [
            "[9 4 9 0 4 9 3 6 4 7]\n"
          ]
        }
      ]
    },
    {
      "cell_type": "code",
      "source": [
        "model.fit(train_scaled, train_target, epochs=5)"
      ],
      "metadata": {
        "colab": {
          "base_uri": "https://localhost:8080/"
        },
        "id": "5ZACOmc9Ckma",
        "outputId": "6256cfa2-1b74-4a01-a7e8-f760c740a612"
      },
      "execution_count": 73,
      "outputs": [
        {
          "output_type": "stream",
          "name": "stdout",
          "text": [
            "Epoch 1/5\n",
            "1200/1200 [==============================] - 4s 2ms/step - loss: 0.6346 - accuracy: 0.7849\n",
            "Epoch 2/5\n",
            "1200/1200 [==============================] - 3s 2ms/step - loss: 0.4881 - accuracy: 0.8329\n",
            "Epoch 3/5\n",
            "1200/1200 [==============================] - 4s 4ms/step - loss: 0.4593 - accuracy: 0.8439\n",
            "Epoch 4/5\n",
            "1200/1200 [==============================] - 4s 3ms/step - loss: 0.4456 - accuracy: 0.8481\n",
            "Epoch 5/5\n",
            "1200/1200 [==============================] - 3s 3ms/step - loss: 0.4365 - accuracy: 0.8514\n"
          ]
        },
        {
          "output_type": "execute_result",
          "data": {
            "text/plain": [
              "<keras.callbacks.History at 0x7f59b86fffa0>"
            ]
          },
          "metadata": {},
          "execution_count": 73
        }
      ]
    },
    {
      "cell_type": "code",
      "source": [
        "#모델 성능 확인\n",
        "#케라스이ㅡ 모델 성능 평가 메서드: evaluate()\n",
        "model.evaluate(val_scaled, val_target)"
      ],
      "metadata": {
        "colab": {
          "base_uri": "https://localhost:8080/"
        },
        "id": "VwBwnAI6CnRZ",
        "outputId": "8a153274-43ad-4042-da23-5597ce9b7a38"
      },
      "execution_count": 74,
      "outputs": [
        {
          "output_type": "stream",
          "name": "stdout",
          "text": [
            "300/300 [==============================] - 1s 2ms/step - loss: 0.4230 - accuracy: 0.8630\n"
          ]
        },
        {
          "output_type": "execute_result",
          "data": {
            "text/plain": [
              "[0.42295506596565247, 0.8630208373069763]"
            ]
          },
          "metadata": {},
          "execution_count": 74
        }
      ]
    }
  ]
}