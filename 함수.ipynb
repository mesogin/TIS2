{
  "nbformat": 4,
  "nbformat_minor": 0,
  "metadata": {
    "colab": {
      "provenance": [],
      "authorship_tag": "ABX9TyNKbiAjTQHOyIxgwDufFqGu",
      "include_colab_link": true
    },
    "kernelspec": {
      "name": "python3",
      "display_name": "Python 3"
    },
    "language_info": {
      "name": "python"
    }
  },
  "cells": [
    {
      "cell_type": "markdown",
      "metadata": {
        "id": "view-in-github",
        "colab_type": "text"
      },
      "source": [
        "<a href=\"https://colab.research.google.com/github/mesogin/TIS2/blob/main/%ED%95%A8%EC%88%98.ipynb\" target=\"_parent\"><img src=\"https://colab.research.google.com/assets/colab-badge.svg\" alt=\"Open In Colab\"/></a>"
      ]
    },
    {
      "cell_type": "markdown",
      "source": [
        "#**함수**  \n",
        "_함수는 입력에 따라서 적적한 출력을 반환한다._  \n",
        "_불필요한 반복작업을 줄이고 코드의 흐름을 파악하기 쉬워짐_"
      ],
      "metadata": {
        "id": "MLFRN_eKu56x"
      }
    },
    {
      "cell_type": "markdown",
      "source": [
        "#함수의 기본구조\n",
        "\n",
        "\n",
        "```python\n",
        "def 함수이름(인자) :\n",
        "  수행할 문장1\n",
        "  수행할 문장2\n",
        "  ...\n",
        "  return 출력\n",
        "\n",
        "함수 이름(인자) #함수 호출(call)\n",
        "```\n",
        "\n"
      ],
      "metadata": {
        "id": "JqJzzlDTubld"
      }
    },
    {
      "cell_type": "code",
      "source": [
        "#함수 예시\n",
        "number = 2\n",
        "def add(i) :\n",
        "  x = i + 1\n",
        "  return x\n",
        "\n",
        "print(add(number))"
      ],
      "metadata": {
        "colab": {
          "base_uri": "https://localhost:8080/"
        },
        "id": "SQjGlRi2wDU7",
        "outputId": "76998deb-ac01-42e0-d55c-46240eeb4753"
      },
      "execution_count": null,
      "outputs": [
        {
          "output_type": "stream",
          "name": "stdout",
          "text": [
            "3\n"
          ]
        }
      ]
    },
    {
      "cell_type": "code",
      "source": [
        "def f(x):\n",
        "  y = 2 * x -1\n",
        "  return y\n",
        "\n",
        "print(f(10))"
      ],
      "metadata": {
        "colab": {
          "base_uri": "https://localhost:8080/"
        },
        "id": "vAo_wWimxoTe",
        "outputId": "594e83e9-7fcd-484d-edab-d5a29d28e76c"
      },
      "execution_count": null,
      "outputs": [
        {
          "output_type": "stream",
          "name": "stdout",
          "text": [
            "19\n"
          ]
        }
      ]
    },
    {
      "cell_type": "code",
      "source": [
        "#연습문제\n",
        "#숫자 x를 입력하면 제곱이 되도록 하는 함수를 만들어보세요\n",
        "\n",
        "def f(x):\n",
        "  y = x ** 2\n",
        "  return y\n",
        "\n",
        "print(f(9))"
      ],
      "metadata": {
        "id": "rNlAovoiyMvn",
        "colab": {
          "base_uri": "https://localhost:8080/"
        },
        "outputId": "1e1ff86b-3040-463d-ceca-53f8d68bfd7e"
      },
      "execution_count": null,
      "outputs": [
        {
          "output_type": "stream",
          "name": "stdout",
          "text": [
            "81\n"
          ]
        }
      ]
    },
    {
      "cell_type": "code",
      "source": [
        "#연습문제2\n",
        "#홀수가 입력되면 홀수라는 문자열을 반환하는 함수를 만들어보세요.\n",
        "#그리고 임의이 짝수와 훌수를 하나씩 인자로 입력하여 함수를 호출해 보세요\n",
        "#사용자에게 입력받음(input)\n",
        "\n",
        "def num(x):\n",
        "  if x % 2 == 0:\n",
        "    print(\"입력하신 숫자는 {} 짝수입니다.\".format(x))\n",
        "    return\n",
        "  else:\n",
        "    print(f\"입력하신 숫자는 {x} 홀수입니다.\")\n",
        "    return\n",
        "\n",
        "user_input = input(\"정수를 입력하세요: \")\n",
        "if user_input.isdecimal(): #입력받은 숫자가 10진수 형태인지 확인\n",
        "  user_input = int(user_input)\n",
        "else:\n",
        "  user_input = input(\"정수를 다시 입력하세요: \")\n",
        "  user_input = int(user_input)\n",
        "\n",
        "num(user_input)\n"
      ],
      "metadata": {
        "colab": {
          "base_uri": "https://localhost:8080/"
        },
        "id": "kkGgxm6MzTAT",
        "outputId": "6dfa0cf7-1ff3-4800-ca1d-db4693247eb8"
      },
      "execution_count": null,
      "outputs": [
        {
          "output_type": "stream",
          "name": "stdout",
          "text": [
            "정수를 입력하세요: ee\n",
            "정수를 다시 입력하세요: 32\n",
            "입력하신 숫자는 32 짝수입니다.\n"
          ]
        }
      ]
    },
    {
      "cell_type": "code",
      "source": [
        "#연습문제\n",
        "#3개의 인자를 받아 값을 모두 더하여 반환하는 함수를 만들어보세요\n",
        "\n",
        "def num(x,y,z):\n",
        "  sum = x + y + z\n",
        "  return sum\n",
        "\n",
        "num(1, 2, 3)"
      ],
      "metadata": {
        "colab": {
          "base_uri": "https://localhost:8080/"
        },
        "id": "IsSmyNfr2UWC",
        "outputId": "2492f791-fa3b-497a-c4f3-8568257f2910"
      },
      "execution_count": null,
      "outputs": [
        {
          "output_type": "execute_result",
          "data": {
            "text/plain": [
              "6"
            ]
          },
          "metadata": {},
          "execution_count": 21
        }
      ]
    },
    {
      "cell_type": "code",
      "source": [
        "#입력한 메세지를 n번 출력하는 함수를 정의\n",
        "\n",
        "def print_n_times(msg, n=2):  # n=2는 n의 기본값으로 2를 사용하겠다는 의미\n",
        "  for _ in range(n):  # for문의 변수가 활용되지 않고 단순히 n번 반복하는데 쓰임\n",
        "    print(msg)\n",
        "\n",
        "print_n_times(\"Hello Would\", 5)\n"
      ],
      "metadata": {
        "colab": {
          "base_uri": "https://localhost:8080/"
        },
        "id": "2KRXP8z53Os4",
        "outputId": "18b1c848-2702-42ad-d5f5-3de8c1748669"
      },
      "execution_count": null,
      "outputs": [
        {
          "output_type": "stream",
          "name": "stdout",
          "text": [
            "Hello Would\n",
            "Hello Would\n",
            "Hello Would\n",
            "Hello Would\n",
            "Hello Would\n"
          ]
        }
      ]
    },
    {
      "cell_type": "code",
      "source": [
        "def multyply(a, b):\n",
        "  return a*b\n",
        "\n",
        "multyply(3,2)"
      ],
      "metadata": {
        "colab": {
          "base_uri": "https://localhost:8080/"
        },
        "id": "Q_71_jjdHXP-",
        "outputId": "2834f9b0-9237-44d0-d2f0-b1bc411de2eb"
      },
      "execution_count": null,
      "outputs": [
        {
          "output_type": "execute_result",
          "data": {
            "text/plain": [
              "6"
            ]
          },
          "metadata": {},
          "execution_count": 3
        }
      ]
    },
    {
      "cell_type": "code",
      "source": [
        "#연습문제\n",
        "#구내식당 메뉴를 정의하는 함수 (이름: r1_caffeteria_menu)를 만들어 봅시다.\n",
        "#밥 종류 (rice_kind), 국 종류(soup_kind), 후식 종류(dessert_kind)를 키로 하는 딕셔너리를 반환하는 함수를 정의하되,\n",
        "#후식(디저트)의 기본값은 '매실차'로 설정하세요\n",
        "\n",
        "def r1_caffeteria_menu(rice_kind, soup_kind, dessert_kind='매실차' ):\n",
        "  return {'밥':rice_kind, '국': soup_kind, '후식' : dessert_kind}\n",
        "print(r1_caffeteria_menu('잡곡밥', '아욱국', '오렌지'))\n",
        "print(r1_caffeteria_menu('흰쌀밥', '된장국'))\n",
        "def r1_caffeteria_menu(rice_kind, soup_kind, dish_kind, dessert_kind='매실차' ):\n",
        "  return {'밥':rice_kind, '국': soup_kind, '반찬' : dish_kind,'후식' : dessert_kind}\n",
        "print(r1_caffeteria_menu('잡곡밥', '콩나물국', '김치'))"
      ],
      "metadata": {
        "colab": {
          "base_uri": "https://localhost:8080/"
        },
        "id": "1nhhM_m_JavU",
        "outputId": "1f081984-10c1-4f89-a183-4073aa649f8d"
      },
      "execution_count": null,
      "outputs": [
        {
          "output_type": "stream",
          "name": "stdout",
          "text": [
            "{'밥': '잡곡밥', '국': '아욱국', '후식': '오렌지'}\n",
            "{'밥': '흰쌀밥', '국': '된장국', '후식': '매실차'}\n",
            "{'밥': '잡곡밥', '국': '콩나물국', '반찬': '김치', '후식': '매실차'}\n"
          ]
        }
      ]
    },
    {
      "cell_type": "code",
      "source": [
        "#람다식\n",
        "simple = lambda x: x+2\n",
        "simple(3)"
      ],
      "metadata": {
        "colab": {
          "base_uri": "https://localhost:8080/"
        },
        "id": "875Gw85fPUEF",
        "outputId": "200ef0e5-eb4c-47c7-e41d-ad239088e9af"
      },
      "execution_count": null,
      "outputs": [
        {
          "output_type": "execute_result",
          "data": {
            "text/plain": [
              "5"
            ]
          },
          "metadata": {},
          "execution_count": 32
        }
      ]
    },
    {
      "cell_type": "code",
      "source": [
        "#람다식\n",
        "minus = lambda x, y: x - y\n",
        "minus(31, 22)"
      ],
      "metadata": {
        "colab": {
          "base_uri": "https://localhost:8080/"
        },
        "id": "zb8fNVKTPcvi",
        "outputId": "cd103e94-b61d-4e58-f053-9e9aaf09961b"
      },
      "execution_count": null,
      "outputs": [
        {
          "output_type": "execute_result",
          "data": {
            "text/plain": [
              "9"
            ]
          },
          "metadata": {},
          "execution_count": 34
        }
      ]
    },
    {
      "cell_type": "code",
      "source": [
        "#람다식 함수\n",
        "def minus(x,y):\n",
        "  return x - y\n",
        "\n",
        "minus(3,2)"
      ],
      "metadata": {
        "colab": {
          "base_uri": "https://localhost:8080/"
        },
        "id": "d0MMMtCLPycE",
        "outputId": "a63759ff-13c9-42b8-a47e-7cb7dbbd7e45"
      },
      "execution_count": null,
      "outputs": [
        {
          "output_type": "execute_result",
          "data": {
            "text/plain": [
              "1"
            ]
          },
          "metadata": {},
          "execution_count": 35
        }
      ]
    },
    {
      "cell_type": "code",
      "source": [
        "#문제1:\n",
        "#본인의 이름을 입력하면 '이름이 멋져요~' 라고 출력되는 함수를 만들고 호출해 보세요.\n",
        "\n",
        "def name(x):\n",
        "  if x == '김중교' or x== '중교':\n",
        "    return print(x + \" 이름이 멋져요~\")\n",
        "  else:\n",
        "    return print(\"이름을 잘못 입력 하셨어요\")\n",
        "\n",
        "name('김중교')"
      ],
      "metadata": {
        "colab": {
          "base_uri": "https://localhost:8080/"
        },
        "id": "9MRqIwGLTayE",
        "outputId": "c35129b9-8984-4c1e-d3d6-7340a94819dd"
      },
      "execution_count": null,
      "outputs": [
        {
          "output_type": "stream",
          "name": "stdout",
          "text": [
            "김중교 이름이 멋져요~\n"
          ]
        }
      ]
    },
    {
      "cell_type": "code",
      "source": [
        "#문제2:\n",
        "#어떤 숫자플 입력하면 그 숫자에 1000을 더하여 반환하는 함수를 만들고 호출해 보세요\n",
        "\n",
        "def plus(x):\n",
        "  plus1000 = int(x)\n",
        "  return print(plus1000 + 1000)\n",
        "\n",
        "plus(234)"
      ],
      "metadata": {
        "colab": {
          "base_uri": "https://localhost:8080/"
        },
        "id": "odxX_-XtT7a6",
        "outputId": "aa14c8e1-350c-4269-9f20-81a8ceb5bccf"
      },
      "execution_count": null,
      "outputs": [
        {
          "output_type": "stream",
          "name": "stdout",
          "text": [
            "1234\n"
          ]
        }
      ]
    },
    {
      "cell_type": "code",
      "source": [
        "#문제3:\n",
        "# 좋아하는 숫자 2개를 입력하면, 그 두 숫자를 \"리스트\" 형태로 반환하는 함수를 호출해 보세요\n",
        "\n",
        "def list_Two(x, y):\n",
        "  list = [x, y]\n",
        "  return print(list)\n",
        "\n",
        "list_Two(1,2)"
      ],
      "metadata": {
        "colab": {
          "base_uri": "https://localhost:8080/"
        },
        "id": "-rQvBx53UgY5",
        "outputId": "f8ad0e67-182f-432e-892a-69c6a1a410c2"
      },
      "execution_count": null,
      "outputs": [
        {
          "output_type": "stream",
          "name": "stdout",
          "text": [
            "[1, 2]\n"
          ]
        }
      ]
    },
    {
      "cell_type": "code",
      "source": [
        "#문제4:\n",
        "#본인의 이름과 좋아하는 동물을 입력하면\n",
        "#해당 이름과 동물이 \"튜플(tuple)\" 형태로 반환되는 함수 (my_favorite_animal)를 작성하고 호출해 보세요,\n",
        "#동물의 기본값은 '동물은 다 좋아요'로 하세요.\n",
        "\n",
        "def my_favorite_animal(ani, mal):\n",
        "  animal = (ani, mal)\n",
        "  return print(animal)\n",
        "\n",
        "my_favorite_animal('초롱이', '시루')"
      ],
      "metadata": {
        "colab": {
          "base_uri": "https://localhost:8080/"
        },
        "id": "MtwbcnUBU-Ii",
        "outputId": "e5e34b18-73aa-4e41-e08f-e8876db83ea5"
      },
      "execution_count": null,
      "outputs": [
        {
          "output_type": "stream",
          "name": "stdout",
          "text": [
            "('초롱이', '시루')\n"
          ]
        }
      ]
    },
    {
      "cell_type": "code",
      "source": [
        "#문제5:\n",
        "#본인의 이름과 거주지를 입력하면 딕셔너리 형태로 반환하는 함수를 만들고 호출하세요.\n",
        "def my_home(name,residence):\n",
        "  home = {'이름' : name, '거주지' : residence}\n",
        "  return (home)\n",
        "my_home('김중교', '청라')"
      ],
      "metadata": {
        "colab": {
          "base_uri": "https://localhost:8080/"
        },
        "id": "XetnefUmVgz_",
        "outputId": "e13d8a23-3bc3-4954-f385-2bc97ec3ae15"
      },
      "execution_count": null,
      "outputs": [
        {
          "output_type": "execute_result",
          "data": {
            "text/plain": [
              "{'이름': '김중교', '거주지': '청라'}"
            ]
          },
          "metadata": {},
          "execution_count": 57
        }
      ]
    }
  ]
}