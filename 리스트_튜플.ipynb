{
  "nbformat": 4,
  "nbformat_minor": 0,
  "metadata": {
    "colab": {
      "provenance": [],
      "authorship_tag": "ABX9TyPCNhpdSAYDVMVC9IOB0fHf",
      "include_colab_link": true
    },
    "kernelspec": {
      "name": "python3",
      "display_name": "Python 3"
    },
    "language_info": {
      "name": "python"
    }
  },
  "cells": [
    {
      "cell_type": "markdown",
      "metadata": {
        "id": "view-in-github",
        "colab_type": "text"
      },
      "source": [
        "<a href=\"https://colab.research.google.com/github/mesogin/TIS2/blob/main/%EB%A6%AC%EC%8A%A4%ED%8A%B8_%ED%8A%9C%ED%94%8C.ipynb\" target=\"_parent\"><img src=\"https://colab.research.google.com/assets/colab-badge.svg\" alt=\"Open In Colab\"/></a>"
      ]
    },
    {
      "cell_type": "code",
      "source": [
        "#리스트\n",
        "L = [1, 2, 3, 4]\n",
        "L1 = [5, 6, 7, 8]\n",
        "\n",
        "#튜플\n",
        "T = (1, 2, 3, 4)\n",
        "T1 = (5, 6, 7, 8)\n",
        "\n",
        "print(L, L1)\n",
        "print(T, T1)"
      ],
      "metadata": {
        "id": "5G86ChnH59Hm"
      },
      "execution_count": null,
      "outputs": []
    },
    {
      "cell_type": "code",
      "source": [
        "#인덱싱\n",
        "L = [\"abc\", 10, [\"A\", \"B\"] , (1, 2, 3)]\n",
        "print(L[0], L[1], L[2], L[3])"
      ],
      "metadata": {
        "id": "P53EHYso6Am3"
      },
      "execution_count": null,
      "outputs": []
    },
    {
      "cell_type": "code",
      "source": [
        "#리스트\n",
        "L = [\"A\", \"B\", \"C\", \"D\", \"E\"]\n",
        "print('0번쨰요소\" {}, \"3번쨰요소 {}' .format(L[0], L[3]))"
      ],
      "metadata": {
        "id": "t3502q2D6Kkn"
      },
      "execution_count": null,
      "outputs": []
    },
    {
      "cell_type": "code",
      "source": [
        "\n",
        "#문제 L= [1, 2, 3, \"A\", \"B\", True, [4,5,6]] 첫번째, 세번째, 마지막번째요소 추출하기\n",
        "L= [1, 2, 3, \"A\", \"B\", True, [4,5,6]]\n",
        "print(L[1], L[3], L[6])"
      ],
      "metadata": {
        "id": "DQ1GFUcK6N_5"
      },
      "execution_count": null,
      "outputs": []
    },
    {
      "cell_type": "code",
      "source": [
        "#다중함수 찾기\n",
        "Llist = list(filter(lambda x: L[x] == True, range(len(L))))\n",
        "print(Llist)\n"
      ],
      "metadata": {
        "id": "Rml53gLZ6Tx-"
      },
      "execution_count": null,
      "outputs": []
    },
    {
      "cell_type": "code",
      "source": [
        "#슬라이싱\n",
        "T = (\"A\", \"B\", \"C\", \"D\", \"E\")\n",
        "print(L[0:3])"
      ],
      "metadata": {
        "id": "dY5HUOLu6XW1"
      },
      "execution_count": null,
      "outputs": []
    },
    {
      "cell_type": "code",
      "source": [
        "#문제\n",
        "#1, L을 대상으로 B,C,D를 슬라이싱 추출\n",
        "#2, T를 대상으로 C, D를 슬라이싱 추출\n",
        "L = [\"A\", \"B\", \"C\", \"D\", \"E\"]\n",
        "T = (\"A\", \"B\", \"C\", \"D\", \"E\")\n",
        "\n",
        "print(L[1:4])\n",
        "print(L[2:4])\n",
        "L.index(\"C\")"
      ],
      "metadata": {
        "id": "Vxmy-E-a6Yh3"
      },
      "execution_count": null,
      "outputs": []
    },
    {
      "cell_type": "code",
      "source": [
        "# 리스트속의 리스트 추출하기\n",
        "A = [[1,2,3], [4,5,6]]\n",
        "print(A[1][2])"
      ],
      "metadata": {
        "id": "JYCeRoAS6ep8"
      },
      "execution_count": null,
      "outputs": []
    },
    {
      "cell_type": "code",
      "source": [
        "#리스트는 변경(추가, 제거, 수정)이 가능한 자료형이지만 튜플은 불가능 \n",
        "L = [\"A\", \"B\", \"C\", \"D\", \"E\"]\n",
        "L[0] = \"X\"\n",
        "print(L)"
      ],
      "metadata": {
        "id": "tgP4XKEG6iNA"
      },
      "execution_count": null,
      "outputs": []
    },
    {
      "cell_type": "code",
      "source": [
        "#append 예제\n",
        "#기존 학급이 \"영희\", \"철수\", \"만수\" 등 3명으로 구성된 학급이 있습니다.\n",
        "#\"영자\"가 전학을 왔어요, 이학급 리스트에 영자를 가장 끝에 추가해 보세요\n",
        "Class = [\"영희\", \"철수\", \"만수\"]\n",
        "Class.append(\"영자\")\n",
        "print(Class)"
      ],
      "metadata": {
        "id": "e9UjpHIu6kcA"
      },
      "execution_count": null,
      "outputs": []
    },
    {
      "cell_type": "code",
      "source": [
        "#insert\n",
        "L= [1, 3, 4, 5]\n",
        "L.insert(1,2)\n",
        "print(L)"
      ],
      "metadata": {
        "id": "OAZXQhFG6mnD"
      },
      "execution_count": null,
      "outputs": []
    },
    {
      "cell_type": "code",
      "source": [
        "#remove\n",
        "#같은값이 있는경우 맨앞의 값이 삭제\n",
        "L = [\"A\", \"B\", \"C\", \"D\", \"E\"]\n",
        "L.remove(\"B\")\n",
        "print(L)"
      ],
      "metadata": {
        "id": "ZUayQDlx7QDt"
      },
      "execution_count": null,
      "outputs": []
    },
    {
      "cell_type": "code",
      "source": [
        "#pop\n",
        "#괄호안에 해당 인덱스값 삭제 (값 입력 안한경우 마지막 인덱스 삭제)\n",
        "L = [\"A\", \"B\", \"C\", \"D\", \"E\"]\n",
        "L.pop()\n",
        "print(L)"
      ],
      "metadata": {
        "id": "XnEEYeU37QQN"
      },
      "execution_count": null,
      "outputs": []
    },
    {
      "cell_type": "code",
      "source": [
        "#del\n",
        "#삭제 범위 설정 가능\n",
        "L = [\"A\", \"B\", \"C\", \"D\", \"E\"]\n",
        "del L[2]\n",
        "print(L)\n",
        "del L[1:] #1번이상 삭제\n",
        "print(L)"
      ],
      "metadata": {
        "id": "QrVk52td7Q7Z"
      },
      "execution_count": null,
      "outputs": []
    },
    {
      "cell_type": "code",
      "source": [
        "#len\n",
        "#리스트 길이 구하기\n",
        "L = [\"a\", \"b\", 1, 2]\n",
        "T = (1, 2, 3)\n",
        "print(len(L), len(T))"
      ],
      "metadata": {
        "id": "c4SU3QVM7R5a"
      },
      "execution_count": null,
      "outputs": []
    },
    {
      "cell_type": "code",
      "source": [
        "#중첩 리스트 길이 (L의 0번째 요소 길이 구하기)\n",
        "L =[[1, 2, 3], [4, 5]]\n",
        "print(len(L[0]))"
      ],
      "metadata": {
        "id": "VoDQmX2g_3pr"
      },
      "execution_count": null,
      "outputs": []
    },
    {
      "cell_type": "code",
      "source": [
        "#중첩 리스트 길이 (L의 0번째 요소의 3번째 길이 구하기)\n",
        "L =[[1, 2, 3,[1,2,3,4,5]], [4, 5]]\n",
        "print(len(L[0][3]))"
      ],
      "metadata": {
        "id": "a3kGnw1ADf8G"
      },
      "execution_count": null,
      "outputs": []
    },
    {
      "cell_type": "code",
      "source": [
        "#튜플 값 입력\n",
        "(a, b) = (1, 2)\n",
        "print (a, b)\n",
        "(a, b) = (b, a)\n",
        "print (a, b)"
      ],
      "metadata": {
        "id": "CFUQxZ7rDcEr"
      },
      "execution_count": null,
      "outputs": []
    },
    {
      "cell_type": "code",
      "source": [
        "#오름차순 정렬\n",
        "a = [1, 3, 2]\n",
        "a.sort()\n",
        "a"
      ],
      "metadata": {
        "id": "uarka5NGWhe_"
      },
      "execution_count": null,
      "outputs": []
    },
    {
      "cell_type": "code",
      "source": [
        "#내림차순 정렬\n",
        "r = [1, 3, 2, 4]\n",
        "r.sort()\n",
        "r.reverse()\n",
        "r"
      ],
      "metadata": {
        "colab": {
          "base_uri": "https://localhost:8080/"
        },
        "id": "WMF-U9pQXIH_",
        "outputId": "3b5c24ac-5e36-4be5-8d9c-7a2802ffce35"
      },
      "execution_count": 60,
      "outputs": [
        {
          "output_type": "execute_result",
          "data": {
            "text/plain": [
              "[4, 3, 2, 1]"
            ]
          },
          "metadata": {},
          "execution_count": 60
        }
      ]
    },
    {
      "cell_type": "code",
      "source": [
        "#count\n",
        "a = [1, 2, 3, 4, 1, 2, 1, 11]\n",
        "a.count(1)"
      ],
      "metadata": {
        "colab": {
          "base_uri": "https://localhost:8080/"
        },
        "id": "m5KryqAiXY3A",
        "outputId": "7ed51551-4a18-4895-9454-276f51cb284d"
      },
      "execution_count": 61,
      "outputs": [
        {
          "output_type": "execute_result",
          "data": {
            "text/plain": [
              "3"
            ]
          },
          "metadata": {},
          "execution_count": 61
        }
      ]
    },
    {
      "cell_type": "code",
      "source": [
        "#extend\n",
        "a = [1, 2, 3]\n",
        "b = [4, 5]\n",
        "a.extend(b)\n",
        "a"
      ],
      "metadata": {
        "colab": {
          "base_uri": "https://localhost:8080/"
        },
        "id": "MSJmLHUKX9Gx",
        "outputId": "8ecfd78e-a71e-4d30-89d5-1d97204e7d2c"
      },
      "execution_count": 65,
      "outputs": [
        {
          "output_type": "execute_result",
          "data": {
            "text/plain": [
              "[1, 2, 3, 4, 5]"
            ]
          },
          "metadata": {},
          "execution_count": 65
        }
      ]
    }
  ]
}