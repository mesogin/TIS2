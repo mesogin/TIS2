{
  "nbformat": 4,
  "nbformat_minor": 0,
  "metadata": {
    "colab": {
      "provenance": [],
      "authorship_tag": "ABX9TyPn2L9DSX/11VaanzUxwlky",
      "include_colab_link": true
    },
    "kernelspec": {
      "name": "python3",
      "display_name": "Python 3"
    },
    "language_info": {
      "name": "python"
    }
  },
  "cells": [
    {
      "cell_type": "markdown",
      "metadata": {
        "id": "view-in-github",
        "colab_type": "text"
      },
      "source": [
        "<a href=\"https://colab.research.google.com/github/mesogin/TIS2/blob/main/for%EB%AC%B8.ipynb\" target=\"_parent\"><img src=\"https://colab.research.google.com/assets/colab-badge.svg\" alt=\"Open In Colab\"/></a>"
      ]
    },
    {
      "cell_type": "markdown",
      "source": [
        "#for문\n",
        "for문은 한 변수가 순회 가능한 객체를 순회하면서 코드블록을 반복적으로 실행한다.\n",
        "\n",
        "###형식\n",
        "`for` 변수 `in` 순회가능한 객체:   \n",
        "---반복하여 실행할 내용(코드블록)"
      ],
      "metadata": {
        "id": "-gN8aS4_58YF"
      }
    },
    {
      "cell_type": "code",
      "source": [
        "i=0\n",
        "for i in range(0, 10) :\n",
        "  print(i)"
      ],
      "metadata": {
        "colab": {
          "base_uri": "https://localhost:8080/"
        },
        "id": "GhMwVAGw6uDK",
        "outputId": "ea9b004b-039a-4eae-8ee5-7428b7608045"
      },
      "execution_count": null,
      "outputs": [
        {
          "output_type": "stream",
          "name": "stdout",
          "text": [
            "0\n",
            "1\n",
            "2\n",
            "3\n",
            "4\n",
            "5\n",
            "6\n",
            "7\n",
            "8\n",
            "9\n"
          ]
        }
      ]
    },
    {
      "cell_type": "code",
      "source": [
        "#연습문제\n",
        "#1부터 10까지 구성된 리스트를 대상으로 각각의 원소를 세제곱하고 3으로 더한다음 2로 나눈 값을 결과값으로 출력해 보시오.\n",
        "i=0\n",
        "for i in range(1,11):\n",
        "  x= (i ** 3 + 3)/2\n",
        "  print(x)"
      ],
      "metadata": {
        "id": "efnimve7vxqz"
      },
      "execution_count": null,
      "outputs": []
    },
    {
      "cell_type": "code",
      "source": [
        "#연습문제\n",
        "#n = [[1,2,3], [4,5,6], [7,8,9]] 리스트에서 각각의 요소를 반복문으로 출력하기\n",
        "n = [[1,2,3], [4,5,6], [7,8,9]]\n",
        "for a,b,c in n:\n",
        "  print(a,b,c)"
      ],
      "metadata": {
        "id": "wlssrMvzv_WI"
      },
      "execution_count": null,
      "outputs": []
    },
    {
      "cell_type": "code",
      "source": [
        "A = [1, 2, 3]\n",
        "B = [\"A\", \"B\", \"C\"]\n",
        "\n",
        "for a, b in zip(A, B):\n",
        "  print(a, b)"
      ],
      "metadata": {
        "id": "alhhqHp6wrV-",
        "colab": {
          "base_uri": "https://localhost:8080/"
        },
        "outputId": "4d921c4c-e710-45a3-ab27-828b16b74ca2"
      },
      "execution_count": null,
      "outputs": [
        {
          "output_type": "stream",
          "name": "stdout",
          "text": [
            "1 A\n",
            "2 B\n",
            "3 C\n"
          ]
        }
      ]
    },
    {
      "cell_type": "code",
      "source": [
        "#두 학급이 있는데 [\"철수\", \"만수\", \"성호\"], [\"영희\", \"영자\", \"순이\"] 를 대상으로 두학급의 같은 번호 학생끼리 묶기\n",
        "class1 = [\"철수\", \"만수\", \"성호\"]\n",
        "class2 = [\"영희\", \"영자\", \"순이\"]\n",
        "\n",
        "for a, b in zip(class1, class2):\n",
        " print(\"두 학급의 학생은 {} 와 {} 입니다.\".format(a, b))"
      ],
      "metadata": {
        "colab": {
          "base_uri": "https://localhost:8080/"
        },
        "id": "Ir_bS6UIxi1v",
        "outputId": "94e592b5-a9c1-4aa5-c068-f01bda03e199"
      },
      "execution_count": null,
      "outputs": [
        {
          "output_type": "stream",
          "name": "stdout",
          "text": [
            "두 학급의 학생은 철수 와 영희 입니다.\n",
            "두 학급의 학생은 만수 와 영자 입니다.\n",
            "두 학급의 학생은 성호 와 순이 입니다.\n"
          ]
        }
      ]
    },
    {
      "cell_type": "code",
      "source": [
        "#연습문제\n",
        "#아래의 두 리스트에 대해 A에는 각각의 원소를 제곱하고, B는 각각의 원소에 입니다용을 붙여서 출력하기\n",
        "\n",
        "A = [1, 2, 3]\n",
        "B = [\"A\", \"B\", \"C\"]\n",
        "\n",
        "for a in range(len(A)):\n",
        "  x = A[a]\n",
        "  y = B[a]\n",
        "  z = x ** 2\n",
        "  print(\"{}의 제곱은 {}, B는 {} 입니다\".format(x, z, y))\n"
      ],
      "metadata": {
        "colab": {
          "base_uri": "https://localhost:8080/"
        },
        "id": "X2AdQuC34Med",
        "outputId": "eff004aa-fc6f-4671-9fae-b3543b9cdc53"
      },
      "execution_count": null,
      "outputs": [
        {
          "output_type": "stream",
          "name": "stdout",
          "text": [
            "1의 제곱은 1, B는 A 입니다\n",
            "2의 제곱은 4, B는 B 입니다\n",
            "3의 제곱은 9, B는 C 입니다\n"
          ]
        }
      ]
    },
    {
      "cell_type": "code",
      "source": [
        "#계산기 연습\n",
        "for x in range(1,10):\n",
        "  print(\"\")\n",
        "  print(\"{}단\".format(x))\n",
        "  for y in range(1,10):\n",
        "    z = x * y\n",
        "    print(\"{} X {} = {}\".format(x, y, z))\n",
        "    #f-string 사용하기\n",
        "    #print(f\"{x} * {y} = {x*y}\")"
      ],
      "metadata": {
        "colab": {
          "base_uri": "https://localhost:8080/"
        },
        "id": "88xAvYf76kTu",
        "outputId": "971032e9-764c-4836-80e4-e1fa0c19ad5b"
      },
      "execution_count": null,
      "outputs": [
        {
          "output_type": "stream",
          "name": "stdout",
          "text": [
            "\n",
            "1단\n",
            "1 * 1 = 1\n",
            "1 * 2 = 2\n",
            "1 * 3 = 3\n",
            "1 * 4 = 4\n",
            "1 * 5 = 5\n",
            "1 * 6 = 6\n",
            "1 * 7 = 7\n",
            "1 * 8 = 8\n",
            "1 * 9 = 9\n",
            "\n",
            "2단\n",
            "2 * 1 = 2\n",
            "2 * 2 = 4\n",
            "2 * 3 = 6\n",
            "2 * 4 = 8\n",
            "2 * 5 = 10\n",
            "2 * 6 = 12\n",
            "2 * 7 = 14\n",
            "2 * 8 = 16\n",
            "2 * 9 = 18\n",
            "\n",
            "3단\n",
            "3 * 1 = 3\n",
            "3 * 2 = 6\n",
            "3 * 3 = 9\n",
            "3 * 4 = 12\n",
            "3 * 5 = 15\n",
            "3 * 6 = 18\n",
            "3 * 7 = 21\n",
            "3 * 8 = 24\n",
            "3 * 9 = 27\n",
            "\n",
            "4단\n",
            "4 * 1 = 4\n",
            "4 * 2 = 8\n",
            "4 * 3 = 12\n",
            "4 * 4 = 16\n",
            "4 * 5 = 20\n",
            "4 * 6 = 24\n",
            "4 * 7 = 28\n",
            "4 * 8 = 32\n",
            "4 * 9 = 36\n",
            "\n",
            "5단\n",
            "5 * 1 = 5\n",
            "5 * 2 = 10\n",
            "5 * 3 = 15\n",
            "5 * 4 = 20\n",
            "5 * 5 = 25\n",
            "5 * 6 = 30\n",
            "5 * 7 = 35\n",
            "5 * 8 = 40\n",
            "5 * 9 = 45\n",
            "\n",
            "6단\n",
            "6 * 1 = 6\n",
            "6 * 2 = 12\n",
            "6 * 3 = 18\n",
            "6 * 4 = 24\n",
            "6 * 5 = 30\n",
            "6 * 6 = 36\n",
            "6 * 7 = 42\n",
            "6 * 8 = 48\n",
            "6 * 9 = 54\n",
            "\n",
            "7단\n",
            "7 * 1 = 7\n",
            "7 * 2 = 14\n",
            "7 * 3 = 21\n",
            "7 * 4 = 28\n",
            "7 * 5 = 35\n",
            "7 * 6 = 42\n",
            "7 * 7 = 49\n",
            "7 * 8 = 56\n",
            "7 * 9 = 63\n",
            "\n",
            "8단\n",
            "8 * 1 = 8\n",
            "8 * 2 = 16\n",
            "8 * 3 = 24\n",
            "8 * 4 = 32\n",
            "8 * 5 = 40\n",
            "8 * 6 = 48\n",
            "8 * 7 = 56\n",
            "8 * 8 = 64\n",
            "8 * 9 = 72\n",
            "\n",
            "9단\n",
            "9 * 1 = 9\n",
            "9 * 2 = 18\n",
            "9 * 3 = 27\n",
            "9 * 4 = 36\n",
            "9 * 5 = 45\n",
            "9 * 6 = 54\n",
            "9 * 7 = 63\n",
            "9 * 8 = 72\n",
            "9 * 9 = 81\n"
          ]
        }
      ]
    },
    {
      "cell_type": "markdown",
      "source": [
        "#**enumerate**  \n",
        "\n",
        "인덱스와 요솔르 동시에 순회해야 하는경우 **enumerate** 함수를 사용하면 된다.\n"
      ],
      "metadata": {
        "id": "cIy06mtw8Fhb"
      }
    },
    {
      "cell_type": "code",
      "source": [
        "#enumerate\n",
        "L = [\"A\", \"B\", \"C\"]\n",
        "for idx, value in enumerate(L):\n",
        "  print(idx, value)"
      ],
      "metadata": {
        "id": "z7KM0P9i782v"
      },
      "execution_count": null,
      "outputs": []
    },
    {
      "cell_type": "markdown",
      "source": [
        "**.format을 사용하지 않고 값 입력하는법 \",\"사용하기**"
      ],
      "metadata": {
        "id": "ZdLHkK2t9Na1"
      }
    },
    {
      "cell_type": "code",
      "source": [
        "#.format을 사용하지 않고 값 입력하는법 \",\"사용\n",
        "L = [\"A\", \"B\", \"C\"]\n",
        "for idx, value in enumerate(L):\n",
        "  print(idx, \"번 인덱스는\" ,value, \"입니다.\")"
      ],
      "metadata": {
        "colab": {
          "base_uri": "https://localhost:8080/"
        },
        "id": "LTM2JGYi8lA6",
        "outputId": "40a236e4-1bf4-4788-a920-16edb860e076"
      },
      "execution_count": null,
      "outputs": [
        {
          "output_type": "stream",
          "name": "stdout",
          "text": [
            "0 번 인덱스는 A 입니다.\n",
            "1 번 인덱스는 B 입니다.\n",
            "2 번 인덱스는 C 입니다.\n"
          ]
        }
      ]
    },
    {
      "cell_type": "code",
      "source": [
        "A = [1, 2, 3]\n",
        "B = [\"A\", \"B\", \"C\"]\n",
        "L = []\n",
        "\n",
        "for a in A:\n",
        "  print(a)\n",
        "  for b in B:\n",
        "    L.append((a,b))\n",
        "    print(L)\n",
        "\n",
        "print('최종결과', L)"
      ],
      "metadata": {
        "colab": {
          "base_uri": "https://localhost:8080/"
        },
        "id": "VNINIuRt9R25",
        "outputId": "3714bd76-2dbc-45c6-e90c-48a204aeafce"
      },
      "execution_count": null,
      "outputs": [
        {
          "output_type": "stream",
          "name": "stdout",
          "text": [
            "1\n",
            "[(1, 'A')]\n",
            "[(1, 'A'), (1, 'B')]\n",
            "[(1, 'A'), (1, 'B'), (1, 'C')]\n",
            "2\n",
            "[(1, 'A'), (1, 'B'), (1, 'C'), (2, 'A')]\n",
            "[(1, 'A'), (1, 'B'), (1, 'C'), (2, 'A'), (2, 'B')]\n",
            "[(1, 'A'), (1, 'B'), (1, 'C'), (2, 'A'), (2, 'B'), (2, 'C')]\n",
            "3\n",
            "[(1, 'A'), (1, 'B'), (1, 'C'), (2, 'A'), (2, 'B'), (2, 'C'), (3, 'A')]\n",
            "[(1, 'A'), (1, 'B'), (1, 'C'), (2, 'A'), (2, 'B'), (2, 'C'), (3, 'A'), (3, 'B')]\n",
            "[(1, 'A'), (1, 'B'), (1, 'C'), (2, 'A'), (2, 'B'), (2, 'C'), (3, 'A'), (3, 'B'), (3, 'C')]\n",
            "최종결과 [(1, 'A'), (1, 'B'), (1, 'C'), (2, 'A'), (2, 'B'), (2, 'C'), (3, 'A'), (3, 'B'), (3, 'C')]\n"
          ]
        }
      ]
    }
  ]
}