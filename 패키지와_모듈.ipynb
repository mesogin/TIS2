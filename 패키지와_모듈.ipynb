{
  "nbformat": 4,
  "nbformat_minor": 0,
  "metadata": {
    "colab": {
      "provenance": [],
      "authorship_tag": "ABX9TyOHwCVu/WQ39zChxbBUrhtI",
      "include_colab_link": true
    },
    "kernelspec": {
      "name": "python3",
      "display_name": "Python 3"
    },
    "language_info": {
      "name": "python"
    }
  },
  "cells": [
    {
      "cell_type": "markdown",
      "metadata": {
        "id": "view-in-github",
        "colab_type": "text"
      },
      "source": [
        "<a href=\"https://colab.research.google.com/github/mesogin/TIS2/blob/main/%ED%8C%A8%ED%82%A4%EC%A7%80%EC%99%80_%EB%AA%A8%EB%93%88.ipynb\" target=\"_parent\"><img src=\"https://colab.research.google.com/assets/colab-badge.svg\" alt=\"Open In Colab\"/></a>"
      ]
    },
    {
      "cell_type": "markdown",
      "source": [
        "#패키지와 모듈\n",
        "## 모듈\n",
        "**모듈**은 클래스와 함수의 집합인 파이썬 파일이고, **패키지**는 여러 모듈의 집합이다.  \n",
        "\n",
        "##사용방법 1: **import**만 사용하기  \n",
        "모듈은 다음과같이 **import**키워드를 이용하여 불러온다.  \n",
        "  \n",
        "\n",
        "###예시\n",
        "```python\n",
        "import 모듈명 #모듈 불러오기\n",
        "모듈명. 함수명 # 모듈 내 함수 사용\n",
        "```"
      ],
      "metadata": {
        "id": "B196IAi-NAW2"
      }
    },
    {
      "cell_type": "code",
      "execution_count": 1,
      "metadata": {
        "colab": {
          "base_uri": "https://localhost:8080/"
        },
        "id": "lLl-JZmRMNRb",
        "outputId": "333eef99-8f52-45fc-e4ca-86dfe350345a"
      },
      "outputs": [
        {
          "output_type": "stream",
          "name": "stdout",
          "text": [
            "2.0\n"
          ]
        }
      ],
      "source": [
        "#사용예\n",
        "import math\n",
        "print(math.sqrt(4))"
      ]
    },
    {
      "cell_type": "markdown",
      "source": [
        "##사용방법 2: **import**와 **as** 사용하기  \n",
        "모듈명이 너무 긴 경우에는 `as` 키워드로 축약해서 불러오기  \n",
        "###예시\n",
        "```python\n",
        "import 모듈명 as 축약 모듈명 # 모듈 불러오기\n",
        "축약모듈명.함수명 # 모듈 내 함수 사용\n",
        "```\n"
      ],
      "metadata": {
        "id": "ZwpF0RmOOPBs"
      }
    },
    {
      "cell_type": "code",
      "source": [
        "#사용 예\n",
        "import numpy as np\n",
        "np.abs(-9)"
      ],
      "metadata": {
        "colab": {
          "base_uri": "https://localhost:8080/"
        },
        "id": "PNHimfJ8Os-1",
        "outputId": "c7e37d03-eb4d-4844-8182-5b483ce7b3ba"
      },
      "execution_count": 2,
      "outputs": [
        {
          "output_type": "execute_result",
          "data": {
            "text/plain": [
              "9"
            ]
          },
          "metadata": {},
          "execution_count": 2
        }
      ]
    },
    {
      "cell_type": "markdown",
      "source": [
        "##사용방법 3: **from**을 사용해 특정 함수 하나만 불러오기\n",
        "사용할 때마다 모듈명을 붙여야하는 번거로움을 없애주는 frome을 사용하기\n",
        "###예시\n",
        "```python\n",
        "from 모듈명 import 함수명 #모듈 불러오기\n",
        "함수명 # 모듈 내 함수 사용\n",
        "```"
      ],
      "metadata": {
        "id": "Z_bJQ1UyPOB3"
      }
    },
    {
      "cell_type": "code",
      "source": [
        "#사용 예\n",
        "from math import sqrt\n",
        "print(sqrt(4))\n",
        "\n",
        "#사용 예2\n",
        "from math import sqrt, sin\n",
        "print(sqrt(4))\n",
        "print(sin(0))"
      ],
      "metadata": {
        "id": "KZ269ylDPTzh",
        "colab": {
          "base_uri": "https://localhost:8080/"
        },
        "outputId": "249e503f-9018-4804-d485-a55b59f6ca4a"
      },
      "execution_count": 5,
      "outputs": [
        {
          "output_type": "stream",
          "name": "stdout",
          "text": [
            "2.0\n",
            "2.0\n",
            "0.0\n"
          ]
        }
      ]
    },
    {
      "cell_type": "markdown",
      "source": [
        "##사용방법4: **from**을 사용해 모든함수 불러오기\n",
        "**에스터리스크(*)**를 사용하면 **모든 함수**를 불러올 수 있습니다.\n",
        "```python\n",
        "from 모듈명 import * #모듈 불러오기\n",
        "함수명 # 모듈 내 함수 사용\n",
        "```"
      ],
      "metadata": {
        "id": "KbmVCR4xP_T2"
      }
    },
    {
      "cell_type": "code",
      "source": [
        "#사용 예\n",
        "from math import *\n",
        "print(sqrt(4))\n",
        "print(sin(0))\n",
        "print(cos(0))"
      ],
      "metadata": {
        "colab": {
          "base_uri": "https://localhost:8080/"
        },
        "id": "iv8gF5oOQbLu",
        "outputId": "d5308869-2957-4893-e7e1-e89d9d1a84e6"
      },
      "execution_count": 6,
      "outputs": [
        {
          "output_type": "stream",
          "name": "stdout",
          "text": [
            "2.0\n",
            "0.0\n",
            "1.0\n"
          ]
        }
      ]
    },
    {
      "cell_type": "code",
      "source": [
        "#사용방법1.import사용  \n",
        "import math\n",
        "print(math.cos(0))\n",
        "print(math.cos(pi))\n",
        "print(\"\" )  #한줄 넘기기\n",
        "\n",
        "#사용방법2. import, as사용  \n",
        "import math as m\n",
        "print(m.cos(0))\n",
        "print(m.cos(pi))\n",
        "print(\"\" )  #한줄 넘기기\n",
        "\n",
        "#사용방법3. from 사용  \n",
        "from math import cos\n",
        "print(cos(0))\n",
        "print(cos(pi))\n",
        "print(\"\" )  #한줄 넘기기\n",
        "\n",
        "#사용방법4. from, * 사용\n",
        "from math import *\n",
        "print(cos(0))\n",
        "print(cos(pi))\n",
        "print(\"\" )  #한줄 넘기기"
      ],
      "metadata": {
        "id": "c1eXoolEQrI0"
      },
      "execution_count": null,
      "outputs": []
    },
    {
      "cell_type": "markdown",
      "source": [
        "## 패키지에 속한 모듈 불러오기\n",
        "패키지에 속한 모듈은 **패키지.세부패키지** 구조로 불러온다."
      ],
      "metadata": {
        "id": "ukmB7PtfSW6c"
      }
    },
    {
      "cell_type": "code",
      "source": [
        "#패키지에 속한 모듈 불러오기\n",
        "from scipy.spatial.distance import cdist #scipy안에 spatial안에 distance\n",
        "cdist"
      ],
      "metadata": {
        "colab": {
          "base_uri": "https://localhost:8080/"
        },
        "id": "Tfhw9pzPSLvS",
        "outputId": "dfad4c25-3565-4a39-d0b0-7565463ac344"
      },
      "execution_count": 12,
      "outputs": [
        {
          "output_type": "execute_result",
          "data": {
            "text/plain": [
              "<function scipy.spatial.distance.cdist(XA, XB, metric='euclidean', *, out=None, **kwargs)>"
            ]
          },
          "metadata": {},
          "execution_count": 12
        }
      ]
    },
    {
      "cell_type": "code",
      "source": [
        "#연습1\n",
        "import numpy as np\n",
        "np.sqrt(25)"
      ],
      "metadata": {
        "colab": {
          "base_uri": "https://localhost:8080/"
        },
        "id": "xZfSVc8sSt--",
        "outputId": "62f49081-729c-4435-e5f5-e64b2b56c055"
      },
      "execution_count": 13,
      "outputs": [
        {
          "output_type": "execute_result",
          "data": {
            "text/plain": [
              "5.0"
            ]
          },
          "metadata": {},
          "execution_count": 13
        }
      ]
    },
    {
      "cell_type": "code",
      "source": [
        "#연습2\n",
        "import pandas as pd\n",
        "df = pd.DataFrame([1, 2, 3, 4])\n",
        "df"
      ],
      "metadata": {
        "id": "JJMe7TNrS3l-"
      },
      "execution_count": null,
      "outputs": []
    },
    {
      "cell_type": "code",
      "source": [
        "#연습3\n",
        "import sklearn as sk \n",
        "print(sk.__version__)"
      ],
      "metadata": {
        "colab": {
          "base_uri": "https://localhost:8080/"
        },
        "id": "Is5Bu3x8TJ0U",
        "outputId": "c4abbe4b-5991-44d8-8a74-b9d74799db5c"
      },
      "execution_count": 15,
      "outputs": [
        {
          "output_type": "stream",
          "name": "stdout",
          "text": [
            "1.0.2\n"
          ]
        }
      ]
    },
    {
      "cell_type": "code",
      "source": [
        "#연습4\n",
        "from sklearn import linear_model\n",
        "reg = linear_model.LinearRegression()\n",
        "reg.fit([[0, 0], [1, 1], [2, 2]], [0, 1, 2])\n",
        "reg.coef_"
      ],
      "metadata": {
        "colab": {
          "base_uri": "https://localhost:8080/"
        },
        "id": "ZI1rZPNETu_4",
        "outputId": "10d10649-6fec-421c-cf25-33eaa71373d4"
      },
      "execution_count": 21,
      "outputs": [
        {
          "output_type": "execute_result",
          "data": {
            "text/plain": [
              "array([0.5, 0.5])"
            ]
          },
          "metadata": {},
          "execution_count": 21
        }
      ]
    },
    {
      "cell_type": "code",
      "source": [
        "#연습5 딥러닝\n",
        "import tensorflow as tf\n",
        "mnist = tf.keras.datasets.mnist\n",
        "\n",
        "(x_train, y_train),(x_test, y_test) = mnist.load_data()\n",
        "x_train, x_test = x_train / 255.0, x_test / 255.0\n",
        "\n",
        "model = tf.keras.models.Sequential([\n",
        "  tf.keras.layers.Flatten(input_shape=(28, 28)),\n",
        "  tf.keras.layers.Dense(128, activation='relu'),\n",
        "  tf.keras.layers.Dropout(0.2),\n",
        "  tf.keras.layers.Dense(10, activation='softmax')\n",
        "])\n",
        "\n",
        "model.compile(optimizer='adam',\n",
        "              loss='sparse_categorical_crossentropy',\n",
        "              metrics=['accuracy'])\n",
        "\n",
        "model.fit(x_train, y_train, epochs=5)\n",
        "model.evaluate(x_test, y_test)"
      ],
      "metadata": {
        "colab": {
          "base_uri": "https://localhost:8080/"
        },
        "id": "PujwxAgGU7kF",
        "outputId": "d79ae02b-3dec-4baf-b716-2ae74e20b62f"
      },
      "execution_count": 22,
      "outputs": [
        {
          "output_type": "stream",
          "name": "stdout",
          "text": [
            "Downloading data from https://storage.googleapis.com/tensorflow/tf-keras-datasets/mnist.npz\n",
            "11490434/11490434 [==============================] - 0s 0us/step\n",
            "Epoch 1/5\n",
            "1875/1875 [==============================] - 10s 5ms/step - loss: 0.2966 - accuracy: 0.9141\n",
            "Epoch 2/5\n",
            "1875/1875 [==============================] - 8s 4ms/step - loss: 0.1433 - accuracy: 0.9575\n",
            "Epoch 3/5\n",
            "1875/1875 [==============================] - 9s 5ms/step - loss: 0.1062 - accuracy: 0.9675\n",
            "Epoch 4/5\n",
            "1875/1875 [==============================] - 9s 5ms/step - loss: 0.0884 - accuracy: 0.9733\n",
            "Epoch 5/5\n",
            "1875/1875 [==============================] - 8s 4ms/step - loss: 0.0754 - accuracy: 0.9759\n",
            "313/313 [==============================] - 1s 2ms/step - loss: 0.0702 - accuracy: 0.9774\n"
          ]
        },
        {
          "output_type": "execute_result",
          "data": {
            "text/plain": [
              "[0.07021620124578476, 0.977400004863739]"
            ]
          },
          "metadata": {},
          "execution_count": 22
        }
      ]
    }
  ]
}
