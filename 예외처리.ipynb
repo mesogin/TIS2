{
  "nbformat": 4,
  "nbformat_minor": 0,
  "metadata": {
    "colab": {
      "provenance": [],
      "authorship_tag": "ABX9TyMUgrAnAMdWtHrMReL4AnpT",
      "include_colab_link": true
    },
    "kernelspec": {
      "name": "python3",
      "display_name": "Python 3"
    },
    "language_info": {
      "name": "python"
    }
  },
  "cells": [
    {
      "cell_type": "markdown",
      "metadata": {
        "id": "view-in-github",
        "colab_type": "text"
      },
      "source": [
        "<a href=\"https://colab.research.google.com/github/mesogin/TIS2/blob/main/%EC%98%88%EC%99%B8%EC%B2%98%EB%A6%AC.ipynb\" target=\"_parent\"><img src=\"https://colab.research.google.com/assets/colab-badge.svg\" alt=\"Open In Colab\"/></a>"
      ]
    },
    {
      "cell_type": "markdown",
      "source": [
        "#예외 처리\n",
        "예외 처리는 특정 구문을 수행할 때 오류가 발생하면 다른 구문을 실행하는 방법으로, 파이썬에서는 `try ~ except` 구문을 사용하여 구현한다. \n",
        "\n",
        "```python\n",
        "try:\n",
        "  수행할 문장1\n",
        "  수행할 문장2\n",
        "except:\n",
        "  수행할 문장3\n",
        "```\n",
        "**수행할 문장1**과 **수행할 문장2**를 순차적으로 수행하다가 오류 발생 시 **except** 구문으로 가서 **수행할 문장3**을 수행합니다."
      ],
      "metadata": {
        "id": "EsDalqtCY5E3"
      }
    },
    {
      "cell_type": "code",
      "source": [
        "#예시) 5를 0으로 나누는 상황\n",
        "try:\n",
        "  a = 5 / 0\n",
        "  print(a)\n",
        "except:\n",
        "  print(\"0으로 나눌 수 없습니다.\")"
      ],
      "metadata": {
        "colab": {
          "base_uri": "https://localhost:8080/"
        },
        "id": "96vnPICjavef",
        "outputId": "06f96b73-9744-4a00-d24b-1c7d64eba5bf"
      },
      "execution_count": 2,
      "outputs": [
        {
          "output_type": "stream",
          "name": "stdout",
          "text": [
            "0으로 나눌 수 없습니다.\n"
          ]
        }
      ]
    }
  ]
}