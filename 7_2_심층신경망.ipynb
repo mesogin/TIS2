{
  "nbformat": 4,
  "nbformat_minor": 0,
  "metadata": {
    "colab": {
      "provenance": [],
      "authorship_tag": "ABX9TyNZ00NgDnnHZtZSNih7zAxo",
      "include_colab_link": true
    },
    "kernelspec": {
      "name": "python3",
      "display_name": "Python 3"
    },
    "language_info": {
      "name": "python"
    }
  },
  "cells": [
    {
      "cell_type": "markdown",
      "metadata": {
        "id": "view-in-github",
        "colab_type": "text"
      },
      "source": [
        "<a href=\"https://colab.research.google.com/github/mesogin/TIS2/blob/main/7_2_%EC%8B%AC%EC%B8%B5%EC%8B%A0%EA%B2%BD%EB%A7%9D.ipynb\" target=\"_parent\"><img src=\"https://colab.research.google.com/assets/colab-badge.svg\" alt=\"Open In Colab\"/></a>"
      ]
    },
    {
      "cell_type": "markdown",
      "source": [
        "#심층신경망"
      ],
      "metadata": {
        "id": "Dsfh-Q6RJpgb"
      }
    },
    {
      "cell_type": "code",
      "source": [
        "# 실행마다 동일한 결과를 얻기 위해 케라스에 랜덤 시드를 사용하고 텐서플로 연산을 결정적으로 만듭니다. \n",
        "import tensorflow as tf\n",
        "\n",
        "tf.keras.utils.set_random_seed(42)\n",
        "tf.config.experimental.enable_op_determinism()"
      ],
      "metadata": {
        "id": "hk-iPfMbJ8w3"
      },
      "execution_count": 54,
      "outputs": []
    },
    {
      "cell_type": "markdown",
      "source": [
        "##2개의 층(layer)추가"
      ],
      "metadata": {
        "id": "Nys0X31TKD0_"
      }
    },
    {
      "cell_type": "code",
      "source": [
        "# 텐서플로우의 keras 패키지 임포트\n",
        "from tensorflow import keras\n",
        "\n",
        "# 패션 MNIST 데이터 다운로드\n",
        "(train_input, train_target), (test_input, test_target) = keras.datasets.fashion_mnist.load_data()"
      ],
      "metadata": {
        "id": "wbdhR5SXKHir"
      },
      "execution_count": 55,
      "outputs": []
    },
    {
      "cell_type": "code",
      "source": [
        "# 0~1 사이의 값으로 정규화한 후\n",
        "# reshape() 메서드로 2차원 배열인 각 샘플을 1차원 배열로 펼침\n",
        "\n",
        "from sklearn.model_selection import train_test_split\n",
        "\n",
        "train_scaled = train_input / 255.0\n",
        "train_scaled = train_scaled.reshape(-1, 28*28)\n",
        "\n",
        "# 모델 평가(검증)을 위해 훈련세트에서 검증 세트(validation set)를 분리\n",
        "train_scaled, val_scaled, train_target, val_target = train_test_split(\n",
        "    train_scaled, train_target, test_size=0.2, random_state=42)"
      ],
      "metadata": {
        "id": "SuWtJ7bFKNDX"
      },
      "execution_count": 56,
      "outputs": []
    },
    {
      "cell_type": "code",
      "source": [
        "#은닉층(시그모이드 활성화 함수를 사용)\n",
        "#케라스에서 신경망의 첫 번째 층은 input_shape 매개변수로 입력의 크기를 꼭 지정해 주어야 함\n",
        "dense1 = keras.layers.Dense(100, activation='sigmoid', input_shape=(784,))\n",
        "#연습문제\n",
        "#기존 은닉충 뒤에 은닉충(뉴런수: 100, 활성화함수 = sigmoid함수) 하나더 추가\n",
        "# 모델 구조 출력\n",
        "dense2 = keras.layers.Dense(100, activation= 'sigmoid')\n",
        "#출력층 (10은 클래스 개수인 10개에 맞춰진 값)\n",
        "dense3 = keras.layers.Dense(10, activation='softmax')"
      ],
      "metadata": {
        "id": "PKgqf_91Ojz7"
      },
      "execution_count": 57,
      "outputs": []
    },
    {
      "cell_type": "code",
      "source": [],
      "metadata": {
        "id": "yPpln2oknA9K"
      },
      "execution_count": 57,
      "outputs": []
    },
    {
      "cell_type": "code",
      "source": [
        "model = keras.Sequential([dense1, dense2, dense3])"
      ],
      "metadata": {
        "id": "IJuyFHg8np-V"
      },
      "execution_count": 58,
      "outputs": []
    },
    {
      "cell_type": "code",
      "source": [
        "model.summary()"
      ],
      "metadata": {
        "colab": {
          "base_uri": "https://localhost:8080/"
        },
        "id": "fhlkrRmknkNk",
        "outputId": "79e5cc2a-2548-40ff-ce67-b5e0806f6378"
      },
      "execution_count": 59,
      "outputs": [
        {
          "output_type": "stream",
          "name": "stdout",
          "text": [
            "Model: \"sequential_13\"\n",
            "_________________________________________________________________\n",
            " Layer (type)                Output Shape              Param #   \n",
            "=================================================================\n",
            " dense_23 (Dense)            (None, 100)               78500     \n",
            "                                                                 \n",
            " dense_24 (Dense)            (None, 100)               10100     \n",
            "                                                                 \n",
            " dense_25 (Dense)            (None, 10)                1010      \n",
            "                                                                 \n",
            "=================================================================\n",
            "Total params: 89,610\n",
            "Trainable params: 89,610\n",
            "Non-trainable params: 0\n",
            "_________________________________________________________________\n"
          ]
        }
      ]
    },
    {
      "cell_type": "code",
      "source": [
        "#연습문제\n",
        "#은닉층 두개 추가(은닉층1: 뉴런개수 64, 활성화함수:sigmoid, 은닉층2: 뉴런개수 32개, 활성화함수 sigmoid)\n",
        "#각각의 층에 자신만의 이름을 부여 모델도 이름을 부여\n",
        "#층을 추가하는 방법 : add()사용\n",
        "model = keras.Sequential(name='sequential_')\n",
        "model.add(keras.layers.Dense(64, activation='sigmoid', input_shape=(784,), name='dense1'))\n",
        "model.add(keras.layers.Dense(32, activation='sigmoid', name='dense2'))\n",
        "model.add(keras.layers.Dense(10, activation='softmax', name='dense3'))\n"
      ],
      "metadata": {
        "id": "T6Paw4Wts077"
      },
      "execution_count": 60,
      "outputs": []
    },
    {
      "cell_type": "code",
      "source": [
        "model.summary()"
      ],
      "metadata": {
        "colab": {
          "base_uri": "https://localhost:8080/"
        },
        "id": "CH2MxpqWtlHy",
        "outputId": "e602a0f6-ad34-4e25-c504-d11d1ff8838b"
      },
      "execution_count": 61,
      "outputs": [
        {
          "output_type": "stream",
          "name": "stdout",
          "text": [
            "Model: \"sequential_\"\n",
            "_________________________________________________________________\n",
            " Layer (type)                Output Shape              Param #   \n",
            "=================================================================\n",
            " dense1 (Dense)              (None, 64)                50240     \n",
            "                                                                 \n",
            " dense2 (Dense)              (None, 32)                2080      \n",
            "                                                                 \n",
            " dense3 (Dense)              (None, 10)                330       \n",
            "                                                                 \n",
            "=================================================================\n",
            "Total params: 52,650\n",
            "Trainable params: 52,650\n",
            "Non-trainable params: 0\n",
            "_________________________________________________________________\n"
          ]
        }
      ]
    },
    {
      "cell_type": "code",
      "source": [
        "model = keras.Sequential()\n",
        "# Flatten 층 추가(reshape을 통해 1차원 배열로 펼치는 역할 수행)\n",
        "model.add(keras.layers.Flatten(input_shape=(28, 28)))\n",
        "model.add(keras.layers.Dense(100, activation='relu'))\n",
        "model.add(keras.layers.Dense(10, activation='softmax'))"
      ],
      "metadata": {
        "id": "pQWSWUgrwI5V"
      },
      "execution_count": 62,
      "outputs": []
    },
    {
      "cell_type": "code",
      "source": [
        "model.summary()"
      ],
      "metadata": {
        "id": "dZcRSQkswaHF",
        "colab": {
          "base_uri": "https://localhost:8080/"
        },
        "outputId": "c247e4a4-7482-419d-a943-438b15cf6726"
      },
      "execution_count": 63,
      "outputs": [
        {
          "output_type": "stream",
          "name": "stdout",
          "text": [
            "Model: \"sequential_14\"\n",
            "_________________________________________________________________\n",
            " Layer (type)                Output Shape              Param #   \n",
            "=================================================================\n",
            " flatten_1 (Flatten)         (None, 784)               0         \n",
            "                                                                 \n",
            " dense_26 (Dense)            (None, 100)               78500     \n",
            "                                                                 \n",
            " dense_27 (Dense)            (None, 10)                1010      \n",
            "                                                                 \n",
            "=================================================================\n",
            "Total params: 79,510\n",
            "Trainable params: 79,510\n",
            "Non-trainable params: 0\n",
            "_________________________________________________________________\n"
          ]
        }
      ]
    },
    {
      "cell_type": "code",
      "source": [
        "# 훈련 데이터 다시 준비 후 모델 훈련\n",
        "# 앞서와 다르게 reshape() 메서드 적용하지 않음\n",
        "\n",
        "(train_input, train_target), (test_input, test_target) = keras.datasets.fashion_mnist.load_data()\n",
        "\n",
        "train_scaled = train_input / 255.0\n",
        "\n",
        "train_scaled, val_scaled, train_target, val_target = train_test_split(\n",
        "    train_scaled, train_target, test_size=0.2, random_state=42)"
      ],
      "metadata": {
        "id": "8-ckHXelvy5f"
      },
      "execution_count": 64,
      "outputs": []
    },
    {
      "cell_type": "code",
      "source": [
        "# 모델 컴파일 및 훈련\n",
        "\n",
        "model.compile(loss='sparse_categorical_crossentropy', metrics='accuracy')\n",
        "\n",
        "model.fit(train_scaled, train_target, epochs=5)"
      ],
      "metadata": {
        "colab": {
          "base_uri": "https://localhost:8080/"
        },
        "id": "CO36kCHOv0z9",
        "outputId": "a61ff0bf-90ee-4a47-d0d9-41efe2c6ed33"
      },
      "execution_count": 65,
      "outputs": [
        {
          "output_type": "stream",
          "name": "stdout",
          "text": [
            "Epoch 1/5\n",
            "1500/1500 [==============================] - 5s 3ms/step - loss: 0.5291 - accuracy: 0.8113\n",
            "Epoch 2/5\n",
            "1500/1500 [==============================] - 5s 3ms/step - loss: 0.3923 - accuracy: 0.8578\n",
            "Epoch 3/5\n",
            "1500/1500 [==============================] - 4s 3ms/step - loss: 0.3540 - accuracy: 0.8722\n",
            "Epoch 4/5\n",
            "1500/1500 [==============================] - 4s 3ms/step - loss: 0.3328 - accuracy: 0.8814\n",
            "Epoch 5/5\n",
            "1500/1500 [==============================] - 4s 3ms/step - loss: 0.3149 - accuracy: 0.8861\n"
          ]
        },
        {
          "output_type": "execute_result",
          "data": {
            "text/plain": [
              "<keras.callbacks.History at 0x7febfc0b7640>"
            ]
          },
          "metadata": {},
          "execution_count": 65
        }
      ]
    },
    {
      "cell_type": "code",
      "source": [
        "#연습문제\n",
        "#렐루 함수를 넘파이 함수를 이용하여 구현해 보시오. 그리고 함수를 호출하여 -100과 100을 각가 함수의 인자로 넣어 출력해 보세요\n",
        "import numpy as np\n",
        "#max(0, z)\n",
        "\n",
        "def relu(z):\n",
        "  return np.maximum(0, z)\n",
        "\n",
        "print('음수인경우', relu(-100))\n",
        "print('양수인경우', relu(100))"
      ],
      "metadata": {
        "colab": {
          "base_uri": "https://localhost:8080/"
        },
        "id": "T1wo9rt9wkcx",
        "outputId": "a1ab514e-f849-4c80-974f-b38f4dab6c5f"
      },
      "execution_count": 66,
      "outputs": [
        {
          "output_type": "stream",
          "name": "stdout",
          "text": [
            "음수인경우 0\n",
            "양수인경우 100\n"
          ]
        }
      ]
    },
    {
      "cell_type": "code",
      "source": [
        "#연습문제\n",
        "#아담 옵티마이저 객체를 생성하고 학습률을 0.01로 하는 모델을 만들고\n",
        "#모델 구조출력해 보고, 모델 훈련후\n",
        "#검증세트 대상으로 성능 평가해 보기\n",
        "\n",
        "from keras.models import Sequential\n",
        "from keras.layers import Dense\n",
        "from keras.optimizers import Adam\n",
        "\n",
        "model_newadam = keras.Sequential()\n",
        "model_newadam.add(keras.layers.Flatten(input_shape=(28, 28)))\n",
        "model_newadam.add(keras.layers.Dense(100, activation='relu'))\n",
        "model_newadam.add(keras.layers.Dense(10, activation='softmax'))\n",
        "\n",
        "# adam 학습률 지정\n",
        "# adam = Adam(learning_rate=0.01)\n",
        "adam = keras.optimizers.Adam(learning_rate = 0.01)\n",
        "# adam 옵티마이저 객체생성\n",
        "model_newadam.compile(optimizer=adam, loss='sparse_categorical_crossentropy', metrics='accuracy')\n",
        "model_newadam.fit(train_scaled, train_target, epochs=5)\n"
      ],
      "metadata": {
        "colab": {
          "base_uri": "https://localhost:8080/"
        },
        "id": "ljWRN_gkMdGn",
        "outputId": "0f01fd00-4ce3-4496-d795-b5037177db0c"
      },
      "execution_count": 91,
      "outputs": [
        {
          "output_type": "stream",
          "name": "stdout",
          "text": [
            "Epoch 1/5\n",
            "1500/1500 [==============================] - 5s 3ms/step - loss: 0.5353 - accuracy: 0.8096\n",
            "Epoch 2/5\n",
            "1500/1500 [==============================] - 5s 3ms/step - loss: 0.4344 - accuracy: 0.8431\n",
            "Epoch 3/5\n",
            "1500/1500 [==============================] - 4s 3ms/step - loss: 0.4127 - accuracy: 0.8497\n",
            "Epoch 4/5\n",
            "1500/1500 [==============================] - 4s 3ms/step - loss: 0.4014 - accuracy: 0.8540\n",
            "Epoch 5/5\n",
            "1500/1500 [==============================] - 5s 3ms/step - loss: 0.3851 - accuracy: 0.8591\n"
          ]
        },
        {
          "output_type": "execute_result",
          "data": {
            "text/plain": [
              "<keras.callbacks.History at 0x7febea7bb400>"
            ]
          },
          "metadata": {},
          "execution_count": 91
        }
      ]
    },
    {
      "cell_type": "code",
      "source": [
        "model_newadam.evaluate(val_scaled, val_target)"
      ],
      "metadata": {
        "colab": {
          "base_uri": "https://localhost:8080/"
        },
        "id": "QsLfqDLYQugM",
        "outputId": "9b65a1b8-0c54-4363-83b3-bf0eb703dfbf"
      },
      "execution_count": 92,
      "outputs": [
        {
          "output_type": "stream",
          "name": "stdout",
          "text": [
            "375/375 [==============================] - 1s 2ms/step - loss: 0.4423 - accuracy: 0.8485\n"
          ]
        },
        {
          "output_type": "execute_result",
          "data": {
            "text/plain": [
              "[0.44232988357543945, 0.8485000133514404]"
            ]
          },
          "metadata": {},
          "execution_count": 92
        }
      ]
    },
    {
      "cell_type": "code",
      "source": [
        "# 2) SGD 옵티마이저(모멘텀=0.95, 네스테로프 최적화 적용)를 적용하는 모델을 만들고 \n",
        "# 검증세트 대상 성능을 평가해 보세요.\n",
        "print('='*30)\n",
        "print('모멘텀=0.95, 네스테로프 최적화 적용')\n",
        "\n",
        "# 모델 다시 설정(초기화)\n",
        "model_newsgd = keras.Sequential()\n",
        "model_newsgd.add(keras.layers.Flatten(input_shape=(28,28)))\n",
        "model_newsgd.add(keras.layers.Dense(100, activation='relu'))\n",
        "model_newsgd.add(keras.layers.Dense(10, activation='softmax'))\n",
        "\n",
        "#모멘텀=0.95, 네스테로프 최적화 적용\n",
        "new_sgd = keras.optimizers.SGD(momentum=0.95, nesterov=True)\n",
        "model_newsgd.compile(optimizer=new_sgd, loss='sparse_categorical_crossentropy', metrics='accuracy')\n",
        "model_newsgd.fit(train_scaled, train_target, epochs=5)\n",
        "model_newsgd.evaluate(val_scaled, val_target)\n"
      ],
      "metadata": {
        "colab": {
          "base_uri": "https://localhost:8080/"
        },
        "id": "KGSKLATrWkiU",
        "outputId": "e493c7fd-d2a3-4f09-a0d6-44a04ef688c1"
      },
      "execution_count": 93,
      "outputs": [
        {
          "output_type": "stream",
          "name": "stdout",
          "text": [
            "==============================\n",
            "모멘텀=0.95, 네스테로프 최적화 적용\n",
            "Epoch 1/5\n",
            "1500/1500 [==============================] - 5s 3ms/step - loss: 0.5139 - accuracy: 0.8192\n",
            "Epoch 2/5\n",
            "1500/1500 [==============================] - 4s 2ms/step - loss: 0.3937 - accuracy: 0.8585\n",
            "Epoch 3/5\n",
            "1500/1500 [==============================] - 4s 3ms/step - loss: 0.3607 - accuracy: 0.8690\n",
            "Epoch 4/5\n",
            "1500/1500 [==============================] - 5s 3ms/step - loss: 0.3431 - accuracy: 0.8740\n",
            "Epoch 5/5\n",
            "1500/1500 [==============================] - 4s 3ms/step - loss: 0.3236 - accuracy: 0.8803\n",
            "375/375 [==============================] - 1s 2ms/step - loss: 0.3656 - accuracy: 0.8684\n"
          ]
        },
        {
          "output_type": "execute_result",
          "data": {
            "text/plain": [
              "[0.36558446288108826, 0.8684166669845581]"
            ]
          },
          "metadata": {},
          "execution_count": 93
        }
      ]
    }
  ]
}