{
  "nbformat": 4,
  "nbformat_minor": 0,
  "metadata": {
    "colab": {
      "provenance": [],
      "authorship_tag": "ABX9TyN6zysOOA7WyirU4CuPXfmT",
      "include_colab_link": true
    },
    "kernelspec": {
      "name": "python3",
      "display_name": "Python 3"
    },
    "language_info": {
      "name": "python"
    }
  },
  "cells": [
    {
      "cell_type": "markdown",
      "metadata": {
        "id": "view-in-github",
        "colab_type": "text"
      },
      "source": [
        "<a href=\"https://colab.research.google.com/github/mesogin/TIS2/blob/main/%EB%84%98%ED%8C%8C%EC%9D%B4_%EC%9E%90%EB%A3%8C%ED%98%95.ipynb\" target=\"_parent\"><img src=\"https://colab.research.google.com/assets/colab-badge.svg\" alt=\"Open In Colab\"/></a>"
      ]
    },
    {
      "cell_type": "markdown",
      "source": [
        "#넘파이 자료형\n",
        "넘파이 자료형은 배열 자료형인 **ndarray**입니다. 넘파이는 수치 해석용 파이썬 패키지이며, 다차원의 배열구조 클래스인  \n",
        " **ndarray**클래스를 지원하며 백터와 행렬을 사용하는 선형대수 계산에 주로 사용  \n",
        " 넘파이는 **판다스(pandas0, 맷플롯립(matplotlib), 텐서플로우(TensorFlow)라이토치(pytorch)**와 같은 딥러닝 패키지의 기초가 되는 패키지이다."
      ],
      "metadata": {
        "id": "MnO9Z8_gTqNQ"
      }
    },
    {
      "cell_type": "code",
      "source": [
        "l = [1, 2, 3, 4]\n",
        "print(l)\n",
        "\n",
        "l2 = [1, \"A\", [1, 2, 3]]\n",
        "print(l2)"
      ],
      "metadata": {
        "id": "scC81woGUx_q"
      },
      "execution_count": null,
      "outputs": []
    },
    {
      "cell_type": "markdown",
      "source": [
        "##리스트와 ndarray의 차이점\n",
        "구분 | 리스트 | ndarray\n",
        ":--:|:--:|:--:|\n",
        "요소의 자료형 | 상관없음 | 모두 같은 자료형만 가능\n",
        "중첩배열구조 | 상관없음 | 요소 배열의 크기가 모두 같아야함\n",
        "배열 간 연산지원 | 연결만 지원 | 사칙연산 등을 지원\n",
        "인덱싱 | 하나의 요소만 접근 가능 | 여러 요소 동시 접근 가능"
      ],
      "metadata": {
        "id": "49xxgF9mVVP5"
      }
    },
    {
      "cell_type": "code",
      "source": [
        "import numpy as np\n",
        "\n",
        "arr1 = np.array([1, 2, 3, 4])   #int 자료형 포함\n",
        "arr2 = np.array([1, 2, 3.0, 4]) #float 자료형 포함\n",
        "arr3 = np.array([1, 2, \"3\", 4]) #str 자료형 포함\n",
        "\n",
        "print(type(arr1))\n",
        "print(type(arr2))\n",
        "print(type(arr3))\n",
        "\n",
        "print(arr1, arr1.dtype)\n",
        "print(arr2, arr2.dtype)\n",
        "print(arr3, arr3.dtype)"
      ],
      "metadata": {
        "colab": {
          "base_uri": "https://localhost:8080/"
        },
        "id": "ArOwAeS7XaeA",
        "outputId": "bb196786-07cb-454c-8622-7568729696cd"
      },
      "execution_count": 13,
      "outputs": [
        {
          "output_type": "stream",
          "name": "stdout",
          "text": [
            "<class 'numpy.ndarray'>\n",
            "<class 'numpy.ndarray'>\n",
            "<class 'numpy.ndarray'>\n",
            "[1 2 3 4] int64\n",
            "[1. 2. 3. 4.] float64\n",
            "['1' '2' '3' '4'] <U21\n"
          ]
        }
      ]
    },
    {
      "cell_type": "code",
      "source": [
        "#1차원\n",
        "arr1 = np.array([1, 2, 3])\n",
        "#print(arr1)\n",
        "\n",
        "#2차원\n",
        "arr2 = np.array([[1, 2, 3], [4, 5, 6]])\n",
        "#print(arr2)\n",
        "\n",
        "#3차원\n",
        "arr3 = np.array([[[1, 2], [3, 4]], [[5, 6], [7, 8]]])\n",
        "print(arr3)"
      ],
      "metadata": {
        "id": "FvZfV1qNZfEY"
      },
      "execution_count": null,
      "outputs": []
    },
    {
      "cell_type": "code",
      "source": [
        "#문제 1\n",
        "#크기가 (4,)인 1차원 넘파이 배열을 생성하시고, 차원 및 형태를 출력해 보세요\n",
        "#힌트: np.array() 함수 사용, dtype은 명시안함\n",
        "\n",
        "a= [100, 200, 300, 400]\n",
        "arr1 = np.array(a)\n",
        "print('차원', arr1.ndim)  #차원출력\n",
        "print('형태', arr1.shape)  #형태출력"
      ],
      "metadata": {
        "id": "0ca7iL_vgP-n",
        "colab": {
          "base_uri": "https://localhost:8080/"
        },
        "outputId": "ab6b49a6-bc6b-42e2-a420-2f5a3f639ca2"
      },
      "execution_count": 21,
      "outputs": [
        {
          "output_type": "stream",
          "name": "stdout",
          "text": [
            "차원 1\n",
            "형태 (4,)\n"
          ]
        }
      ]
    },
    {
      "cell_type": "code",
      "source": [
        "#문제 2\n",
        "#크기가 (4,3)인 2차원 넘파이 배열을 생성하고 차원 및 형태를 출력해 보세요\n",
        "b = [[100, 200, 300], [400, 500, 600], [700, 800, 900], [1000, 1100, 1200]]\n",
        "arr2 = np.array(b)\n",
        "print('차원', arr2.ndim)\n",
        "print('형태', arr2.shape)"
      ],
      "metadata": {
        "id": "cSHPWtJWgmbp"
      },
      "execution_count": null,
      "outputs": []
    },
    {
      "cell_type": "markdown",
      "source": [
        "###arange()함수와 linspace()함수\n",
        "arange와 linspace함수는 연속으로 요소로 구성된 ndarray를 생성한다.  \n",
        "arange는 range와 유사하게 (시작점, 끝점, 증가폭)입력하며, linspace는 (시작점, 끝점, 요소개수)를 입력한다."
      ],
      "metadata": {
        "id": "Dgz4CSjEjPuY"
      }
    },
    {
      "cell_type": "code",
      "source": [
        "#0부터 1씩 5번 증가\n",
        "arr1 = np.arange(5)\n",
        "display(arr1)"
      ],
      "metadata": {
        "colab": {
          "base_uri": "https://localhost:8080/",
          "height": 35
        },
        "id": "-9dve_DjjpaW",
        "outputId": "22285a9b-996b-4a1b-fa5c-82bc1fa6481e"
      },
      "execution_count": 26,
      "outputs": [
        {
          "output_type": "display_data",
          "data": {
            "text/plain": [
              "array([0, 1, 2, 3, 4])"
            ]
          },
          "metadata": {}
        }
      ]
    },
    {
      "cell_type": "code",
      "source": [
        "#-1 부터 4.5까지 1.5씩증가\n",
        "arr2 = np.arange(-1, 4.5, 1.5)\n",
        "display(arr2)"
      ],
      "metadata": {
        "colab": {
          "base_uri": "https://localhost:8080/",
          "height": 35
        },
        "id": "1NGMN73cj9UC",
        "outputId": "78d1351e-edff-4990-f668-2e0151ed92fd"
      },
      "execution_count": 27,
      "outputs": [
        {
          "output_type": "display_data",
          "data": {
            "text/plain": [
              "array([-1. ,  0.5,  2. ,  3.5])"
            ]
          },
          "metadata": {}
        }
      ]
    },
    {
      "cell_type": "code",
      "source": [
        "#10에서 1까지 2씩 빼면서 만들기\n",
        "arr3 = np.arange(10, 1, -2)\n",
        "display(arr3)"
      ],
      "metadata": {
        "colab": {
          "base_uri": "https://localhost:8080/",
          "height": 35
        },
        "id": "0g1ZbwpWkSzk",
        "outputId": "8e405f39-6649-4151-f1c7-4a212ae31a6d"
      },
      "execution_count": 30,
      "outputs": [
        {
          "output_type": "display_data",
          "data": {
            "text/plain": [
              "array([10,  8,  6,  4,  2])"
            ]
          },
          "metadata": {}
        }
      ]
    },
    {
      "cell_type": "code",
      "source": [
        "#0부터 1사이에 요소개수를 11개로 만들어라\n",
        "arr4 = np.linspace(0, 1, 11)\n",
        "display(arr4)\n"
      ],
      "metadata": {
        "colab": {
          "base_uri": "https://localhost:8080/",
          "height": 35
        },
        "id": "xPf7nlgPkceQ",
        "outputId": "84ce3603-83cb-4b55-ccc0-05cd0aa2ea49"
      },
      "execution_count": 36,
      "outputs": [
        {
          "output_type": "display_data",
          "data": {
            "text/plain": [
              "array([0. , 0.1, 0.2, 0.3, 0.4, 0.5, 0.6, 0.7, 0.8, 0.9, 1. ])"
            ]
          },
          "metadata": {}
        }
      ]
    },
    {
      "cell_type": "markdown",
      "source": [
        "from IPython.core.prefilter import PythonOpsChecker\n",
        "###zeros 함수\n",
        "zeros 함수는 0으로만 구성된 배열을 생성하는데 사용\n",
        "```Python\n",
        "np.zeros(shape, dtype)\n",
        "```"
      ],
      "metadata": {
        "id": "cmO1dditlXxu"
      }
    },
    {
      "cell_type": "code",
      "source": [
        "z1 = np.zeros(5)\n",
        "z1"
      ],
      "metadata": {
        "colab": {
          "base_uri": "https://localhost:8080/"
        },
        "id": "QUKt77nZlFnZ",
        "outputId": "06ac570d-f8c2-4e12-9d28-bec130309f45"
      },
      "execution_count": 38,
      "outputs": [
        {
          "output_type": "execute_result",
          "data": {
            "text/plain": [
              "array([0., 0., 0., 0., 0.])"
            ]
          },
          "metadata": {},
          "execution_count": 38
        }
      ]
    },
    {
      "cell_type": "code",
      "source": [
        "#3차원\n",
        "z3 = np.zeros((3, 2, 4))\n",
        "z3"
      ],
      "metadata": {
        "colab": {
          "base_uri": "https://localhost:8080/"
        },
        "id": "d1Re_ojllMD-",
        "outputId": "cec47745-64ae-4c0b-c7d9-d8d811c2afc5"
      },
      "execution_count": 40,
      "outputs": [
        {
          "output_type": "execute_result",
          "data": {
            "text/plain": [
              "array([[[0., 0., 0., 0.],\n",
              "        [0., 0., 0., 0.]],\n",
              "\n",
              "       [[0., 0., 0., 0.],\n",
              "        [0., 0., 0., 0.]],\n",
              "\n",
              "       [[0., 0., 0., 0.],\n",
              "        [0., 0., 0., 0.]]])"
            ]
          },
          "metadata": {},
          "execution_count": 40
        }
      ]
    },
    {
      "cell_type": "code",
      "source": [
        "#모든 값이 false의 숫자값인 0으로 설정이 되어 전부다 false로 처리\n",
        "arr3 = np.zeros((2, 2), dtype=bool)\n",
        "arr3"
      ],
      "metadata": {
        "colab": {
          "base_uri": "https://localhost:8080/"
        },
        "id": "r3q4Un88lrHQ",
        "outputId": "2970063d-5429-405b-c08b-9906d5f4c730"
      },
      "execution_count": 42,
      "outputs": [
        {
          "output_type": "execute_result",
          "data": {
            "text/plain": [
              "array([[False, False],\n",
              "       [False, False]])"
            ]
          },
          "metadata": {},
          "execution_count": 42
        }
      ]
    },
    {
      "cell_type": "code",
      "source": [
        "arr4 = np.ones((5, 2), dtype=\"i\")\n",
        "arr4"
      ],
      "metadata": {
        "colab": {
          "base_uri": "https://localhost:8080/"
        },
        "id": "ijxxJfWRmG64",
        "outputId": "b57e5cb5-1941-4906-9d66-0b29864f1c55"
      },
      "execution_count": 44,
      "outputs": [
        {
          "output_type": "execute_result",
          "data": {
            "text/plain": [
              "array([[1, 1],\n",
              "       [1, 1],\n",
              "       [1, 1],\n",
              "       [1, 1],\n",
              "       [1, 1]], dtype=int32)"
            ]
          },
          "metadata": {},
          "execution_count": 44
        }
      ]
    },
    {
      "cell_type": "markdown",
      "source": [
        "###zeros_like , ones_like\n",
        "다른 배열의 크기와 같은 값으로 만들때 사용하는 함수다.\n",
        "```python\n",
        "b = np.zeros((2, 3))\n",
        "\n",
        "f = np.ones_like(b, dtype=\"f\")\n",
        "f\n",
        "```"
      ],
      "metadata": {
        "id": "LhyJ9L5xmoSI"
      }
    },
    {
      "cell_type": "code",
      "source": [
        "#ones_like 예시\n",
        "b = np.zeros((2, 3))\n",
        "print(b)\n",
        "\n",
        "f = np.ones_like(b, dtype=\"f\")\n",
        "print(f)"
      ],
      "metadata": {
        "colab": {
          "base_uri": "https://localhost:8080/"
        },
        "id": "fA0vfPOynCQT",
        "outputId": "7a36268e-1ee0-4b38-e8f8-af936dc1768c"
      },
      "execution_count": 47,
      "outputs": [
        {
          "output_type": "stream",
          "name": "stdout",
          "text": [
            "[[0. 0. 0.]\n",
            " [0. 0. 0.]]\n",
            "[[1. 1. 1.]\n",
            " [1. 1. 1.]]\n"
          ]
        }
      ]
    },
    {
      "cell_type": "code",
      "source": [
        "# 연습문제\n",
        "# 1. 다음 배열(arr1)과 같은 크기를 같으며, 각각 0과 1로만 채워진 두 개의 배열을 생성해 보세요.\n",
        "arr1 = np.array([[1,2,3], [4,5,6]])\n",
        "\n",
        "o = np.ones_like(arr1)\n",
        "z = np.zeros_like(arr1)\n",
        "\n",
        "print(o)\n",
        "print(z)"
      ],
      "metadata": {
        "colab": {
          "base_uri": "https://localhost:8080/"
        },
        "id": "IAJ50NlvnUw5",
        "outputId": "3d011f0b-58f6-4f25-ef29-05a0a2b7ec39"
      },
      "execution_count": 50,
      "outputs": [
        {
          "output_type": "stream",
          "name": "stdout",
          "text": [
            "[[1 1 1]\n",
            " [1 1 1]]\n",
            "[[0 0 0]\n",
            " [0 0 0]]\n"
          ]
        }
      ]
    },
    {
      "cell_type": "code",
      "source": [
        "#연습문제 1\n",
        "#5 크기의 전부 0과 전부 1으로 채워진 넘파이 배열을 생성하시오\n",
        "z1 = np.zeros(5)\n",
        "o1 = np.ones(5)\n",
        "print(z1)\n",
        "print(o1)"
      ],
      "metadata": {
        "colab": {
          "base_uri": "https://localhost:8080/"
        },
        "id": "0pzaUZV9nyQg",
        "outputId": "f451624c-a18e-4a12-ff12-8a8e712ad625"
      },
      "execution_count": 51,
      "outputs": [
        {
          "output_type": "execute_result",
          "data": {
            "text/plain": [
              "array([0., 0., 0., 0., 0.])"
            ]
          },
          "metadata": {},
          "execution_count": 51
        }
      ]
    },
    {
      "cell_type": "code",
      "source": [
        "#연습문제 2\n",
        "#(3,4) 크기의 모두0과 전부 1로 채워진 넘파이 배열을 생성하고 차원과 크기를 출력해 보세요.\n",
        "z2 = np.zeros((3,4))\n",
        "o2 = np.ones((3,4))\n",
        "print(z2, z2.shape, z2.ndim)\n",
        "print(o2, o2.shape, o2.ndim)"
      ],
      "metadata": {
        "colab": {
          "base_uri": "https://localhost:8080/"
        },
        "id": "oSc8UnZqoIkW",
        "outputId": "1fcc2b5d-4e79-4e59-cd6c-e6e3e024b1d0"
      },
      "execution_count": 61,
      "outputs": [
        {
          "output_type": "stream",
          "name": "stdout",
          "text": [
            "[[0. 0. 0. 0.]\n",
            " [0. 0. 0. 0.]\n",
            " [0. 0. 0. 0.]] (3, 4) 2\n",
            "[[1. 1. 1. 1.]\n",
            " [1. 1. 1. 1.]\n",
            " [1. 1. 1. 1.]] (3, 4) 2\n"
          ]
        }
      ]
    },
    {
      "cell_type": "code",
      "source": [
        "#연습문제3\n",
        "# 2. 다음 배열(arr2)과 같은 크기를 같으며, 각각 0과 1로만 채워진 두 개의 배열을 생성해 보세요.  \n",
        "arr2 = np.array([[[1, 2], [3, 4]], [[5, 6], [7, 8]]])\n",
        "\n",
        "z3 = np.zeros_like(arr2)\n",
        "o3 = np.ones_like(arr2)\n",
        "\n",
        "print(arr2)\n",
        "print(z3)\n",
        "print(o3)"
      ],
      "metadata": {
        "colab": {
          "base_uri": "https://localhost:8080/"
        },
        "id": "_VN6M26CuH_8",
        "outputId": "3eed4f5a-6693-4662-b93a-5a76408f5e54"
      },
      "execution_count": 63,
      "outputs": [
        {
          "output_type": "stream",
          "name": "stdout",
          "text": [
            "[[[1 2]\n",
            "  [3 4]]\n",
            "\n",
            " [[5 6]\n",
            "  [7 8]]]\n",
            "[[[0 0]\n",
            "  [0 0]]\n",
            "\n",
            " [[0 0]\n",
            "  [0 0]]]\n",
            "[[[1 1]\n",
            "  [1 1]]\n",
            "\n",
            " [[1 1]\n",
            "  [1 1]]]\n"
          ]
        }
      ]
    },
    {
      "cell_type": "markdown",
      "source": [
        "###random 모듈\n",
        "**random** 모듈은 넘파이 패키지에 속한 모듈로 다양한 종류의 난수를 생성하는데 사용\n",
        "```python\n",
        "np.random.random(shape)\n",
        "```"
      ],
      "metadata": {
        "id": "cQ9WD6-Zugk3"
      }
    },
    {
      "cell_type": "code",
      "source": [
        "arr1 = np.random.random(5)\n",
        "arr2 = np.random.random((2,2))\n",
        "\n",
        "print(arr1)\n",
        "print(arr2)"
      ],
      "metadata": {
        "colab": {
          "base_uri": "https://localhost:8080/"
        },
        "id": "-rSnGyLpvZIh",
        "outputId": "d34d4c44-4a6c-4dbf-9eca-dc00a7af813c"
      },
      "execution_count": 64,
      "outputs": [
        {
          "output_type": "stream",
          "name": "stdout",
          "text": [
            "[0.41637072 0.06965495 0.13835605 0.97941536 0.75798905]\n",
            "[[0.31895433 0.70102368]\n",
            " [0.47595415 0.3157912 ]]\n"
          ]
        }
      ]
    },
    {
      "cell_type": "markdown",
      "source": [
        "###normal 함수\n",
        "normal 함수는 정규분포를 따르는 샘플로 구성된 배열을 생성하는데 사용\n",
        "```python\n",
        "np.random.normal(loc, scale, size)\n",
        "```\n",
        "**loc**는 평균, **scale**은 표준편차, **size**는 배열의 모양\n"
      ],
      "metadata": {
        "id": "NAJbW-O-xIt2"
      }
    },
    {
      "cell_type": "code",
      "source": [
        "#문제1\n",
        "#요소개수가 7개이고, 평균이0, 분산이 1인 난수 넘파이 배열 생성하기\n",
        "x = np.random.normal(0,1,7)\n",
        "print(x)"
      ],
      "metadata": {
        "colab": {
          "base_uri": "https://localhost:8080/"
        },
        "id": "Z3prIu_jxW93",
        "outputId": "31d3d33b-27f6-437e-b7fd-4e9e02ab2571"
      },
      "execution_count": 66,
      "outputs": [
        {
          "output_type": "stream",
          "name": "stdout",
          "text": [
            "[ 0.56702774  0.44206589 -0.39861097  0.45520138 -0.20619796 -0.39993452\n",
            "  0.81579589]\n"
          ]
        }
      ]
    },
    {
      "cell_type": "code",
      "source": [
        "#문제2\n",
        "#다음 배열(arr)과 같은 크기의 평균3, 분산이 2인 난수 넘파이 배열생성하기\n",
        "arr = np.zeros((3,2))\n",
        "#y = np.random.normal(3, 2, (np.zeros_like(arr)) 크기만 가져와야하는데 잘못가져옴\n",
        "y = np.random.normal(3, 2, (arr.shape))\n",
        "display(y)"
      ],
      "metadata": {
        "colab": {
          "base_uri": "https://localhost:8080/",
          "height": 71
        },
        "id": "d6fR8edtxrg5",
        "outputId": "d7743d9a-eb1c-4a06-c641-b2facf2c87a0"
      },
      "execution_count": 72,
      "outputs": [
        {
          "output_type": "display_data",
          "data": {
            "text/plain": [
              "array([[0.2657946 , 1.08188258],\n",
              "       [1.9180891 , 1.15712768],\n",
              "       [2.75545222, 5.31206947]])"
            ]
          },
          "metadata": {}
        }
      ]
    },
    {
      "cell_type": "code",
      "source": [
        "#난수의 시드(seed) 설정\n",
        "np.random.seed(0)\n",
        "\n",
        "#0과 1사이의 5개의 요소로 구성된 배열생성\n",
        "#rand() 함수 사용\n",
        "#시드0번에 저장되어있는 난수 값 표시\n",
        "np.random.rand(6)"
      ],
      "metadata": {
        "colab": {
          "base_uri": "https://localhost:8080/"
        },
        "id": "4nYURKVzGfUE",
        "outputId": "c32aa3d7-f265-42f2-d126-0b6c31dd8681"
      },
      "execution_count": 74,
      "outputs": [
        {
          "output_type": "execute_result",
          "data": {
            "text/plain": [
              "array([0.5488135 , 0.71518937, 0.60276338, 0.54488318, 0.4236548 ,\n",
              "       0.64589411])"
            ]
          },
          "metadata": {},
          "execution_count": 74
        }
      ]
    },
    {
      "cell_type": "markdown",
      "source": [
        "numpy.random.choice(a, size=None, replace=True, p=None)\n",
        "- a: 배열이면 원래의 데이터, 정수이면 arange 명령으로 데이터생성  \n",
        "- size: 정수, 샘플숫자  \n",
        "- replace: 불리언, True이면 한번 선택한 데이터 다시선택 가능  \n",
        "- p: 배열 합이 1이 나와야함"
      ],
      "metadata": {
        "id": "4k0CVp2DJziw"
      }
    },
    {
      "cell_type": "code",
      "source": [
        "#오늘 뭐먹지? 라는 모바일 앱을 만드려고 해요\n",
        "menu = ['라면', '스파게티', '된장찌개', '파전']\n",
        "\n",
        "menu_arr = np.array(menu)\n",
        "today_recommended_menu = np.random.choice(menu_arr, 1, replace=True, p=[0.1, 0.1, 0.1, 0.7])\n",
        "today_recommended_menu"
      ],
      "metadata": {
        "colab": {
          "base_uri": "https://localhost:8080/"
        },
        "id": "kfJGfSO0KUC3",
        "outputId": "edf7aedb-4dfc-43de-9faa-cc69179be5d9"
      },
      "execution_count": 77,
      "outputs": [
        {
          "output_type": "execute_result",
          "data": {
            "text/plain": [
              "array(['파전'], dtype='<U4')"
            ]
          },
          "metadata": {},
          "execution_count": 77
        }
      ]
    },
    {
      "cell_type": "code",
      "source": [
        "np.random.randint(10, size=10)"
      ],
      "metadata": {
        "colab": {
          "base_uri": "https://localhost:8080/"
        },
        "id": "s1N-JY1qLU7j",
        "outputId": "4d51c948-0bfb-421c-e869-7d0da92acde0"
      },
      "execution_count": 78,
      "outputs": [
        {
          "output_type": "execute_result",
          "data": {
            "text/plain": [
              "array([6, 8, 8, 1, 6, 7, 7, 8, 1, 5])"
            ]
          },
          "metadata": {},
          "execution_count": 78
        }
      ]
    },
    {
      "cell_type": "code",
      "source": [
        "#randint: 균일 분포의 정수 난수\n",
        "# 로또 번호 생성기 (1~45 숫자중에 7개)\n",
        "np.random.randint(1, 45, size = 7)"
      ],
      "metadata": {
        "colab": {
          "base_uri": "https://localhost:8080/"
        },
        "id": "he-JAxKLL-Lh",
        "outputId": "07696896-1bbd-4bfd-f929-febdb80ec690"
      },
      "execution_count": 80,
      "outputs": [
        {
          "output_type": "execute_result",
          "data": {
            "text/plain": [
              "array([16,  1, 19, 36, 25, 30, 20])"
            ]
          },
          "metadata": {},
          "execution_count": 80
        }
      ]
    },
    {
      "cell_type": "markdown",
      "source": [
        "###배열구조 변경: reshape 메서드\n",
        "reshape메서드를 아래의 코드로 보면 \n",
        "배열 arr의 모양을 newshape로 바꾸는데 사용합니다.  \n",
        "- -1을 입력하면 기존의 열 개수에 맞게 알아서 채워지는 형태\n",
        "```python\n",
        "arr.reshape(newshape)\n",
        "```"
      ],
      "metadata": {
        "id": "1d1UWkoxMfk9"
      }
    },
    {
      "cell_type": "code",
      "source": [
        "#reshape 연습\n",
        "arr1 = np.zeros((4,3))\n",
        "\n",
        "arr2 = arr1.reshape(6,2)\n",
        "print(arr2)\n",
        "print('_'*30)\n",
        "\n",
        "arr3 = arr2.reshape(3,4)\n",
        "print(arr3)\n",
        "print('_'*30)\n",
        "\n",
        "#-1을 사용하여 자동으로 설정하는법\n",
        "arr4 = arr3.reshape(-1, 4) #총 12개의 개수를 행은 자동으로 맞추게 -1설정, 열은 4로 설정\n",
        "print(arr4)\n",
        "print('_'*30)\n",
        "\n",
        "\n",
        "#3차원\n",
        "arr5 = arr4.reshape(2,3,2)\n",
        "print(arr5)\n",
        "print('_'*30)\n",
        "\n",
        "\n",
        "\n"
      ],
      "metadata": {
        "colab": {
          "base_uri": "https://localhost:8080/"
        },
        "id": "YOgEQyTcM5e5",
        "outputId": "f63be832-080f-4385-d1c7-4a53f29dc0d0"
      },
      "execution_count": 96,
      "outputs": [
        {
          "output_type": "stream",
          "name": "stdout",
          "text": [
            "[[0. 0.]\n",
            " [0. 0.]\n",
            " [0. 0.]\n",
            " [0. 0.]\n",
            " [0. 0.]\n",
            " [0. 0.]]\n",
            "______________________________\n",
            "[[0. 0. 0. 0.]\n",
            " [0. 0. 0. 0.]\n",
            " [0. 0. 0. 0.]]\n",
            "______________________________\n",
            "[[0. 0. 0. 0.]\n",
            " [0. 0. 0. 0.]\n",
            " [0. 0. 0. 0.]]\n",
            "______________________________\n",
            "[[[0. 0.]\n",
            "  [0. 0.]\n",
            "  [0. 0.]]\n",
            "\n",
            " [[0. 0.]\n",
            "  [0. 0.]\n",
            "  [0. 0.]]]\n",
            "______________________________\n"
          ]
        }
      ]
    },
    {
      "cell_type": "code",
      "source": [
        "#연습문제\n",
        "#1. 다음 배열이 주어졌을 때, 이 배열과 구성요소가 같고 크기만 (3,8)로 다른 2차원 배열을 생성하시오.\n",
        "arr = np.arange(24)\n",
        "arr1 = arr.reshape(3,8)\n",
        "print(arr1)\n",
        "\n",
        "print(\"\")\n",
        "print(\"=\"*30)\n",
        "print(\"\")\n",
        "\n",
        "#2. 위 배열을 (6,4) 크기의 배열로 만들되, reshape() 메서드에서 -1을 첫 인자로 활용하세요.\n",
        "arr2 = arr1.reshape(-1, 4)\n",
        "print(arr2)\n",
        "\n",
        "print(\"\")\n",
        "print(\"=\"*30)\n",
        "print(\"\")\n",
        "\n",
        "#3. 위 배열을 (3,4,2) 크기의 배열로 만들되, reshape() 메서드에서 -1을 두번째 인자로 활용하세요.\n",
        "#그리고 원하는 형태로 잘 변형 되었는지 확인해보세요(shape 속성 활용)\n",
        "arr3 = arr2.reshape(3, -1, 2)\n",
        "print(arr3, arr3.shape)"
      ],
      "metadata": {
        "colab": {
          "base_uri": "https://localhost:8080/"
        },
        "id": "ab1PCd5mQm_k",
        "outputId": "6c86ac0c-ce3e-414b-fcb1-fa4c35969373"
      },
      "execution_count": 102,
      "outputs": [
        {
          "output_type": "stream",
          "name": "stdout",
          "text": [
            "[[ 0  1  2  3  4  5  6  7]\n",
            " [ 8  9 10 11 12 13 14 15]\n",
            " [16 17 18 19 20 21 22 23]]\n",
            "\n",
            "==============================\n",
            "\n",
            "[[ 0  1  2  3]\n",
            " [ 4  5  6  7]\n",
            " [ 8  9 10 11]\n",
            " [12 13 14 15]\n",
            " [16 17 18 19]\n",
            " [20 21 22 23]]\n",
            "\n",
            "==============================\n",
            "\n",
            "[[[ 0  1]\n",
            "  [ 2  3]\n",
            "  [ 4  5]\n",
            "  [ 6  7]]\n",
            "\n",
            " [[ 8  9]\n",
            "  [10 11]\n",
            "  [12 13]\n",
            "  [14 15]]\n",
            "\n",
            " [[16 17]\n",
            "  [18 19]\n",
            "  [20 21]\n",
            "  [22 23]]] (3, 4, 2)\n"
          ]
        }
      ]
    },
    {
      "cell_type": "code",
      "source": [],
      "metadata": {
        "id": "RySj-jrpRvVJ"
      },
      "execution_count": null,
      "outputs": []
    }
  ]
}