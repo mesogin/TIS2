{
  "nbformat": 4,
  "nbformat_minor": 0,
  "metadata": {
    "colab": {
      "provenance": [],
      "authorship_tag": "ABX9TyOjCDAoZCAwfoViUeG32B9Q",
      "include_colab_link": true
    },
    "kernelspec": {
      "name": "python3",
      "display_name": "Python 3"
    },
    "language_info": {
      "name": "python"
    }
  },
  "cells": [
    {
      "cell_type": "markdown",
      "metadata": {
        "id": "view-in-github",
        "colab_type": "text"
      },
      "source": [
        "<a href=\"https://colab.research.google.com/github/mesogin/TIS2/blob/main/%EB%A6%AC%EC%8A%A4%ED%8A%B8_%EC%BB%B4%ED%94%84%EB%A6%AC%ED%97%A8%EC%85%98.ipynb\" target=\"_parent\"><img src=\"https://colab.research.google.com/assets/colab-badge.svg\" alt=\"Open In Colab\"/></a>"
      ]
    },
    {
      "cell_type": "code",
      "source": [
        "number_list = []\n",
        "\n",
        "for i in range(1,6):\n",
        "  number_list.append(i)\n",
        "\n",
        "number_list"
      ],
      "metadata": {
        "id": "QQHfKxAWiJE_",
        "colab": {
          "base_uri": "https://localhost:8080/"
        },
        "outputId": "d58e166c-7bc7-4c48-a397-3b156c8d12ff"
      },
      "execution_count": 9,
      "outputs": [
        {
          "output_type": "execute_result",
          "data": {
            "text/plain": [
              "[1, 2, 3, 4, 5]"
            ]
          },
          "metadata": {},
          "execution_count": 9
        }
      ]
    },
    {
      "cell_type": "code",
      "source": [
        "number_list = list(range(1,6))\n",
        "number_list"
      ],
      "metadata": {
        "id": "NY01fZ8ziJXE",
        "colab": {
          "base_uri": "https://localhost:8080/"
        },
        "outputId": "c32ce162-3349-4ab2-d0d2-69da56e7df68"
      },
      "execution_count": 10,
      "outputs": [
        {
          "output_type": "execute_result",
          "data": {
            "text/plain": [
              "[1, 2, 3, 4, 5]"
            ]
          },
          "metadata": {},
          "execution_count": 10
        }
      ]
    },
    {
      "cell_type": "code",
      "source": [
        "#리스트 컴프리헨션\n",
        "number_list = [number for number in range(1, 6)]\n",
        "number_list"
      ],
      "metadata": {
        "id": "nZ7FT3sEiJb8",
        "colab": {
          "base_uri": "https://localhost:8080/"
        },
        "outputId": "eebbe775-1971-41ad-d5f1-4a70b6e8dd8b"
      },
      "execution_count": 11,
      "outputs": [
        {
          "output_type": "execute_result",
          "data": {
            "text/plain": [
              "[1, 2, 3, 4, 5]"
            ]
          },
          "metadata": {},
          "execution_count": 11
        }
      ]
    },
    {
      "cell_type": "code",
      "source": [
        "#문자열로 구성된 리스트 [\"축구\", \"농구\", \"배구\"]의 각각의 원소에 \"좋아해요\"를 덧붙여 보세요. 리스트 컴프리헨션 사용\n",
        "sports_list = [\"축구\", \"농구\", \"배구\"]\n",
        "sports_list = [sports + \"좋아해요\" for sports in sports_list] \n",
        "sports_list"
      ],
      "metadata": {
        "id": "T_GKCdlQiJiI",
        "colab": {
          "base_uri": "https://localhost:8080/"
        },
        "outputId": "6d7943b7-1df7-49f4-93f2-9a3ac9d9f8f2"
      },
      "execution_count": 19,
      "outputs": [
        {
          "output_type": "execute_result",
          "data": {
            "text/plain": [
              "['축구좋아해요', '농구좋아해요', '배구좋아해요']"
            ]
          },
          "metadata": {},
          "execution_count": 19
        }
      ]
    },
    {
      "cell_type": "markdown",
      "source": [
        "#딕셔너리 컴프리헨션  \n",
        "딕셔너리 컴프리헨션은 간단히 딕셔너리를 생성하는 방법 중 하나입니다.\n"
      ],
      "metadata": {
        "id": "UByduViFoSFk"
      }
    },
    {
      "cell_type": "code",
      "source": [
        "#딕셔너리 컴프리헨션\n",
        "dict_a = {i:i**2 for i in range(5)}\n",
        "dict_a"
      ],
      "metadata": {
        "colab": {
          "base_uri": "https://localhost:8080/"
        },
        "id": "7bgBf8o5okQy",
        "outputId": "d8873f5e-2311-47ce-c4d2-eaa462248a7a"
      },
      "execution_count": 20,
      "outputs": [
        {
          "output_type": "execute_result",
          "data": {
            "text/plain": [
              "{0: 0, 1: 1, 2: 4, 3: 9, 4: 16}"
            ]
          },
          "metadata": {},
          "execution_count": 20
        }
      ]
    },
    {
      "cell_type": "code",
      "source": [
        "#if문을 사용한 딕셔너리컴프리헨션\n",
        "#{키:값 for 표현식 in 순회가능한 객체 if 조건}\n",
        "\n",
        "dict_b = {i:i**2 for i in range(5) if i**2 <10}\n",
        "dict_b"
      ],
      "metadata": {
        "colab": {
          "base_uri": "https://localhost:8080/"
        },
        "id": "_MzY-Qwno8wl",
        "outputId": "80661b7a-2f0d-47a7-a75d-d6a77eef8755"
      },
      "execution_count": 21,
      "outputs": [
        {
          "output_type": "execute_result",
          "data": {
            "text/plain": [
              "{0: 0, 1: 1, 2: 4, 3: 9}"
            ]
          },
          "metadata": {},
          "execution_count": 21
        }
      ]
    },
    {
      "cell_type": "code",
      "source": [
        "#문제\n",
        "# 1부터 10까지의 숫자 리스트를 가지고, 짝수만을 대상으로 하되 키값은 각각의 숫자, 값은 세제곱하는 딕셔너리 생성\n",
        "dict_c = {i : i ** 3 for i in range(1, 11) if i % 2 ==0}\n",
        "dict_c"
      ],
      "metadata": {
        "colab": {
          "base_uri": "https://localhost:8080/"
        },
        "id": "GZ-nCF6xpUjn",
        "outputId": "ff4c220f-5295-43e7-b182-3139e6d5b6a5"
      },
      "execution_count": 23,
      "outputs": [
        {
          "output_type": "execute_result",
          "data": {
            "text/plain": [
              "{2: 8, 4: 64, 6: 216, 8: 512, 10: 1000}"
            ]
          },
          "metadata": {},
          "execution_count": 23
        }
      ]
    }
  ]
}