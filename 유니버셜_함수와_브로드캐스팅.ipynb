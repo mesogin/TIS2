{
  "nbformat": 4,
  "nbformat_minor": 0,
  "metadata": {
    "colab": {
      "provenance": [],
      "authorship_tag": "ABX9TyPXcht2kxIcYhC+xSGhOen5",
      "include_colab_link": true
    },
    "kernelspec": {
      "name": "python3",
      "display_name": "Python 3"
    },
    "language_info": {
      "name": "python"
    }
  },
  "cells": [
    {
      "cell_type": "markdown",
      "metadata": {
        "id": "view-in-github",
        "colab_type": "text"
      },
      "source": [
        "<a href=\"https://colab.research.google.com/github/mesogin/TIS2/blob/main/%EC%9C%A0%EB%8B%88%EB%B2%84%EC%85%9C_%ED%95%A8%EC%88%98%EC%99%80_%EB%B8%8C%EB%A1%9C%EB%93%9C%EC%BA%90%EC%8A%A4%ED%8C%85.ipynb\" target=\"_parent\"><img src=\"https://colab.research.google.com/assets/colab-badge.svg\" alt=\"Open In Colab\"/></a>"
      ]
    },
    {
      "cell_type": "markdown",
      "source": [
        "#유니버설 함수\n",
        "**유니버설 함수(universal function)**는 벡터 및 행렬 간 연산을 수행하는 함수입니다. 반복문보다 배열간 연산을 훨씬 빠르고 쉽게 구현 할 수 있다는 장점이 있다."
      ],
      "metadata": {
        "id": "5TqtV-9NYhP9"
      }
    },
    {
      "cell_type": "code",
      "execution_count": null,
      "metadata": {
        "colab": {
          "base_uri": "https://localhost:8080/"
        },
        "id": "pWz01EcVXLaG",
        "outputId": "1fe3acf8-3485-4f94-d507-d5876870e818"
      },
      "outputs": [
        {
          "output_type": "execute_result",
          "data": {
            "text/plain": [
              "array([5, 7, 9])"
            ]
          },
          "metadata": {},
          "execution_count": 2
        }
      ],
      "source": [
        "#유니버설 함수를 통한 계산\n",
        "import numpy as np\n",
        "a = np.array([1, 2, 3])\n",
        "b = np.array([4, 5, 6])\n",
        "\n",
        "a + b\n"
      ]
    },
    {
      "cell_type": "markdown",
      "source": [
        "###배열 산술 연산\n",
        "유니버설 함수는 파이썬의 기본 산술 연산자를 사용하기 때문에 특별히 함수명 기억할 필요 X"
      ],
      "metadata": {
        "id": "C9_hgfuSaN4S"
      }
    },
    {
      "cell_type": "code",
      "source": [
        "x = np.arange(4)\n",
        "y = np.linspace(1, 10, 4)\n",
        "\n",
        "print(x)\n",
        "print(y)\n",
        "print(\"x     =\", x)\n",
        "print(\"y     =\", y)\n",
        "print(\"x + 5 =\", x + 5)\n",
        "print(\"x + y =\", x + y)\n",
        "print(\"x - 5 =\", x - 5)\n",
        "print(\"x * 2 =\", x * 2)\n",
        "print(\"x * y =\", x * y)\n",
        "print(\"x / 2 =\", x / 2)\n",
        "print(\"-x     = \", -x)\n",
        "print(\"x ** 2 = \", x ** 2)\n",
        "print(\"x % 2  = \", x % 2)"
      ],
      "metadata": {
        "colab": {
          "base_uri": "https://localhost:8080/"
        },
        "id": "AVN2STn2aX6D",
        "outputId": "54901502-9f59-4671-9c83-cc5cec996182"
      },
      "execution_count": null,
      "outputs": [
        {
          "output_type": "stream",
          "name": "stdout",
          "text": [
            "[0 1 2 3]\n",
            "[ 1.  4.  7. 10.]\n",
            "x     = [0 1 2 3]\n",
            "y     = [ 1.  4.  7. 10.]\n",
            "x + 5 = [5 6 7 8]\n",
            "x + y = [ 1.  5.  9. 13.]\n",
            "x - 5 = [-5 -4 -3 -2]\n",
            "x * 2 = [0 2 4 6]\n",
            "x * y = [ 0.  4. 14. 30.]\n",
            "x / 2 = [0.  0.5 1.  1.5]\n",
            "-x     =  [ 0 -1 -2 -3]\n",
            "x ** 2 =  [0 1 4 9]\n",
            "x % 2  =  [0 1 0 1]\n"
          ]
        }
      ]
    },
    {
      "cell_type": "code",
      "source": [
        "#연습문제\n",
        "#1~100까지 원소 (1씩 증가)로 구성된 넘파이 배열이 있다.\n",
        "x = np.arange(1, 101)\n",
        "#1. 각각의 요소에 3제곰한 새로운 배열을 생성하시오.\n",
        "x1 = x ** 3\n",
        "\n",
        "#2. 각각의 요소를 제곱근을 취한 새로운 배열을 생성하시오.\n",
        "x2 = np.sqrt(x)\n",
        "\n",
        "#3. 각각의 요소에 10을 더한 새로운 배열을 생성하시오.\n",
        "x3 = x + 10\n",
        "x3"
      ],
      "metadata": {
        "colab": {
          "base_uri": "https://localhost:8080/"
        },
        "id": "-IvUWJ4bboKp",
        "outputId": "41cfef76-6cba-4cf3-c9bf-9c3943ccd110"
      },
      "execution_count": null,
      "outputs": [
        {
          "output_type": "execute_result",
          "data": {
            "text/plain": [
              "array([ 11,  12,  13,  14,  15,  16,  17,  18,  19,  20,  21,  22,  23,\n",
              "        24,  25,  26,  27,  28,  29,  30,  31,  32,  33,  34,  35,  36,\n",
              "        37,  38,  39,  40,  41,  42,  43,  44,  45,  46,  47,  48,  49,\n",
              "        50,  51,  52,  53,  54,  55,  56,  57,  58,  59,  60,  61,  62,\n",
              "        63,  64,  65,  66,  67,  68,  69,  70,  71,  72,  73,  74,  75,\n",
              "        76,  77,  78,  79,  80,  81,  82,  83,  84,  85,  86,  87,  88,\n",
              "        89,  90,  91,  92,  93,  94,  95,  96,  97,  98,  99, 100, 101,\n",
              "       102, 103, 104, 105, 106, 107, 108, 109, 110])"
            ]
          },
          "metadata": {},
          "execution_count": 9
        }
      ]
    },
    {
      "cell_type": "markdown",
      "source": [
        "###절대갑 연산\n",
        "numpy의 **abs**함수를 이용하면 모든요소의 절대값을 구할 수 있다."
      ],
      "metadata": {
        "id": "QX48fvojhKNv"
      }
    },
    {
      "cell_type": "code",
      "source": [
        "x = np.array([-2, -1, 0, 1, 2])\n",
        "print(\"abs(x) = \", np.abs(x))"
      ],
      "metadata": {
        "colab": {
          "base_uri": "https://localhost:8080/"
        },
        "id": "qKrsieWIhQFE",
        "outputId": "1392e25b-ad97-48e5-afe3-1af4af5e175d"
      },
      "execution_count": null,
      "outputs": [
        {
          "output_type": "stream",
          "name": "stdout",
          "text": [
            "abs(x) =  [2 1 0 1 2]\n"
          ]
        }
      ]
    },
    {
      "cell_type": "markdown",
      "source": [
        "###지수, 로그 연산\n",
        "넘파이의 **exp, exp2, power, log, log2, log10** 함수 등을 이용하면 지수 혹은 로그를 취할 수 있다."
      ],
      "metadata": {
        "id": "wAFF2BBmhoNq"
      }
    },
    {
      "cell_type": "code",
      "source": [
        "x = np.array([1, 2, 3])\n",
        "print(\"x     =\", x)\n",
        "print(\"e^x   =\", np.exp(x))\n",
        "print(\"2^x   =\", np.exp2(x))\n",
        "print(\"3^x   =\", np.power(3, x))\n",
        "print(\"4^x   =\", np.power(4, x))\n",
        "print(\"ln(x) =\", np.log(x)) \n",
        "print(\"log2(x) =\", np.log2(x)) \n",
        "print(\"log10(x) =\", np.log10(x))"
      ],
      "metadata": {
        "colab": {
          "base_uri": "https://localhost:8080/"
        },
        "id": "kub6kt0vh0JE",
        "outputId": "27ebf805-6a6e-4d61-b8d9-317a8aa653ac"
      },
      "execution_count": null,
      "outputs": [
        {
          "output_type": "stream",
          "name": "stdout",
          "text": [
            "x     = [1 2 3]\n",
            "e^x   = [ 2.71828183  7.3890561  20.08553692]\n",
            "2^x   = [2. 4. 8.]\n",
            "3^x   = [ 3  9 27]\n",
            "4^x   = [ 4 16 64]\n",
            "ln(x) = [0.         0.69314718 1.09861229]\n",
            "log2(x) = [0.        1.        1.5849625]\n",
            "log10(x) = [0.         0.30103    0.47712125]\n"
          ]
        }
      ]
    },
    {
      "cell_type": "code",
      "source": [
        "# 연습\n",
        "# 다음 배열의 각각의 원소에 3을 곱하고 1을 뺀 함수를 구현하여 적용하시오.\n",
        "arr = np.arange(10)\n",
        "\n",
        "#함수 정의\n",
        "def plus_Three_Minus_One(x):\n",
        "  return (x * 3 - 1)\n",
        "\n",
        "#함수 호출, 인자로 배열 입력\n",
        "arr1 = plus_Three_Minus_One(arr)\n",
        "display(arr1)"
      ],
      "metadata": {
        "colab": {
          "base_uri": "https://localhost:8080/",
          "height": 35
        },
        "id": "8dw05cbGh_eT",
        "outputId": "f0dca2a2-8f17-4d73-c606-6c4246d92385"
      },
      "execution_count": null,
      "outputs": [
        {
          "output_type": "display_data",
          "data": {
            "text/plain": [
              "array([-1,  2,  5,  8, 11, 14, 17, 20, 23, 26])"
            ]
          },
          "metadata": {}
        }
      ]
    },
    {
      "cell_type": "markdown",
      "source": [
        "###비교연산\n",
        "유니버설 함수로 배열 간 비교 연산이 가능하다."
      ],
      "metadata": {
        "id": "5VEwJmDLj5aK"
      }
    },
    {
      "cell_type": "code",
      "source": [
        "#비교연산\n",
        "x = np.array([1,2,3])\n",
        "y = np.array([1,3,-2])\n",
        "\n",
        "print(\"x == y: \", x == y)\n",
        "print(\"x > y:\", x > y)\n",
        "print(\"x>=1:\", x>=1)\n",
        "\n",
        "#true인 개수 찾기\n",
        "print(sum(x >= 2))"
      ],
      "metadata": {
        "colab": {
          "base_uri": "https://localhost:8080/"
        },
        "id": "nXPfFo6bkDix",
        "outputId": "6c4a5851-ee2b-4379-f8da-38ea22b764c5"
      },
      "execution_count": null,
      "outputs": [
        {
          "output_type": "stream",
          "name": "stdout",
          "text": [
            "x == y:  [ True False False]\n",
            "x > y: [False False  True]\n",
            "x>=1: [ True  True  True]\n",
            "2\n"
          ]
        }
      ]
    },
    {
      "cell_type": "code",
      "source": [
        "#연습문제\n",
        "#다음 배열에서 짝수인 요소의 개수를 출력하는 코드를 작성하시오.\n",
        "arr = np.arange(45, dtype = int)\n",
        "print('짧은버전', sum(arr % 2 == 0))\n",
        "\n",
        "#긴버전\n",
        "cond = arr % 2 == 0\n",
        "print(sum(cond))\n",
        "\n",
        "#if 버전 (실패)\n",
        "hap = 0\n",
        "if (arr % 2 == 0):\n",
        "  hap += 1\n",
        "else:\n",
        "  hap += 0\n",
        "print(f\"if버전{hap}\")"
      ],
      "metadata": {
        "colab": {
          "base_uri": "https://localhost:8080/"
        },
        "id": "vKQPeF4Vkt77",
        "outputId": "40561dce-c385-4298-9c04-b339dfc25635"
      },
      "execution_count": null,
      "outputs": [
        {
          "output_type": "stream",
          "name": "stdout",
          "text": [
            "짧은버전 23\n",
            "23\n",
            "if버전0\n"
          ]
        }
      ]
    },
    {
      "cell_type": "markdown",
      "source": [
        "###브로드캐스팅\n"
      ],
      "metadata": {
        "id": "GRia9NpInK_5"
      }
    },
    {
      "cell_type": "code",
      "source": [
        "a = np.array([[1, 2], [3, 4]])  #shape : (2, 2)의 2차원 배열, 즉 행렬\n",
        "b = np.array([-1, -2]) #shape : (1, )의 1차원 배열, 백터\n",
        "\n",
        "print(a)\n",
        "print(\"=\"*15)\n",
        "\n",
        "print(b)\n",
        "print(\"=\"*15)\n",
        "\n",
        "print(a + b)"
      ],
      "metadata": {
        "colab": {
          "base_uri": "https://localhost:8080/"
        },
        "id": "mI5Aj6ocnOhM",
        "outputId": "6f931715-9387-4ac8-bfe9-f005fa6c335e"
      },
      "execution_count": null,
      "outputs": [
        {
          "output_type": "stream",
          "name": "stdout",
          "text": [
            "[[1 2]\n",
            " [3 4]]\n",
            "===============\n",
            "[-1 -2]\n",
            "===============\n",
            "[[0 0]\n",
            " [2 2]]\n"
          ]
        }
      ]
    },
    {
      "cell_type": "code",
      "source": [
        "import numpy as np\n",
        "x = np.arange(15).reshape(5, 3)\n",
        "display(x)  # display 함수를 사용하여 x의 원 구조를 망가트리지 않고 출력"
      ],
      "metadata": {
        "colab": {
          "base_uri": "https://localhost:8080/",
          "height": 108
        },
        "id": "KBTYHOU2rGTy",
        "outputId": "a14e2447-4811-4399-d656-4ee163603599"
      },
      "execution_count": null,
      "outputs": [
        {
          "output_type": "display_data",
          "data": {
            "text/plain": [
              "array([[ 0,  1,  2],\n",
              "       [ 3,  4,  5],\n",
              "       [ 6,  7,  8],\n",
              "       [ 9, 10, 11],\n",
              "       [12, 13, 14]])"
            ]
          },
          "metadata": {}
        }
      ]
    }
  ]
}