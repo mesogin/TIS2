{
  "nbformat": 4,
  "nbformat_minor": 0,
  "metadata": {
    "colab": {
      "provenance": [],
      "authorship_tag": "ABX9TyNV4iZJZ6BIBqqtH5zz6Ske",
      "include_colab_link": true
    },
    "kernelspec": {
      "name": "python3",
      "display_name": "Python 3"
    },
    "language_info": {
      "name": "python"
    }
  },
  "cells": [
    {
      "cell_type": "markdown",
      "metadata": {
        "id": "view-in-github",
        "colab_type": "text"
      },
      "source": [
        "<a href=\"https://colab.research.google.com/github/mesogin/TIS2/blob/main/3_%ED%8A%B9%EC%84%B1%EA%B3%B5%ED%95%99%EA%B3%BC_%EB%AA%A8%EB%8D%B8%EA%B7%9C%EC%A0%9C.ipynb\" target=\"_parent\"><img src=\"https://colab.research.google.com/assets/colab-badge.svg\" alt=\"Open In Colab\"/></a>"
      ]
    },
    {
      "cell_type": "markdown",
      "source": [
        "#특성 공학과 규제\n"
      ],
      "metadata": {
        "id": "WGeA5fuM5QCC"
      }
    },
    {
      "cell_type": "markdown",
      "source": [
        "###다중 회귀\n",
        "여러 개의 특성을 사용한 선형 회귀를 다중 회귀라고 부른다.  \n",
        "하나의 특성을 사용했을 때 선형 회귀 모델이 학습하는 것은 직선, 특성이 2개면 선형 회귀는 평면을 학습한다.  \n",
        "\"농어 길이 x 농어 높이\" 를 새로운 특성으로 만듦, 이렇게 기존의 특성을 사용하여 새로운 특성을 만들어 내는 작업을 **특성 공학(feature engineering)**이라고 한다."
      ],
      "metadata": {
        "id": "hgcHDNIQ5elP"
      }
    },
    {
      "cell_type": "markdown",
      "source": [
        "###사이킷런의 변환기\n",
        "사이킷런은 특성을 만들거나 전처리하기 위한 다양한 클래스를 제공한다. 사이킷런에서는 이런 클래스를 변환기 라고 부른다.  \n",
        "변환기 클래스는 fit(), transform()메서드를 제공한다."
      ],
      "metadata": {
        "id": "GF4CNEPF9AOQ"
      }
    },
    {
      "cell_type": "code",
      "source": [
        "# 농어 데이터를 다시 불러옴\n",
        "# 이번에는 판다스를 이용하여 인테넷 상의 파일을 불러옴\n",
        "\n",
        "import pandas as pd\n",
        "\n",
        "df = pd.read_csv('https://bit.ly/perch_csv_data') # read_csv() 함수로 데이터프레임을 만듦\n",
        "print(df)\n",
        "perch_full = df.to_numpy() # to_numpy() 메서드로 넘파이 배열로 전환. df.values 속성과 동일\n",
        "print(perch_full)"
      ],
      "metadata": {
        "id": "QXyxrHtSAtuK"
      },
      "execution_count": null,
      "outputs": []
    },
    {
      "cell_type": "code",
      "source": [
        "# 이전과 같은 방식으로 타깃 데이터 준비\n",
        "\n",
        "import numpy as np\n",
        "\n",
        "perch_weight = np.array(\n",
        "    [5.9, 32.0, 40.0, 51.5, 70.0, 100.0, 78.0, 80.0, 85.0, 85.0, \n",
        "     110.0, 115.0, 125.0, 130.0, 120.0, 120.0, 130.0, 135.0, 110.0, \n",
        "     130.0, 150.0, 145.0, 150.0, 170.0, 225.0, 145.0, 188.0, 180.0, \n",
        "     197.0, 218.0, 300.0, 260.0, 265.0, 250.0, 250.0, 300.0, 320.0, \n",
        "     514.0, 556.0, 840.0, 685.0, 700.0, 700.0, 690.0, 900.0, 650.0, \n",
        "     820.0, 850.0, 900.0, 1015.0, 820.0, 1100.0, 1000.0, 1100.0, \n",
        "     1000.0, 1000.0]\n",
        "     )"
      ],
      "metadata": {
        "id": "N6mCazx5Az2r"
      },
      "execution_count": 20,
      "outputs": []
    },
    {
      "cell_type": "code",
      "source": [
        "from sklearn.model_selection import train_test_split\n",
        "\n",
        "train_input, test_input, train_target, test_target = train_test_split(perch_full, perch_weight, random_state=42)"
      ],
      "metadata": {
        "id": "57nx9f1MA0rx"
      },
      "execution_count": 21,
      "outputs": []
    },
    {
      "cell_type": "code",
      "source": [
        "from sklearn.preprocessing import PolynomialFeatures"
      ],
      "metadata": {
        "id": "enxdW8adA4uI"
      },
      "execution_count": 22,
      "outputs": []
    },
    {
      "cell_type": "markdown",
      "source": [
        "여기서 잠깐: transform 전에 꼭 poly.fit을 사용해야 하나? 훈련을 해야 변환이 가능함. 사이킷런은 일관된 api 때문에 두 단계로 나뉘어져 있음. 두 메서드를 하나로 붙인 fit_transform 메서드도 있음"
      ],
      "metadata": {
        "id": "cBwI-mAzBbGV"
      }
    },
    {
      "cell_type": "markdown",
      "source": [
        "특성이 아주 많아짐. PolynomialFeatures 클래스는 기본적으로 각 특성을 제곱한 항을 추가하고 특성끼리 서로 곱한 항을 추가함. 2와 3을 각기 제곱한 4와 9가 추가되었고, 2와 3을 곱한 6이 추가됨. 그런데 1은 왜 추가되었을까? 다음 식을 보라.\n",
        "\n",
        "무게 = a x 길이 + b x 높이 + c x 두께 + d x 1\n",
        "\n",
        "사실 선형 방정식의 절편을 항상 값이 1인 특성과 곱해지는 계수라고 볼 수 있음. 이렇게 보면 특성은 (길이, 높이, 두께, 1)이 됨. 하지만 사이킷런의 선형 모델은 자동으로 절편을 추가하므로 굳이 이렇게 특성을 만들 필요가 없음. include_bias = False로 지정하여 다시 특성을 변환."
      ],
      "metadata": {
        "id": "1LMViyeHBWOw"
      }
    },
    {
      "cell_type": "code",
      "source": [
        "poly = PolynomialFeatures(include_bias=False)\n",
        "\n",
        "poly.fit(train_input)\n",
        "train_poly = poly.transform(train_input)\n",
        "\n",
        "print(train_poly.shape)"
      ],
      "metadata": {
        "colab": {
          "base_uri": "https://localhost:8080/"
        },
        "id": "0HOep_mcBCiF",
        "outputId": "19239c4f-b404-43ea-e4b2-d34b043f2ac6"
      },
      "execution_count": 23,
      "outputs": [
        {
          "output_type": "stream",
          "name": "stdout",
          "text": [
            "(42, 9)\n"
          ]
        }
      ]
    },
    {
      "cell_type": "code",
      "source": [
        "#9개의 특성이 어떤 입력 조합으로 만들어졌는지 알려줌\n",
        "poly.get_feature_names_out()"
      ],
      "metadata": {
        "colab": {
          "base_uri": "https://localhost:8080/"
        },
        "id": "syEAz2b0BE_H",
        "outputId": "3dd4ba17-4933-4376-a9c3-dd88fe782e6e"
      },
      "execution_count": 24,
      "outputs": [
        {
          "output_type": "execute_result",
          "data": {
            "text/plain": [
              "array(['x0', 'x1', 'x2', 'x0^2', 'x0 x1', 'x0 x2', 'x1^2', 'x1 x2',\n",
              "       'x2^2'], dtype=object)"
            ]
          },
          "metadata": {},
          "execution_count": 24
        }
      ]
    },
    {
      "cell_type": "code",
      "source": [
        "#테스트 세트 변환\n",
        "test_poly = poly.transform(test_input)"
      ],
      "metadata": {
        "id": "MmjaUB2sBF_7"
      },
      "execution_count": 25,
      "outputs": []
    },
    {
      "cell_type": "markdown",
      "source": [
        "###다중회귀모델 훈련하기"
      ],
      "metadata": {
        "id": "rA9WvfNOBjj-"
      }
    },
    {
      "cell_type": "code",
      "source": [
        "#훈련세트 훈련후 점수확인\n",
        "from sklearn.linear_model import LinearRegression\n",
        "\n",
        "lr = LinearRegression()\n",
        "lr.fit(train_poly, train_target)\n",
        "print(lr.score(train_poly, train_target))"
      ],
      "metadata": {
        "colab": {
          "base_uri": "https://localhost:8080/"
        },
        "id": "tvPoOVaCBl-X",
        "outputId": "b4477165-0c74-480b-ea64-0a2f485e74bb"
      },
      "execution_count": 26,
      "outputs": [
        {
          "output_type": "stream",
          "name": "stdout",
          "text": [
            "0.9903183436982124\n"
          ]
        }
      ]
    },
    {
      "cell_type": "code",
      "source": [
        "# 테스트 세트에 대한 점수도 확인\n",
        "\n",
        "print(lr.score(test_poly, test_target))"
      ],
      "metadata": {
        "colab": {
          "base_uri": "https://localhost:8080/"
        },
        "id": "42SvgUu3B8b9",
        "outputId": "7a72977c-4625-4da5-fc4f-1df1b5db294c"
      },
      "execution_count": 27,
      "outputs": [
        {
          "output_type": "stream",
          "name": "stdout",
          "text": [
            "0.9714559911594133\n"
          ]
        }
      ]
    },
    {
      "cell_type": "markdown",
      "source": [
        "#StandardScaler클래스"
      ],
      "metadata": {
        "id": "1-W7xqJYCDtg"
      }
    },
    {
      "cell_type": "code",
      "source": [
        "from sklearn.preprocessing import StandardScaler\n",
        "\n",
        "ss = StandardScaler()\n",
        "ss.fit(train_poly) # 훈련세트로 훈련\n",
        "\n",
        "train_scaled = ss.transform(train_poly)\n",
        "test_scaled = ss.transform(test_poly)"
      ],
      "metadata": {
        "id": "QdjlOssDCQD3"
      },
      "execution_count": 28,
      "outputs": []
    },
    {
      "cell_type": "markdown",
      "source": [
        "선형 회귀 모델에 규제를 추가한 모델을 릿지(Ridge)와 라쏘(Lasso)라고 부름.  \n",
        "릿지는 계수를 제곱한 값을 기준으로 규제를 적용한다.  \n",
        "라쏘는 계수의 절대값을 기준으로 구제를 적용한다."
      ],
      "metadata": {
        "id": "VqlgESyOCUj7"
      }
    },
    {
      "cell_type": "markdown",
      "source": [
        "###릿지 회귀"
      ],
      "metadata": {
        "id": "0un9q2qmEgRb"
      }
    },
    {
      "cell_type": "code",
      "source": [
        "#릿지 회귀를 활용해 훈련시키고 점수확인\n",
        "from sklearn.linear_model import Ridge\n",
        "\n",
        "ridge = Ridge()\n",
        "ridge.fit(train_scaled, train_target)\n",
        "print(ridge.score(train_scaled, train_target))\n",
        "\n",
        "#테스트 점수확인\n",
        "print(ridge.score(test_scaled, test_target))"
      ],
      "metadata": {
        "colab": {
          "base_uri": "https://localhost:8080/"
        },
        "id": "iZdfrdeICsyF",
        "outputId": "8677944d-6c28-490b-a5ae-b564013e02bf"
      },
      "execution_count": 29,
      "outputs": [
        {
          "output_type": "stream",
          "name": "stdout",
          "text": [
            "0.9857915060511934\n",
            "0.9835057194929057\n"
          ]
        }
      ]
    },
    {
      "cell_type": "markdown",
      "source": [
        "릿지와 라쏘 모델을 사용할 때 규제의 양을 임의로 조절할 수 있다. 모델 객체를 만들 때 alpha 매개변수로 규제의 강도를 조절할 수 있다.  \n",
        "\n",
        " alpha 값이 크면 규제 강도가 세지므로 계수 값을 더 줄이고 조금 더 과소적합되도록 유도함. 반대로 alpha 값이 작으면 계수를 줄이는 역할이 줄어들고 선형 회귀 모델과 유사해지므로 과대적합될 가능성이 큼.  \n",
        "  \n",
        "alpha값은 릿지 모델이 학습하는 값이 아니라 우리가 지정해야하는 값이다.  \n",
        "이렇게 머신러닝 모델이 학습할 수 없고, 사람이 직접 지정해야하는 파라미터를 하이퍼파라미터라고 부른다."
      ],
      "metadata": {
        "id": "tLHXESrGDetE"
      }
    },
    {
      "cell_type": "code",
      "source": [
        "import matplotlib.pyplot as plt\n",
        "\n",
        "# alpha값이 바뀔 때마다 score() 메서드의 결과를 저장할 리스트를 만듦\n",
        "train_score = []\n",
        "test_score = []"
      ],
      "metadata": {
        "id": "2leFGaUmDboV"
      },
      "execution_count": 30,
      "outputs": []
    },
    {
      "cell_type": "code",
      "source": [
        "# alpha 값을 0.001에서 100까지 10배씩 늘려가며 릿지 회귀 모델을 훈련한 다음\n",
        "# 훈련 세트와 테스트 세트의 점수를 리스트에 저장\n",
        "\n",
        "alpha_list = [0.001, 0.01, 0.1, 1, 10, 100]\n",
        "for i in alpha_list:\n",
        "    # 릿지 모델을 만듦\n",
        "    ridge = Ridge(alpha=i)\n",
        "    # 릿지 모델을 훈련\n",
        "    ridge.fit(train_scaled, train_target)\n",
        "    # 훈련 점수와 테스트 점수를 저장\n",
        "    train_score.append(ridge.score(train_scaled, train_target))\n",
        "    test_score.append(ridge.score(test_scaled, test_target))"
      ],
      "metadata": {
        "id": "6D2pPaRxDcji"
      },
      "execution_count": 31,
      "outputs": []
    },
    {
      "cell_type": "code",
      "source": [
        "# alpha_list에 있는 6개의 값을 동일한 간격으로 나타내기 위해 로그 함수로 바꾸어 지수로 표현\n",
        "\n",
        "plt.plot(np.log10(alpha_list), train_score, label=\"train set\")\n",
        "plt.plot(np.log10(alpha_list), test_score, label=\"test set\")\n",
        "plt.xlabel('alpha')\n",
        "plt.ylabel('R^2')\n",
        "plt.legend()\n",
        "plt.show()"
      ],
      "metadata": {
        "colab": {
          "base_uri": "https://localhost:8080/",
          "height": 279
        },
        "id": "muP1binWEPUF",
        "outputId": "2968fd45-5185-474a-e400-61751088294c"
      },
      "execution_count": 32,
      "outputs": [
        {
          "output_type": "display_data",
          "data": {
            "text/plain": [
              "<Figure size 432x288 with 1 Axes>"
            ],
            "image/png": "[encoded data removed]"
          },
          "metadata": {
            "needs_background": "light"
          }
        }
      ]
    }
  ]
}