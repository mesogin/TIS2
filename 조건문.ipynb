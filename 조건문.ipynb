{
  "nbformat": 4,
  "nbformat_minor": 0,
  "metadata": {
    "colab": {
      "provenance": [],
      "authorship_tag": "ABX9TyOOS916nwd0R6X3TkoMTyuK",
      "include_colab_link": true
    },
    "kernelspec": {
      "name": "python3",
      "display_name": "Python 3"
    },
    "language_info": {
      "name": "python"
    }
  },
  "cells": [
    {
      "cell_type": "markdown",
      "metadata": {
        "id": "view-in-github",
        "colab_type": "text"
      },
      "source": [
        "<a href=\"https://colab.research.google.com/github/mesogin/TIS2/blob/main/%EC%A1%B0%EA%B1%B4%EB%AC%B8.ipynb\" target=\"_parent\"><img src=\"https://colab.research.google.com/assets/colab-badge.svg\" alt=\"Open In Colab\"/></a>"
      ]
    },
    {
      "cell_type": "code",
      "execution_count": null,
      "metadata": {
        "colab": {
          "base_uri": "https://localhost:8080/"
        },
        "id": "FYvvVlPRtJmH",
        "outputId": "d063f449-5d2e-4c1d-9cbe-b8ae4865541c"
      },
      "outputs": [
        {
          "output_type": "stream",
          "name": "stdout",
          "text": [
            "3\n"
          ]
        }
      ],
      "source": [
        "cond = True\n",
        "\n",
        "if cond:\n",
        "  print(1+2)\n",
        "else:\n",
        "  print(3+4)\n"
      ]
    },
    {
      "cell_type": "code",
      "source": [
        "if 3>1:\n",
        "  print(\"참\")\n",
        "else:\n",
        "  print(\"거짓\")"
      ],
      "metadata": {
        "colab": {
          "base_uri": "https://localhost:8080/"
        },
        "id": "HMxedGC4uJIP",
        "outputId": "810487f6-6447-4c81-8f05-92c48fbf90bf"
      },
      "execution_count": null,
      "outputs": [
        {
          "output_type": "stream",
          "name": "stdout",
          "text": [
            "참\n"
          ]
        }
      ]
    },
    {
      "cell_type": "code",
      "source": [
        "#참 거짓 연습\n",
        "print(3 < 2)\n",
        "print(3 == 3)\n",
        "print(2+2 != 5)\n",
        "print(len(\"ABC\") >= 2)\n",
        "print(1 in [1,2,3,4])\n",
        "print(1 not in [1,2,3,4])"
      ],
      "metadata": {
        "id": "stabDAf7z1ES"
      },
      "execution_count": null,
      "outputs": []
    },
    {
      "cell_type": "code",
      "source": [
        "#or and 연습\n",
        "print((3>1) & (3<2))\n",
        "print((3>1) | (3<2))"
      ],
      "metadata": {
        "colab": {
          "base_uri": "https://localhost:8080/"
        },
        "id": "h5HbJo6wz6GI",
        "outputId": "2adb1129-7753-473a-dba0-6e08bb2bc816"
      },
      "execution_count": 8,
      "outputs": [
        {
          "output_type": "stream",
          "name": "stdout",
          "text": [
            "False\n",
            "True\n"
          ]
        }
      ]
    },
    {
      "cell_type": "code",
      "source": [
        "#확인\n",
        "L = [1, 2, 3]\n",
        "S = \"abcde\"\n",
        "D = {\"A\": 1, \"B\": 2, \"C\": 3}\n",
        "\n",
        "print(1 in L)\n",
        "print(2 not in L)\n",
        "print(\"abc\" in S)\n",
        "print(\"ac\" in S)\n",
        "print((\"a\" in S) & (\"c\" in S))\n",
        "print(\"A\" in D)"
      ],
      "metadata": {
        "colab": {
          "base_uri": "https://localhost:8080/"
        },
        "id": "Vu9-FUPw0wlp",
        "outputId": "167d8531-89c6-4238-9617-ebc511b77982"
      },
      "execution_count": 12,
      "outputs": [
        {
          "output_type": "stream",
          "name": "stdout",
          "text": [
            "True\n",
            "False\n",
            "True\n",
            "False\n",
            "True\n",
            "True\n"
          ]
        }
      ]
    }
  ]
}